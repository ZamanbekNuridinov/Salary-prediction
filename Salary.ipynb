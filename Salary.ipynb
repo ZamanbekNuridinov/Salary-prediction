{
  "nbformat": 4,
  "nbformat_minor": 0,
  "metadata": {
    "colab": {
      "name": "Salary.ipynb",
      "provenance": [],
      "collapsed_sections": [
        "AL3sS4Xnp17j",
        "vzO7Y8tdjLeB",
        "zSPxHaP28Nl-",
        "AOEa4n7G-dio",
        "bhqhZ1HBHF39",
        "6anchAfIYg2s",
        "5wo7ytS-eal1",
        "qOdwG6W9gPGv",
        "uqKUWRe8j3j5",
        "8qqH1r-fmdqt",
        "DB-RNB_8pEOD",
        "xDOaRxEyn4NV"
      ],
      "mount_file_id": "1yhMA2N1c5O9K0NybxWvShUxHiArGNulv",
      "authorship_tag": "ABX9TyMZHVDH05yhGXrRW0NGiKnl",
      "include_colab_link": true
    },
    "kernelspec": {
      "name": "python3",
      "display_name": "Python 3"
    },
    "language_info": {
      "name": "python"
    }
  },
  "cells": [
    {
      "cell_type": "markdown",
      "metadata": {
        "id": "view-in-github",
        "colab_type": "text"
      },
      "source": [
        "<a href=\"https://colab.research.google.com/github/ZamanbekNuridinov/Salary-prediction/blob/main/Salary.ipynb\" target=\"_parent\"><img src=\"https://colab.research.google.com/assets/colab-badge.svg\" alt=\"Open In Colab\"/></a>"
      ]
    },
    {
      "cell_type": "markdown",
      "source": [
        "Salary prediction "
      ],
      "metadata": {
        "id": "MStfMWZ8UT0F"
      }
    },
    {
      "cell_type": "code",
      "source": [
        "import time\n",
        "from datetime import datetime\n",
        "#measure notebook running time\n",
        "start_time = time.time()\n",
        "\n",
        "%matplotlib inline\n",
        "\n",
        "import numpy as np \n",
        "from numpy.random import seed\n",
        "import pandas as pd \n",
        "from matplotlib import pyplot as plt\n",
        "import seaborn as sns\n",
        "\n",
        "# from google.colab import files\n",
        "# uploaded = files.upload()\n",
        "\n",
        "from sklearn.preprocessing import StandardScaler, RobustScaler, MinMaxScaler\n",
        "from sklearn.model_selection import train_test_split, cross_val_score, KFold, GridSearchCV, RandomizedSearchCV\n",
        "from sklearn.metrics import mean_squared_error\n",
        "\n",
        "from sklearn.decomposition import PCA\n",
        "from sklearn.manifold import TSNE\n",
        "from sklearn.tree import DecisionTreeRegressor\n",
        "from sklearn.ensemble import ExtraTreesRegressor,RandomForestRegressor,AdaBoostRegressor, GradientBoostingRegressor\n",
        "from sklearn.linear_model import ElasticNet, Lasso, Ridge,LinearRegression,HuberRegressor, SGDRegressor\n",
        "from sklearn.kernel_ridge import KernelRidge\n",
        "from sklearn.svm import SVR\n",
        "import xgboost as xgb\n",
        "import lightgbm as lgb\n",
        "\n",
        "#sns.set(rc={'figure.figsize':(10,8)})\n",
        "sns.set(style='darkgrid', context='notebook', palette='deep', rc={'figure.figsize':(10,8)})"
      ],
      "metadata": {
        "id": "-Rl-Jjy7UZ9D"
      },
      "execution_count": null,
      "outputs": []
    },
    {
      "cell_type": "code",
      "source": [
        "predict = pd.read_csv(\"/content/drive/MyDrive/Thesis/salary_predict.csv\")\n",
        "train = pd.read_csv(\"/content/drive/MyDrive/Thesis/salary_train.csv\")"
      ],
      "metadata": {
        "id": "Ul0olzn4Ukkt"
      },
      "execution_count": null,
      "outputs": []
    },
    {
      "cell_type": "code",
      "source": [
        "train.head()"
      ],
      "metadata": {
        "colab": {
          "base_uri": "https://localhost:8080/",
          "height": 206
        },
        "id": "edXJTusp5Zaa",
        "outputId": "7d82cb22-36ca-400e-b53a-26e66cb51a33"
      },
      "execution_count": null,
      "outputs": [
        {
          "output_type": "execute_result",
          "data": {
            "text/plain": [
              "   Id  algebra  programming  data science  robotics  economics  \\\n",
              "0   0       87           62            86        61         90   \n",
              "1   1       76           84            76        80         79   \n",
              "2   2       56           55            99        82         98   \n",
              "3   3       99           66            65        84         58   \n",
              "4   4       73           87            56        84         73   \n",
              "\n",
              "                job  salary  \n",
              "0  junior developer  140000  \n",
              "1    data scientist  780000  \n",
              "2         developer  210000  \n",
              "3         economist  420000  \n",
              "4    data scientist  760000  "
            ],
            "text/html": [
              "\n",
              "  <div id=\"df-86e3ad5b-5c99-4828-92c1-3e88c77bb19b\">\n",
              "    <div class=\"colab-df-container\">\n",
              "      <div>\n",
              "<style scoped>\n",
              "    .dataframe tbody tr th:only-of-type {\n",
              "        vertical-align: middle;\n",
              "    }\n",
              "\n",
              "    .dataframe tbody tr th {\n",
              "        vertical-align: top;\n",
              "    }\n",
              "\n",
              "    .dataframe thead th {\n",
              "        text-align: right;\n",
              "    }\n",
              "</style>\n",
              "<table border=\"1\" class=\"dataframe\">\n",
              "  <thead>\n",
              "    <tr style=\"text-align: right;\">\n",
              "      <th></th>\n",
              "      <th>Id</th>\n",
              "      <th>algebra</th>\n",
              "      <th>programming</th>\n",
              "      <th>data science</th>\n",
              "      <th>robotics</th>\n",
              "      <th>economics</th>\n",
              "      <th>job</th>\n",
              "      <th>salary</th>\n",
              "    </tr>\n",
              "  </thead>\n",
              "  <tbody>\n",
              "    <tr>\n",
              "      <th>0</th>\n",
              "      <td>0</td>\n",
              "      <td>87</td>\n",
              "      <td>62</td>\n",
              "      <td>86</td>\n",
              "      <td>61</td>\n",
              "      <td>90</td>\n",
              "      <td>junior developer</td>\n",
              "      <td>140000</td>\n",
              "    </tr>\n",
              "    <tr>\n",
              "      <th>1</th>\n",
              "      <td>1</td>\n",
              "      <td>76</td>\n",
              "      <td>84</td>\n",
              "      <td>76</td>\n",
              "      <td>80</td>\n",
              "      <td>79</td>\n",
              "      <td>data scientist</td>\n",
              "      <td>780000</td>\n",
              "    </tr>\n",
              "    <tr>\n",
              "      <th>2</th>\n",
              "      <td>2</td>\n",
              "      <td>56</td>\n",
              "      <td>55</td>\n",
              "      <td>99</td>\n",
              "      <td>82</td>\n",
              "      <td>98</td>\n",
              "      <td>developer</td>\n",
              "      <td>210000</td>\n",
              "    </tr>\n",
              "    <tr>\n",
              "      <th>3</th>\n",
              "      <td>3</td>\n",
              "      <td>99</td>\n",
              "      <td>66</td>\n",
              "      <td>65</td>\n",
              "      <td>84</td>\n",
              "      <td>58</td>\n",
              "      <td>economist</td>\n",
              "      <td>420000</td>\n",
              "    </tr>\n",
              "    <tr>\n",
              "      <th>4</th>\n",
              "      <td>4</td>\n",
              "      <td>73</td>\n",
              "      <td>87</td>\n",
              "      <td>56</td>\n",
              "      <td>84</td>\n",
              "      <td>73</td>\n",
              "      <td>data scientist</td>\n",
              "      <td>760000</td>\n",
              "    </tr>\n",
              "  </tbody>\n",
              "</table>\n",
              "</div>\n",
              "      <button class=\"colab-df-convert\" onclick=\"convertToInteractive('df-86e3ad5b-5c99-4828-92c1-3e88c77bb19b')\"\n",
              "              title=\"Convert this dataframe to an interactive table.\"\n",
              "              style=\"display:none;\">\n",
              "        \n",
              "  <svg xmlns=\"http://www.w3.org/2000/svg\" height=\"24px\"viewBox=\"0 0 24 24\"\n",
              "       width=\"24px\">\n",
              "    <path d=\"M0 0h24v24H0V0z\" fill=\"none\"/>\n",
              "    <path d=\"M18.56 5.44l.94 2.06.94-2.06 2.06-.94-2.06-.94-.94-2.06-.94 2.06-2.06.94zm-11 1L8.5 8.5l.94-2.06 2.06-.94-2.06-.94L8.5 2.5l-.94 2.06-2.06.94zm10 10l.94 2.06.94-2.06 2.06-.94-2.06-.94-.94-2.06-.94 2.06-2.06.94z\"/><path d=\"M17.41 7.96l-1.37-1.37c-.4-.4-.92-.59-1.43-.59-.52 0-1.04.2-1.43.59L10.3 9.45l-7.72 7.72c-.78.78-.78 2.05 0 2.83L4 21.41c.39.39.9.59 1.41.59.51 0 1.02-.2 1.41-.59l7.78-7.78 2.81-2.81c.8-.78.8-2.07 0-2.86zM5.41 20L4 18.59l7.72-7.72 1.47 1.35L5.41 20z\"/>\n",
              "  </svg>\n",
              "      </button>\n",
              "      \n",
              "  <style>\n",
              "    .colab-df-container {\n",
              "      display:flex;\n",
              "      flex-wrap:wrap;\n",
              "      gap: 12px;\n",
              "    }\n",
              "\n",
              "    .colab-df-convert {\n",
              "      background-color: #E8F0FE;\n",
              "      border: none;\n",
              "      border-radius: 50%;\n",
              "      cursor: pointer;\n",
              "      display: none;\n",
              "      fill: #1967D2;\n",
              "      height: 32px;\n",
              "      padding: 0 0 0 0;\n",
              "      width: 32px;\n",
              "    }\n",
              "\n",
              "    .colab-df-convert:hover {\n",
              "      background-color: #E2EBFA;\n",
              "      box-shadow: 0px 1px 2px rgba(60, 64, 67, 0.3), 0px 1px 3px 1px rgba(60, 64, 67, 0.15);\n",
              "      fill: #174EA6;\n",
              "    }\n",
              "\n",
              "    [theme=dark] .colab-df-convert {\n",
              "      background-color: #3B4455;\n",
              "      fill: #D2E3FC;\n",
              "    }\n",
              "\n",
              "    [theme=dark] .colab-df-convert:hover {\n",
              "      background-color: #434B5C;\n",
              "      box-shadow: 0px 1px 3px 1px rgba(0, 0, 0, 0.15);\n",
              "      filter: drop-shadow(0px 1px 2px rgba(0, 0, 0, 0.3));\n",
              "      fill: #FFFFFF;\n",
              "    }\n",
              "  </style>\n",
              "\n",
              "      <script>\n",
              "        const buttonEl =\n",
              "          document.querySelector('#df-86e3ad5b-5c99-4828-92c1-3e88c77bb19b button.colab-df-convert');\n",
              "        buttonEl.style.display =\n",
              "          google.colab.kernel.accessAllowed ? 'block' : 'none';\n",
              "\n",
              "        async function convertToInteractive(key) {\n",
              "          const element = document.querySelector('#df-86e3ad5b-5c99-4828-92c1-3e88c77bb19b');\n",
              "          const dataTable =\n",
              "            await google.colab.kernel.invokeFunction('convertToInteractive',\n",
              "                                                     [key], {});\n",
              "          if (!dataTable) return;\n",
              "\n",
              "          const docLinkHtml = 'Like what you see? Visit the ' +\n",
              "            '<a target=\"_blank\" href=https://colab.research.google.com/notebooks/data_table.ipynb>data table notebook</a>'\n",
              "            + ' to learn more about interactive tables.';\n",
              "          element.innerHTML = '';\n",
              "          dataTable['output_type'] = 'display_data';\n",
              "          await google.colab.output.renderOutput(dataTable, element);\n",
              "          const docLink = document.createElement('div');\n",
              "          docLink.innerHTML = docLinkHtml;\n",
              "          element.appendChild(docLink);\n",
              "        }\n",
              "      </script>\n",
              "    </div>\n",
              "  </div>\n",
              "  "
            ]
          },
          "metadata": {},
          "execution_count": 3
        }
      ]
    },
    {
      "cell_type": "code",
      "source": [
        "predict.head()"
      ],
      "metadata": {
        "colab": {
          "base_uri": "https://localhost:8080/",
          "height": 206
        },
        "id": "W45lxE3YSZNm",
        "outputId": "2dd66dc8-a802-49b3-a27c-241b005b7f84"
      },
      "execution_count": null,
      "outputs": [
        {
          "output_type": "execute_result",
          "data": {
            "text/plain": [
              "     Id  algebra  programming  data science  robotics  economics  \\\n",
              "0  9000       73           59            57        54         61   \n",
              "1  9001       77           80            53        93         80   \n",
              "2  9002       95           72            88        63         84   \n",
              "3  9003       83           88            97        75         50   \n",
              "4  9004       52           85            92        87         62   \n",
              "\n",
              "                 job  salary  \n",
              "0  robotics engineer       0  \n",
              "1   senior developer       0  \n",
              "2          developer       0  \n",
              "3  robotics engineer       0  \n",
              "4   junior developer       0  "
            ],
            "text/html": [
              "\n",
              "  <div id=\"df-7bff70aa-22f5-4a88-a513-47160f3a2dd8\">\n",
              "    <div class=\"colab-df-container\">\n",
              "      <div>\n",
              "<style scoped>\n",
              "    .dataframe tbody tr th:only-of-type {\n",
              "        vertical-align: middle;\n",
              "    }\n",
              "\n",
              "    .dataframe tbody tr th {\n",
              "        vertical-align: top;\n",
              "    }\n",
              "\n",
              "    .dataframe thead th {\n",
              "        text-align: right;\n",
              "    }\n",
              "</style>\n",
              "<table border=\"1\" class=\"dataframe\">\n",
              "  <thead>\n",
              "    <tr style=\"text-align: right;\">\n",
              "      <th></th>\n",
              "      <th>Id</th>\n",
              "      <th>algebra</th>\n",
              "      <th>programming</th>\n",
              "      <th>data science</th>\n",
              "      <th>robotics</th>\n",
              "      <th>economics</th>\n",
              "      <th>job</th>\n",
              "      <th>salary</th>\n",
              "    </tr>\n",
              "  </thead>\n",
              "  <tbody>\n",
              "    <tr>\n",
              "      <th>0</th>\n",
              "      <td>9000</td>\n",
              "      <td>73</td>\n",
              "      <td>59</td>\n",
              "      <td>57</td>\n",
              "      <td>54</td>\n",
              "      <td>61</td>\n",
              "      <td>robotics engineer</td>\n",
              "      <td>0</td>\n",
              "    </tr>\n",
              "    <tr>\n",
              "      <th>1</th>\n",
              "      <td>9001</td>\n",
              "      <td>77</td>\n",
              "      <td>80</td>\n",
              "      <td>53</td>\n",
              "      <td>93</td>\n",
              "      <td>80</td>\n",
              "      <td>senior developer</td>\n",
              "      <td>0</td>\n",
              "    </tr>\n",
              "    <tr>\n",
              "      <th>2</th>\n",
              "      <td>9002</td>\n",
              "      <td>95</td>\n",
              "      <td>72</td>\n",
              "      <td>88</td>\n",
              "      <td>63</td>\n",
              "      <td>84</td>\n",
              "      <td>developer</td>\n",
              "      <td>0</td>\n",
              "    </tr>\n",
              "    <tr>\n",
              "      <th>3</th>\n",
              "      <td>9003</td>\n",
              "      <td>83</td>\n",
              "      <td>88</td>\n",
              "      <td>97</td>\n",
              "      <td>75</td>\n",
              "      <td>50</td>\n",
              "      <td>robotics engineer</td>\n",
              "      <td>0</td>\n",
              "    </tr>\n",
              "    <tr>\n",
              "      <th>4</th>\n",
              "      <td>9004</td>\n",
              "      <td>52</td>\n",
              "      <td>85</td>\n",
              "      <td>92</td>\n",
              "      <td>87</td>\n",
              "      <td>62</td>\n",
              "      <td>junior developer</td>\n",
              "      <td>0</td>\n",
              "    </tr>\n",
              "  </tbody>\n",
              "</table>\n",
              "</div>\n",
              "      <button class=\"colab-df-convert\" onclick=\"convertToInteractive('df-7bff70aa-22f5-4a88-a513-47160f3a2dd8')\"\n",
              "              title=\"Convert this dataframe to an interactive table.\"\n",
              "              style=\"display:none;\">\n",
              "        \n",
              "  <svg xmlns=\"http://www.w3.org/2000/svg\" height=\"24px\"viewBox=\"0 0 24 24\"\n",
              "       width=\"24px\">\n",
              "    <path d=\"M0 0h24v24H0V0z\" fill=\"none\"/>\n",
              "    <path d=\"M18.56 5.44l.94 2.06.94-2.06 2.06-.94-2.06-.94-.94-2.06-.94 2.06-2.06.94zm-11 1L8.5 8.5l.94-2.06 2.06-.94-2.06-.94L8.5 2.5l-.94 2.06-2.06.94zm10 10l.94 2.06.94-2.06 2.06-.94-2.06-.94-.94-2.06-.94 2.06-2.06.94z\"/><path d=\"M17.41 7.96l-1.37-1.37c-.4-.4-.92-.59-1.43-.59-.52 0-1.04.2-1.43.59L10.3 9.45l-7.72 7.72c-.78.78-.78 2.05 0 2.83L4 21.41c.39.39.9.59 1.41.59.51 0 1.02-.2 1.41-.59l7.78-7.78 2.81-2.81c.8-.78.8-2.07 0-2.86zM5.41 20L4 18.59l7.72-7.72 1.47 1.35L5.41 20z\"/>\n",
              "  </svg>\n",
              "      </button>\n",
              "      \n",
              "  <style>\n",
              "    .colab-df-container {\n",
              "      display:flex;\n",
              "      flex-wrap:wrap;\n",
              "      gap: 12px;\n",
              "    }\n",
              "\n",
              "    .colab-df-convert {\n",
              "      background-color: #E8F0FE;\n",
              "      border: none;\n",
              "      border-radius: 50%;\n",
              "      cursor: pointer;\n",
              "      display: none;\n",
              "      fill: #1967D2;\n",
              "      height: 32px;\n",
              "      padding: 0 0 0 0;\n",
              "      width: 32px;\n",
              "    }\n",
              "\n",
              "    .colab-df-convert:hover {\n",
              "      background-color: #E2EBFA;\n",
              "      box-shadow: 0px 1px 2px rgba(60, 64, 67, 0.3), 0px 1px 3px 1px rgba(60, 64, 67, 0.15);\n",
              "      fill: #174EA6;\n",
              "    }\n",
              "\n",
              "    [theme=dark] .colab-df-convert {\n",
              "      background-color: #3B4455;\n",
              "      fill: #D2E3FC;\n",
              "    }\n",
              "\n",
              "    [theme=dark] .colab-df-convert:hover {\n",
              "      background-color: #434B5C;\n",
              "      box-shadow: 0px 1px 3px 1px rgba(0, 0, 0, 0.15);\n",
              "      filter: drop-shadow(0px 1px 2px rgba(0, 0, 0, 0.3));\n",
              "      fill: #FFFFFF;\n",
              "    }\n",
              "  </style>\n",
              "\n",
              "      <script>\n",
              "        const buttonEl =\n",
              "          document.querySelector('#df-7bff70aa-22f5-4a88-a513-47160f3a2dd8 button.colab-df-convert');\n",
              "        buttonEl.style.display =\n",
              "          google.colab.kernel.accessAllowed ? 'block' : 'none';\n",
              "\n",
              "        async function convertToInteractive(key) {\n",
              "          const element = document.querySelector('#df-7bff70aa-22f5-4a88-a513-47160f3a2dd8');\n",
              "          const dataTable =\n",
              "            await google.colab.kernel.invokeFunction('convertToInteractive',\n",
              "                                                     [key], {});\n",
              "          if (!dataTable) return;\n",
              "\n",
              "          const docLinkHtml = 'Like what you see? Visit the ' +\n",
              "            '<a target=\"_blank\" href=https://colab.research.google.com/notebooks/data_table.ipynb>data table notebook</a>'\n",
              "            + ' to learn more about interactive tables.';\n",
              "          element.innerHTML = '';\n",
              "          dataTable['output_type'] = 'display_data';\n",
              "          await google.colab.output.renderOutput(dataTable, element);\n",
              "          const docLink = document.createElement('div');\n",
              "          docLink.innerHTML = docLinkHtml;\n",
              "          element.appendChild(docLink);\n",
              "        }\n",
              "      </script>\n",
              "    </div>\n",
              "  </div>\n",
              "  "
            ]
          },
          "metadata": {},
          "execution_count": 4
        }
      ]
    },
    {
      "cell_type": "code",
      "source": [
        "train.shape"
      ],
      "metadata": {
        "colab": {
          "base_uri": "https://localhost:8080/"
        },
        "id": "ka89TWfpSdre",
        "outputId": "b03d43d3-a5fc-4998-f8fa-63d83a0bedb1"
      },
      "execution_count": null,
      "outputs": [
        {
          "output_type": "execute_result",
          "data": {
            "text/plain": [
              "(9000, 8)"
            ]
          },
          "metadata": {},
          "execution_count": 5
        }
      ]
    },
    {
      "cell_type": "code",
      "source": [
        "cols = train.columns[:81] \n",
        "colours = ['#B0E7AE','#F07470'] \n",
        "sns.heatmap(train[cols].isnull(),cmap = sns.color_palette(colours))"
      ],
      "metadata": {
        "colab": {
          "base_uri": "https://localhost:8080/",
          "height": 355
        },
        "id": "DCtgBZ4euno3",
        "outputId": "12355442-2789-49c3-f5b0-97e689c2f8df"
      },
      "execution_count": null,
      "outputs": [
        {
          "output_type": "execute_result",
          "data": {
            "text/plain": [
              "<matplotlib.axes._subplots.AxesSubplot at 0x7fd911283f50>"
            ]
          },
          "metadata": {},
          "execution_count": 6
        },
        {
          "output_type": "display_data",
          "data": {
            "text/plain": [
              "<Figure size 432x288 with 2 Axes>"
            ],
            "image/png": "[encoded data removed]"
          },
          "metadata": {
            "needs_background": "light"
          }
        }
      ]
    },
    {
      "cell_type": "code",
      "source": [
        "train[train.columns[train.isna().sum() > -1]].isna().sum().sort_values().plot.bar();  "
      ],
      "metadata": {
        "colab": {
          "base_uri": "https://localhost:8080/",
          "height": 333
        },
        "id": "ums7PGAoOyL5",
        "outputId": "945e95fa-1665-468a-8f3e-b24a1e8d1059"
      },
      "execution_count": null,
      "outputs": [
        {
          "output_type": "display_data",
          "data": {
            "text/plain": [
              "<Figure size 432x288 with 1 Axes>"
            ],
            "image/png": "[encoded data removed]"
          },
          "metadata": {
            "needs_background": "light"
          }
        }
      ]
    },
    {
      "cell_type": "code",
      "source": [
        "for col in train.columns:\n",
        "    value_missing = np.mean(train[col].isnull())\n",
        "    print('{} - {}%'.format(col,round(value_missing*100)))"
      ],
      "metadata": {
        "colab": {
          "base_uri": "https://localhost:8080/"
        },
        "id": "4oCbGEe9PJtK",
        "outputId": "c6b15a18-8255-4a1a-d642-eac0017fa258"
      },
      "execution_count": null,
      "outputs": [
        {
          "output_type": "stream",
          "name": "stdout",
          "text": [
            "Id - 0%\n",
            "algebra - 0%\n",
            "programming - 0%\n",
            "data science - 0%\n",
            "robotics - 0%\n",
            "economics - 0%\n",
            "job - 0%\n",
            "salary - 0%\n"
          ]
        }
      ]
    },
    {
      "cell_type": "code",
      "source": [
        "train.describe()"
      ],
      "metadata": {
        "colab": {
          "base_uri": "https://localhost:8080/",
          "height": 300
        },
        "id": "aJo58hbpPq70",
        "outputId": "40c3376d-563a-42cc-a4a0-1ded6882e6b6"
      },
      "execution_count": null,
      "outputs": [
        {
          "output_type": "execute_result",
          "data": {
            "text/plain": [
              "                Id      algebra  programming  data science     robotics  \\\n",
              "count  9000.000000  9000.000000  9000.000000   9000.000000  9000.000000   \n",
              "mean   4499.500000    74.485556    74.500111     74.349889    74.445444   \n",
              "std    2598.220545    14.470835    14.489513     14.340312    14.362890   \n",
              "min       0.000000    50.000000    50.000000     50.000000    50.000000   \n",
              "25%    2249.750000    62.000000    62.000000     62.000000    62.000000   \n",
              "50%    4499.500000    74.000000    74.000000     75.000000    74.000000   \n",
              "75%    6749.250000    87.000000    87.000000     87.000000    87.000000   \n",
              "max    8999.000000    99.000000    99.000000     99.000000    99.000000   \n",
              "\n",
              "         economics        salary  \n",
              "count  9000.000000  9.000000e+03  \n",
              "mean     74.620556  5.197633e+05  \n",
              "std      14.402834  2.805051e+05  \n",
              "min      50.000000  9.000000e+04  \n",
              "25%      62.000000  3.000000e+05  \n",
              "50%      75.000000  4.600000e+05  \n",
              "75%      87.000000  7.600000e+05  \n",
              "max      99.000000  1.350000e+06  "
            ],
            "text/html": [
              "\n",
              "  <div id=\"df-db1aa344-325b-446d-bea4-0962851109c0\">\n",
              "    <div class=\"colab-df-container\">\n",
              "      <div>\n",
              "<style scoped>\n",
              "    .dataframe tbody tr th:only-of-type {\n",
              "        vertical-align: middle;\n",
              "    }\n",
              "\n",
              "    .dataframe tbody tr th {\n",
              "        vertical-align: top;\n",
              "    }\n",
              "\n",
              "    .dataframe thead th {\n",
              "        text-align: right;\n",
              "    }\n",
              "</style>\n",
              "<table border=\"1\" class=\"dataframe\">\n",
              "  <thead>\n",
              "    <tr style=\"text-align: right;\">\n",
              "      <th></th>\n",
              "      <th>Id</th>\n",
              "      <th>algebra</th>\n",
              "      <th>programming</th>\n",
              "      <th>data science</th>\n",
              "      <th>robotics</th>\n",
              "      <th>economics</th>\n",
              "      <th>salary</th>\n",
              "    </tr>\n",
              "  </thead>\n",
              "  <tbody>\n",
              "    <tr>\n",
              "      <th>count</th>\n",
              "      <td>9000.000000</td>\n",
              "      <td>9000.000000</td>\n",
              "      <td>9000.000000</td>\n",
              "      <td>9000.000000</td>\n",
              "      <td>9000.000000</td>\n",
              "      <td>9000.000000</td>\n",
              "      <td>9.000000e+03</td>\n",
              "    </tr>\n",
              "    <tr>\n",
              "      <th>mean</th>\n",
              "      <td>4499.500000</td>\n",
              "      <td>74.485556</td>\n",
              "      <td>74.500111</td>\n",
              "      <td>74.349889</td>\n",
              "      <td>74.445444</td>\n",
              "      <td>74.620556</td>\n",
              "      <td>5.197633e+05</td>\n",
              "    </tr>\n",
              "    <tr>\n",
              "      <th>std</th>\n",
              "      <td>2598.220545</td>\n",
              "      <td>14.470835</td>\n",
              "      <td>14.489513</td>\n",
              "      <td>14.340312</td>\n",
              "      <td>14.362890</td>\n",
              "      <td>14.402834</td>\n",
              "      <td>2.805051e+05</td>\n",
              "    </tr>\n",
              "    <tr>\n",
              "      <th>min</th>\n",
              "      <td>0.000000</td>\n",
              "      <td>50.000000</td>\n",
              "      <td>50.000000</td>\n",
              "      <td>50.000000</td>\n",
              "      <td>50.000000</td>\n",
              "      <td>50.000000</td>\n",
              "      <td>9.000000e+04</td>\n",
              "    </tr>\n",
              "    <tr>\n",
              "      <th>25%</th>\n",
              "      <td>2249.750000</td>\n",
              "      <td>62.000000</td>\n",
              "      <td>62.000000</td>\n",
              "      <td>62.000000</td>\n",
              "      <td>62.000000</td>\n",
              "      <td>62.000000</td>\n",
              "      <td>3.000000e+05</td>\n",
              "    </tr>\n",
              "    <tr>\n",
              "      <th>50%</th>\n",
              "      <td>4499.500000</td>\n",
              "      <td>74.000000</td>\n",
              "      <td>74.000000</td>\n",
              "      <td>75.000000</td>\n",
              "      <td>74.000000</td>\n",
              "      <td>75.000000</td>\n",
              "      <td>4.600000e+05</td>\n",
              "    </tr>\n",
              "    <tr>\n",
              "      <th>75%</th>\n",
              "      <td>6749.250000</td>\n",
              "      <td>87.000000</td>\n",
              "      <td>87.000000</td>\n",
              "      <td>87.000000</td>\n",
              "      <td>87.000000</td>\n",
              "      <td>87.000000</td>\n",
              "      <td>7.600000e+05</td>\n",
              "    </tr>\n",
              "    <tr>\n",
              "      <th>max</th>\n",
              "      <td>8999.000000</td>\n",
              "      <td>99.000000</td>\n",
              "      <td>99.000000</td>\n",
              "      <td>99.000000</td>\n",
              "      <td>99.000000</td>\n",
              "      <td>99.000000</td>\n",
              "      <td>1.350000e+06</td>\n",
              "    </tr>\n",
              "  </tbody>\n",
              "</table>\n",
              "</div>\n",
              "      <button class=\"colab-df-convert\" onclick=\"convertToInteractive('df-db1aa344-325b-446d-bea4-0962851109c0')\"\n",
              "              title=\"Convert this dataframe to an interactive table.\"\n",
              "              style=\"display:none;\">\n",
              "        \n",
              "  <svg xmlns=\"http://www.w3.org/2000/svg\" height=\"24px\"viewBox=\"0 0 24 24\"\n",
              "       width=\"24px\">\n",
              "    <path d=\"M0 0h24v24H0V0z\" fill=\"none\"/>\n",
              "    <path d=\"M18.56 5.44l.94 2.06.94-2.06 2.06-.94-2.06-.94-.94-2.06-.94 2.06-2.06.94zm-11 1L8.5 8.5l.94-2.06 2.06-.94-2.06-.94L8.5 2.5l-.94 2.06-2.06.94zm10 10l.94 2.06.94-2.06 2.06-.94-2.06-.94-.94-2.06-.94 2.06-2.06.94z\"/><path d=\"M17.41 7.96l-1.37-1.37c-.4-.4-.92-.59-1.43-.59-.52 0-1.04.2-1.43.59L10.3 9.45l-7.72 7.72c-.78.78-.78 2.05 0 2.83L4 21.41c.39.39.9.59 1.41.59.51 0 1.02-.2 1.41-.59l7.78-7.78 2.81-2.81c.8-.78.8-2.07 0-2.86zM5.41 20L4 18.59l7.72-7.72 1.47 1.35L5.41 20z\"/>\n",
              "  </svg>\n",
              "      </button>\n",
              "      \n",
              "  <style>\n",
              "    .colab-df-container {\n",
              "      display:flex;\n",
              "      flex-wrap:wrap;\n",
              "      gap: 12px;\n",
              "    }\n",
              "\n",
              "    .colab-df-convert {\n",
              "      background-color: #E8F0FE;\n",
              "      border: none;\n",
              "      border-radius: 50%;\n",
              "      cursor: pointer;\n",
              "      display: none;\n",
              "      fill: #1967D2;\n",
              "      height: 32px;\n",
              "      padding: 0 0 0 0;\n",
              "      width: 32px;\n",
              "    }\n",
              "\n",
              "    .colab-df-convert:hover {\n",
              "      background-color: #E2EBFA;\n",
              "      box-shadow: 0px 1px 2px rgba(60, 64, 67, 0.3), 0px 1px 3px 1px rgba(60, 64, 67, 0.15);\n",
              "      fill: #174EA6;\n",
              "    }\n",
              "\n",
              "    [theme=dark] .colab-df-convert {\n",
              "      background-color: #3B4455;\n",
              "      fill: #D2E3FC;\n",
              "    }\n",
              "\n",
              "    [theme=dark] .colab-df-convert:hover {\n",
              "      background-color: #434B5C;\n",
              "      box-shadow: 0px 1px 3px 1px rgba(0, 0, 0, 0.15);\n",
              "      filter: drop-shadow(0px 1px 2px rgba(0, 0, 0, 0.3));\n",
              "      fill: #FFFFFF;\n",
              "    }\n",
              "  </style>\n",
              "\n",
              "      <script>\n",
              "        const buttonEl =\n",
              "          document.querySelector('#df-db1aa344-325b-446d-bea4-0962851109c0 button.colab-df-convert');\n",
              "        buttonEl.style.display =\n",
              "          google.colab.kernel.accessAllowed ? 'block' : 'none';\n",
              "\n",
              "        async function convertToInteractive(key) {\n",
              "          const element = document.querySelector('#df-db1aa344-325b-446d-bea4-0962851109c0');\n",
              "          const dataTable =\n",
              "            await google.colab.kernel.invokeFunction('convertToInteractive',\n",
              "                                                     [key], {});\n",
              "          if (!dataTable) return;\n",
              "\n",
              "          const docLinkHtml = 'Like what you see? Visit the ' +\n",
              "            '<a target=\"_blank\" href=https://colab.research.google.com/notebooks/data_table.ipynb>data table notebook</a>'\n",
              "            + ' to learn more about interactive tables.';\n",
              "          element.innerHTML = '';\n",
              "          dataTable['output_type'] = 'display_data';\n",
              "          await google.colab.output.renderOutput(dataTable, element);\n",
              "          const docLink = document.createElement('div');\n",
              "          docLink.innerHTML = docLinkHtml;\n",
              "          element.appendChild(docLink);\n",
              "        }\n",
              "      </script>\n",
              "    </div>\n",
              "  </div>\n",
              "  "
            ]
          },
          "metadata": {},
          "execution_count": 9
        }
      ]
    },
    {
      "cell_type": "code",
      "source": [
        "print(train['salary'].describe())\n",
        "plt.figure(figsize=(9, 8))\n",
        "sns.distplot(train['salary'], color='g', bins=100, hist_kws={'alpha': 0.4});\n",
        "# Оценка плотности ядра (KDE) — это способ оценки функции плотности вероятности непрерывной случайной величины\n",
        "# Функция distplot () предоставляет наиболее удобный способ быстро взглянуть на \n",
        "# одномерное распределение. Эта функция построит гистограмму, которая соответствует оценке плотности ядра данных."
      ],
      "metadata": {
        "colab": {
          "base_uri": "https://localhost:8080/",
          "height": 724
        },
        "id": "sPpbfn1JP3FO",
        "outputId": "fba2c570-9cab-41ed-919b-55e406ca1c39"
      },
      "execution_count": null,
      "outputs": [
        {
          "output_type": "stream",
          "name": "stdout",
          "text": [
            "count    9.000000e+03\n",
            "mean     5.197633e+05\n",
            "std      2.805051e+05\n",
            "min      9.000000e+04\n",
            "25%      3.000000e+05\n",
            "50%      4.600000e+05\n",
            "75%      7.600000e+05\n",
            "max      1.350000e+06\n",
            "Name: salary, dtype: float64\n"
          ]
        },
        {
          "output_type": "stream",
          "name": "stderr",
          "text": [
            "/usr/local/lib/python3.7/dist-packages/seaborn/distributions.py:2619: FutureWarning: `distplot` is a deprecated function and will be removed in a future version. Please adapt your code to use either `displot` (a figure-level function with similar flexibility) or `histplot` (an axes-level function for histograms).\n",
            "  warnings.warn(msg, FutureWarning)\n"
          ]
        },
        {
          "output_type": "display_data",
          "data": {
            "text/plain": [
              "<Figure size 648x576 with 1 Axes>"
            ],
            "image/png": "[encoded data removed]"
          },
          "metadata": {
            "needs_background": "light"
          }
        }
      ]
    },
    {
      "cell_type": "code",
      "source": [
        "train_num = train.select_dtypes(include = ['float64', 'int64'])\n",
        "train_num.hist(figsize=(16, 20), bins=50, xlabelsize=8, ylabelsize=8); "
      ],
      "metadata": {
        "colab": {
          "base_uri": "https://localhost:8080/",
          "height": 1000
        },
        "id": "jzYTtGhqQQYb",
        "outputId": "1fbc378b-e2b5-4663-afd2-83b1096edc09"
      },
      "execution_count": null,
      "outputs": [
        {
          "output_type": "display_data",
          "data": {
            "text/plain": [
              "<Figure size 1152x1440 with 9 Axes>"
            ],
            "image/png": "[encoded data removed]"
          },
          "metadata": {
            "needs_background": "light"
          }
        }
      ]
    },
    {
      "cell_type": "code",
      "source": [
        "train.job.unique()"
      ],
      "metadata": {
        "id": "5pUIYp5iQ7JP",
        "colab": {
          "base_uri": "https://localhost:8080/"
        },
        "outputId": "cdf3612c-e4ee-4464-e12a-a2bdf45c6228"
      },
      "execution_count": null,
      "outputs": [
        {
          "output_type": "execute_result",
          "data": {
            "text/plain": [
              "array(['junior developer', 'data scientist', 'developer', 'economist',\n",
              "       'robotics engineer', 'senior developer'], dtype=object)"
            ]
          },
          "metadata": {},
          "execution_count": 12
        }
      ]
    },
    {
      "cell_type": "code",
      "source": [
        "sns.boxplot(y=\"job\", x=\"salary\", data=train)"
      ],
      "metadata": {
        "colab": {
          "base_uri": "https://localhost:8080/",
          "height": 302
        },
        "id": "LgkfYsTcvfs5",
        "outputId": "dc0d05fd-d444-4cea-c0df-f804072fd88e"
      },
      "execution_count": null,
      "outputs": [
        {
          "output_type": "execute_result",
          "data": {
            "text/plain": [
              "<matplotlib.axes._subplots.AxesSubplot at 0x7fd90bc72690>"
            ]
          },
          "metadata": {},
          "execution_count": 13
        },
        {
          "output_type": "display_data",
          "data": {
            "text/plain": [
              "<Figure size 432x288 with 1 Axes>"
            ],
            "image/png": "[encoded data removed]"
          },
          "metadata": {
            "needs_background": "light"
          }
        }
      ]
    },
    {
      "cell_type": "code",
      "source": [
        "sns.boxplot(y=\"job\", x=\"programming\", data=train)"
      ],
      "metadata": {
        "colab": {
          "base_uri": "https://localhost:8080/",
          "height": 302
        },
        "id": "jKpWYqZm--rb",
        "outputId": "ca48d8f1-68a1-41e6-e5ef-7cd6df2e547c"
      },
      "execution_count": null,
      "outputs": [
        {
          "output_type": "execute_result",
          "data": {
            "text/plain": [
              "<matplotlib.axes._subplots.AxesSubplot at 0x7fd90bbcf790>"
            ]
          },
          "metadata": {},
          "execution_count": 14
        },
        {
          "output_type": "display_data",
          "data": {
            "text/plain": [
              "<Figure size 432x288 with 1 Axes>"
            ],
            "image/png": "[encoded data removed]"
          },
          "metadata": {
            "needs_background": "light"
          }
        }
      ]
    },
    {
      "cell_type": "code",
      "source": [
        "train = train.join(pd.get_dummies(train['job']))\n",
        "train = train.drop('job',axis = 1)\n",
        "# Мы делаем очистку от ненужных нам данных и оптимизируем данные для решение нашей задачи"
      ],
      "metadata": {
        "id": "dbzpyF9lASBZ"
      },
      "execution_count": null,
      "outputs": []
    },
    {
      "cell_type": "code",
      "source": [
        "train.head()"
      ],
      "metadata": {
        "colab": {
          "base_uri": "https://localhost:8080/",
          "height": 206
        },
        "id": "edewp6c1Atgp",
        "outputId": "89787c13-6ecf-49d5-b1f0-778e1120c113"
      },
      "execution_count": null,
      "outputs": [
        {
          "output_type": "execute_result",
          "data": {
            "text/plain": [
              "   Id  algebra  programming  data science  robotics  economics  salary  \\\n",
              "0   0       87           62            86        61         90  140000   \n",
              "1   1       76           84            76        80         79  780000   \n",
              "2   2       56           55            99        82         98  210000   \n",
              "3   3       99           66            65        84         58  420000   \n",
              "4   4       73           87            56        84         73  760000   \n",
              "\n",
              "   data scientist  developer  economist  junior developer  robotics engineer  \\\n",
              "0               0          0          0                 1                  0   \n",
              "1               1          0          0                 0                  0   \n",
              "2               0          1          0                 0                  0   \n",
              "3               0          0          1                 0                  0   \n",
              "4               1          0          0                 0                  0   \n",
              "\n",
              "   senior developer  \n",
              "0                 0  \n",
              "1                 0  \n",
              "2                 0  \n",
              "3                 0  \n",
              "4                 0  "
            ],
            "text/html": [
              "\n",
              "  <div id=\"df-fc8e2a76-855b-483f-97f1-ca85970a09b4\">\n",
              "    <div class=\"colab-df-container\">\n",
              "      <div>\n",
              "<style scoped>\n",
              "    .dataframe tbody tr th:only-of-type {\n",
              "        vertical-align: middle;\n",
              "    }\n",
              "\n",
              "    .dataframe tbody tr th {\n",
              "        vertical-align: top;\n",
              "    }\n",
              "\n",
              "    .dataframe thead th {\n",
              "        text-align: right;\n",
              "    }\n",
              "</style>\n",
              "<table border=\"1\" class=\"dataframe\">\n",
              "  <thead>\n",
              "    <tr style=\"text-align: right;\">\n",
              "      <th></th>\n",
              "      <th>Id</th>\n",
              "      <th>algebra</th>\n",
              "      <th>programming</th>\n",
              "      <th>data science</th>\n",
              "      <th>robotics</th>\n",
              "      <th>economics</th>\n",
              "      <th>salary</th>\n",
              "      <th>data scientist</th>\n",
              "      <th>developer</th>\n",
              "      <th>economist</th>\n",
              "      <th>junior developer</th>\n",
              "      <th>robotics engineer</th>\n",
              "      <th>senior developer</th>\n",
              "    </tr>\n",
              "  </thead>\n",
              "  <tbody>\n",
              "    <tr>\n",
              "      <th>0</th>\n",
              "      <td>0</td>\n",
              "      <td>87</td>\n",
              "      <td>62</td>\n",
              "      <td>86</td>\n",
              "      <td>61</td>\n",
              "      <td>90</td>\n",
              "      <td>140000</td>\n",
              "      <td>0</td>\n",
              "      <td>0</td>\n",
              "      <td>0</td>\n",
              "      <td>1</td>\n",
              "      <td>0</td>\n",
              "      <td>0</td>\n",
              "    </tr>\n",
              "    <tr>\n",
              "      <th>1</th>\n",
              "      <td>1</td>\n",
              "      <td>76</td>\n",
              "      <td>84</td>\n",
              "      <td>76</td>\n",
              "      <td>80</td>\n",
              "      <td>79</td>\n",
              "      <td>780000</td>\n",
              "      <td>1</td>\n",
              "      <td>0</td>\n",
              "      <td>0</td>\n",
              "      <td>0</td>\n",
              "      <td>0</td>\n",
              "      <td>0</td>\n",
              "    </tr>\n",
              "    <tr>\n",
              "      <th>2</th>\n",
              "      <td>2</td>\n",
              "      <td>56</td>\n",
              "      <td>55</td>\n",
              "      <td>99</td>\n",
              "      <td>82</td>\n",
              "      <td>98</td>\n",
              "      <td>210000</td>\n",
              "      <td>0</td>\n",
              "      <td>1</td>\n",
              "      <td>0</td>\n",
              "      <td>0</td>\n",
              "      <td>0</td>\n",
              "      <td>0</td>\n",
              "    </tr>\n",
              "    <tr>\n",
              "      <th>3</th>\n",
              "      <td>3</td>\n",
              "      <td>99</td>\n",
              "      <td>66</td>\n",
              "      <td>65</td>\n",
              "      <td>84</td>\n",
              "      <td>58</td>\n",
              "      <td>420000</td>\n",
              "      <td>0</td>\n",
              "      <td>0</td>\n",
              "      <td>1</td>\n",
              "      <td>0</td>\n",
              "      <td>0</td>\n",
              "      <td>0</td>\n",
              "    </tr>\n",
              "    <tr>\n",
              "      <th>4</th>\n",
              "      <td>4</td>\n",
              "      <td>73</td>\n",
              "      <td>87</td>\n",
              "      <td>56</td>\n",
              "      <td>84</td>\n",
              "      <td>73</td>\n",
              "      <td>760000</td>\n",
              "      <td>1</td>\n",
              "      <td>0</td>\n",
              "      <td>0</td>\n",
              "      <td>0</td>\n",
              "      <td>0</td>\n",
              "      <td>0</td>\n",
              "    </tr>\n",
              "  </tbody>\n",
              "</table>\n",
              "</div>\n",
              "      <button class=\"colab-df-convert\" onclick=\"convertToInteractive('df-fc8e2a76-855b-483f-97f1-ca85970a09b4')\"\n",
              "              title=\"Convert this dataframe to an interactive table.\"\n",
              "              style=\"display:none;\">\n",
              "        \n",
              "  <svg xmlns=\"http://www.w3.org/2000/svg\" height=\"24px\"viewBox=\"0 0 24 24\"\n",
              "       width=\"24px\">\n",
              "    <path d=\"M0 0h24v24H0V0z\" fill=\"none\"/>\n",
              "    <path d=\"M18.56 5.44l.94 2.06.94-2.06 2.06-.94-2.06-.94-.94-2.06-.94 2.06-2.06.94zm-11 1L8.5 8.5l.94-2.06 2.06-.94-2.06-.94L8.5 2.5l-.94 2.06-2.06.94zm10 10l.94 2.06.94-2.06 2.06-.94-2.06-.94-.94-2.06-.94 2.06-2.06.94z\"/><path d=\"M17.41 7.96l-1.37-1.37c-.4-.4-.92-.59-1.43-.59-.52 0-1.04.2-1.43.59L10.3 9.45l-7.72 7.72c-.78.78-.78 2.05 0 2.83L4 21.41c.39.39.9.59 1.41.59.51 0 1.02-.2 1.41-.59l7.78-7.78 2.81-2.81c.8-.78.8-2.07 0-2.86zM5.41 20L4 18.59l7.72-7.72 1.47 1.35L5.41 20z\"/>\n",
              "  </svg>\n",
              "      </button>\n",
              "      \n",
              "  <style>\n",
              "    .colab-df-container {\n",
              "      display:flex;\n",
              "      flex-wrap:wrap;\n",
              "      gap: 12px;\n",
              "    }\n",
              "\n",
              "    .colab-df-convert {\n",
              "      background-color: #E8F0FE;\n",
              "      border: none;\n",
              "      border-radius: 50%;\n",
              "      cursor: pointer;\n",
              "      display: none;\n",
              "      fill: #1967D2;\n",
              "      height: 32px;\n",
              "      padding: 0 0 0 0;\n",
              "      width: 32px;\n",
              "    }\n",
              "\n",
              "    .colab-df-convert:hover {\n",
              "      background-color: #E2EBFA;\n",
              "      box-shadow: 0px 1px 2px rgba(60, 64, 67, 0.3), 0px 1px 3px 1px rgba(60, 64, 67, 0.15);\n",
              "      fill: #174EA6;\n",
              "    }\n",
              "\n",
              "    [theme=dark] .colab-df-convert {\n",
              "      background-color: #3B4455;\n",
              "      fill: #D2E3FC;\n",
              "    }\n",
              "\n",
              "    [theme=dark] .colab-df-convert:hover {\n",
              "      background-color: #434B5C;\n",
              "      box-shadow: 0px 1px 3px 1px rgba(0, 0, 0, 0.15);\n",
              "      filter: drop-shadow(0px 1px 2px rgba(0, 0, 0, 0.3));\n",
              "      fill: #FFFFFF;\n",
              "    }\n",
              "  </style>\n",
              "\n",
              "      <script>\n",
              "        const buttonEl =\n",
              "          document.querySelector('#df-fc8e2a76-855b-483f-97f1-ca85970a09b4 button.colab-df-convert');\n",
              "        buttonEl.style.display =\n",
              "          google.colab.kernel.accessAllowed ? 'block' : 'none';\n",
              "\n",
              "        async function convertToInteractive(key) {\n",
              "          const element = document.querySelector('#df-fc8e2a76-855b-483f-97f1-ca85970a09b4');\n",
              "          const dataTable =\n",
              "            await google.colab.kernel.invokeFunction('convertToInteractive',\n",
              "                                                     [key], {});\n",
              "          if (!dataTable) return;\n",
              "\n",
              "          const docLinkHtml = 'Like what you see? Visit the ' +\n",
              "            '<a target=\"_blank\" href=https://colab.research.google.com/notebooks/data_table.ipynb>data table notebook</a>'\n",
              "            + ' to learn more about interactive tables.';\n",
              "          element.innerHTML = '';\n",
              "          dataTable['output_type'] = 'display_data';\n",
              "          await google.colab.output.renderOutput(dataTable, element);\n",
              "          const docLink = document.createElement('div');\n",
              "          docLink.innerHTML = docLinkHtml;\n",
              "          element.appendChild(docLink);\n",
              "        }\n",
              "      </script>\n",
              "    </div>\n",
              "  </div>\n",
              "  "
            ]
          },
          "metadata": {},
          "execution_count": 16
        }
      ]
    },
    {
      "cell_type": "code",
      "source": [
        "train.describe()"
      ],
      "metadata": {
        "colab": {
          "base_uri": "https://localhost:8080/",
          "height": 362
        },
        "id": "pLpAYB8qAyjk",
        "outputId": "ab124cf9-2cea-4a66-c199-ca00ac4cd9f8"
      },
      "execution_count": null,
      "outputs": [
        {
          "output_type": "execute_result",
          "data": {
            "text/plain": [
              "                Id      algebra  programming  data science     robotics  \\\n",
              "count  9000.000000  9000.000000  9000.000000   9000.000000  9000.000000   \n",
              "mean   4499.500000    74.485556    74.500111     74.349889    74.445444   \n",
              "std    2598.220545    14.470835    14.489513     14.340312    14.362890   \n",
              "min       0.000000    50.000000    50.000000     50.000000    50.000000   \n",
              "25%    2249.750000    62.000000    62.000000     62.000000    62.000000   \n",
              "50%    4499.500000    74.000000    74.000000     75.000000    74.000000   \n",
              "75%    6749.250000    87.000000    87.000000     87.000000    87.000000   \n",
              "max    8999.000000    99.000000    99.000000     99.000000    99.000000   \n",
              "\n",
              "         economics        salary  data scientist    developer    economist  \\\n",
              "count  9000.000000  9.000000e+03     9000.000000  9000.000000  9000.000000   \n",
              "mean     74.620556  5.197633e+05        0.164222     0.169778     0.166333   \n",
              "std      14.402834  2.805051e+05        0.370498     0.375458     0.372400   \n",
              "min      50.000000  9.000000e+04        0.000000     0.000000     0.000000   \n",
              "25%      62.000000  3.000000e+05        0.000000     0.000000     0.000000   \n",
              "50%      75.000000  4.600000e+05        0.000000     0.000000     0.000000   \n",
              "75%      87.000000  7.600000e+05        0.000000     0.000000     0.000000   \n",
              "max      99.000000  1.350000e+06        1.000000     1.000000     1.000000   \n",
              "\n",
              "       junior developer  robotics engineer  senior developer  \n",
              "count       9000.000000        9000.000000       9000.000000  \n",
              "mean           0.163000           0.171444          0.165222  \n",
              "std            0.369386           0.376918          0.371402  \n",
              "min            0.000000           0.000000          0.000000  \n",
              "25%            0.000000           0.000000          0.000000  \n",
              "50%            0.000000           0.000000          0.000000  \n",
              "75%            0.000000           0.000000          0.000000  \n",
              "max            1.000000           1.000000          1.000000  "
            ],
            "text/html": [
              "\n",
              "  <div id=\"df-6cd76cad-85c4-4294-81aa-95951a0c0794\">\n",
              "    <div class=\"colab-df-container\">\n",
              "      <div>\n",
              "<style scoped>\n",
              "    .dataframe tbody tr th:only-of-type {\n",
              "        vertical-align: middle;\n",
              "    }\n",
              "\n",
              "    .dataframe tbody tr th {\n",
              "        vertical-align: top;\n",
              "    }\n",
              "\n",
              "    .dataframe thead th {\n",
              "        text-align: right;\n",
              "    }\n",
              "</style>\n",
              "<table border=\"1\" class=\"dataframe\">\n",
              "  <thead>\n",
              "    <tr style=\"text-align: right;\">\n",
              "      <th></th>\n",
              "      <th>Id</th>\n",
              "      <th>algebra</th>\n",
              "      <th>programming</th>\n",
              "      <th>data science</th>\n",
              "      <th>robotics</th>\n",
              "      <th>economics</th>\n",
              "      <th>salary</th>\n",
              "      <th>data scientist</th>\n",
              "      <th>developer</th>\n",
              "      <th>economist</th>\n",
              "      <th>junior developer</th>\n",
              "      <th>robotics engineer</th>\n",
              "      <th>senior developer</th>\n",
              "    </tr>\n",
              "  </thead>\n",
              "  <tbody>\n",
              "    <tr>\n",
              "      <th>count</th>\n",
              "      <td>9000.000000</td>\n",
              "      <td>9000.000000</td>\n",
              "      <td>9000.000000</td>\n",
              "      <td>9000.000000</td>\n",
              "      <td>9000.000000</td>\n",
              "      <td>9000.000000</td>\n",
              "      <td>9.000000e+03</td>\n",
              "      <td>9000.000000</td>\n",
              "      <td>9000.000000</td>\n",
              "      <td>9000.000000</td>\n",
              "      <td>9000.000000</td>\n",
              "      <td>9000.000000</td>\n",
              "      <td>9000.000000</td>\n",
              "    </tr>\n",
              "    <tr>\n",
              "      <th>mean</th>\n",
              "      <td>4499.500000</td>\n",
              "      <td>74.485556</td>\n",
              "      <td>74.500111</td>\n",
              "      <td>74.349889</td>\n",
              "      <td>74.445444</td>\n",
              "      <td>74.620556</td>\n",
              "      <td>5.197633e+05</td>\n",
              "      <td>0.164222</td>\n",
              "      <td>0.169778</td>\n",
              "      <td>0.166333</td>\n",
              "      <td>0.163000</td>\n",
              "      <td>0.171444</td>\n",
              "      <td>0.165222</td>\n",
              "    </tr>\n",
              "    <tr>\n",
              "      <th>std</th>\n",
              "      <td>2598.220545</td>\n",
              "      <td>14.470835</td>\n",
              "      <td>14.489513</td>\n",
              "      <td>14.340312</td>\n",
              "      <td>14.362890</td>\n",
              "      <td>14.402834</td>\n",
              "      <td>2.805051e+05</td>\n",
              "      <td>0.370498</td>\n",
              "      <td>0.375458</td>\n",
              "      <td>0.372400</td>\n",
              "      <td>0.369386</td>\n",
              "      <td>0.376918</td>\n",
              "      <td>0.371402</td>\n",
              "    </tr>\n",
              "    <tr>\n",
              "      <th>min</th>\n",
              "      <td>0.000000</td>\n",
              "      <td>50.000000</td>\n",
              "      <td>50.000000</td>\n",
              "      <td>50.000000</td>\n",
              "      <td>50.000000</td>\n",
              "      <td>50.000000</td>\n",
              "      <td>9.000000e+04</td>\n",
              "      <td>0.000000</td>\n",
              "      <td>0.000000</td>\n",
              "      <td>0.000000</td>\n",
              "      <td>0.000000</td>\n",
              "      <td>0.000000</td>\n",
              "      <td>0.000000</td>\n",
              "    </tr>\n",
              "    <tr>\n",
              "      <th>25%</th>\n",
              "      <td>2249.750000</td>\n",
              "      <td>62.000000</td>\n",
              "      <td>62.000000</td>\n",
              "      <td>62.000000</td>\n",
              "      <td>62.000000</td>\n",
              "      <td>62.000000</td>\n",
              "      <td>3.000000e+05</td>\n",
              "      <td>0.000000</td>\n",
              "      <td>0.000000</td>\n",
              "      <td>0.000000</td>\n",
              "      <td>0.000000</td>\n",
              "      <td>0.000000</td>\n",
              "      <td>0.000000</td>\n",
              "    </tr>\n",
              "    <tr>\n",
              "      <th>50%</th>\n",
              "      <td>4499.500000</td>\n",
              "      <td>74.000000</td>\n",
              "      <td>74.000000</td>\n",
              "      <td>75.000000</td>\n",
              "      <td>74.000000</td>\n",
              "      <td>75.000000</td>\n",
              "      <td>4.600000e+05</td>\n",
              "      <td>0.000000</td>\n",
              "      <td>0.000000</td>\n",
              "      <td>0.000000</td>\n",
              "      <td>0.000000</td>\n",
              "      <td>0.000000</td>\n",
              "      <td>0.000000</td>\n",
              "    </tr>\n",
              "    <tr>\n",
              "      <th>75%</th>\n",
              "      <td>6749.250000</td>\n",
              "      <td>87.000000</td>\n",
              "      <td>87.000000</td>\n",
              "      <td>87.000000</td>\n",
              "      <td>87.000000</td>\n",
              "      <td>87.000000</td>\n",
              "      <td>7.600000e+05</td>\n",
              "      <td>0.000000</td>\n",
              "      <td>0.000000</td>\n",
              "      <td>0.000000</td>\n",
              "      <td>0.000000</td>\n",
              "      <td>0.000000</td>\n",
              "      <td>0.000000</td>\n",
              "    </tr>\n",
              "    <tr>\n",
              "      <th>max</th>\n",
              "      <td>8999.000000</td>\n",
              "      <td>99.000000</td>\n",
              "      <td>99.000000</td>\n",
              "      <td>99.000000</td>\n",
              "      <td>99.000000</td>\n",
              "      <td>99.000000</td>\n",
              "      <td>1.350000e+06</td>\n",
              "      <td>1.000000</td>\n",
              "      <td>1.000000</td>\n",
              "      <td>1.000000</td>\n",
              "      <td>1.000000</td>\n",
              "      <td>1.000000</td>\n",
              "      <td>1.000000</td>\n",
              "    </tr>\n",
              "  </tbody>\n",
              "</table>\n",
              "</div>\n",
              "      <button class=\"colab-df-convert\" onclick=\"convertToInteractive('df-6cd76cad-85c4-4294-81aa-95951a0c0794')\"\n",
              "              title=\"Convert this dataframe to an interactive table.\"\n",
              "              style=\"display:none;\">\n",
              "        \n",
              "  <svg xmlns=\"http://www.w3.org/2000/svg\" height=\"24px\"viewBox=\"0 0 24 24\"\n",
              "       width=\"24px\">\n",
              "    <path d=\"M0 0h24v24H0V0z\" fill=\"none\"/>\n",
              "    <path d=\"M18.56 5.44l.94 2.06.94-2.06 2.06-.94-2.06-.94-.94-2.06-.94 2.06-2.06.94zm-11 1L8.5 8.5l.94-2.06 2.06-.94-2.06-.94L8.5 2.5l-.94 2.06-2.06.94zm10 10l.94 2.06.94-2.06 2.06-.94-2.06-.94-.94-2.06-.94 2.06-2.06.94z\"/><path d=\"M17.41 7.96l-1.37-1.37c-.4-.4-.92-.59-1.43-.59-.52 0-1.04.2-1.43.59L10.3 9.45l-7.72 7.72c-.78.78-.78 2.05 0 2.83L4 21.41c.39.39.9.59 1.41.59.51 0 1.02-.2 1.41-.59l7.78-7.78 2.81-2.81c.8-.78.8-2.07 0-2.86zM5.41 20L4 18.59l7.72-7.72 1.47 1.35L5.41 20z\"/>\n",
              "  </svg>\n",
              "      </button>\n",
              "      \n",
              "  <style>\n",
              "    .colab-df-container {\n",
              "      display:flex;\n",
              "      flex-wrap:wrap;\n",
              "      gap: 12px;\n",
              "    }\n",
              "\n",
              "    .colab-df-convert {\n",
              "      background-color: #E8F0FE;\n",
              "      border: none;\n",
              "      border-radius: 50%;\n",
              "      cursor: pointer;\n",
              "      display: none;\n",
              "      fill: #1967D2;\n",
              "      height: 32px;\n",
              "      padding: 0 0 0 0;\n",
              "      width: 32px;\n",
              "    }\n",
              "\n",
              "    .colab-df-convert:hover {\n",
              "      background-color: #E2EBFA;\n",
              "      box-shadow: 0px 1px 2px rgba(60, 64, 67, 0.3), 0px 1px 3px 1px rgba(60, 64, 67, 0.15);\n",
              "      fill: #174EA6;\n",
              "    }\n",
              "\n",
              "    [theme=dark] .colab-df-convert {\n",
              "      background-color: #3B4455;\n",
              "      fill: #D2E3FC;\n",
              "    }\n",
              "\n",
              "    [theme=dark] .colab-df-convert:hover {\n",
              "      background-color: #434B5C;\n",
              "      box-shadow: 0px 1px 3px 1px rgba(0, 0, 0, 0.15);\n",
              "      filter: drop-shadow(0px 1px 2px rgba(0, 0, 0, 0.3));\n",
              "      fill: #FFFFFF;\n",
              "    }\n",
              "  </style>\n",
              "\n",
              "      <script>\n",
              "        const buttonEl =\n",
              "          document.querySelector('#df-6cd76cad-85c4-4294-81aa-95951a0c0794 button.colab-df-convert');\n",
              "        buttonEl.style.display =\n",
              "          google.colab.kernel.accessAllowed ? 'block' : 'none';\n",
              "\n",
              "        async function convertToInteractive(key) {\n",
              "          const element = document.querySelector('#df-6cd76cad-85c4-4294-81aa-95951a0c0794');\n",
              "          const dataTable =\n",
              "            await google.colab.kernel.invokeFunction('convertToInteractive',\n",
              "                                                     [key], {});\n",
              "          if (!dataTable) return;\n",
              "\n",
              "          const docLinkHtml = 'Like what you see? Visit the ' +\n",
              "            '<a target=\"_blank\" href=https://colab.research.google.com/notebooks/data_table.ipynb>data table notebook</a>'\n",
              "            + ' to learn more about interactive tables.';\n",
              "          element.innerHTML = '';\n",
              "          dataTable['output_type'] = 'display_data';\n",
              "          await google.colab.output.renderOutput(dataTable, element);\n",
              "          const docLink = document.createElement('div');\n",
              "          docLink.innerHTML = docLinkHtml;\n",
              "          element.appendChild(docLink);\n",
              "        }\n",
              "      </script>\n",
              "    </div>\n",
              "  </div>\n",
              "  "
            ]
          },
          "metadata": {},
          "execution_count": 17
        }
      ]
    },
    {
      "cell_type": "code",
      "source": [
        "plt.figure(figsize=(10,10))\n",
        "sns.heatmap(train.corr(), square=True, cmap='Greens',linewidths=0.5,linecolor='w',annot=True)\n",
        "plt.title('Correlation matrix')\n",
        "plt.show()"
      ],
      "metadata": {
        "colab": {
          "base_uri": "https://localhost:8080/",
          "height": 637
        },
        "id": "XkmrthtkA5XS",
        "outputId": "bf98a499-71bd-4394-98d2-2941aa96aba2"
      },
      "execution_count": null,
      "outputs": [
        {
          "output_type": "display_data",
          "data": {
            "text/plain": [
              "<Figure size 720x720 with 2 Axes>"
            ],
            "image/png": "[encoded data removed]"
          },
          "metadata": {
            "needs_background": "light"
          }
        }
      ]
    },
    {
      "cell_type": "markdown",
      "source": [
        "Junior developer"
      ],
      "metadata": {
        "id": "AAELAE0AE-Jh"
      }
    },
    {
      "cell_type": "code",
      "source": [
        "train_jd = train[train['junior developer'] == 1]\n",
        "train_jd = train_jd.drop(['economics', 'robotics','data scientist','developer','economist','robotics engineer','senior developer'], axis=1)\n",
        "# Обратите внимание на то, что для разных должностей имеют значения оценки по разным предметам. Например, для финансового аудитора \n",
        "# программирование не так важно, как бухгалтерия. Данное наблюдение вам очень сильно поможет в работе."
      ],
      "metadata": {
        "id": "-_WwKn2dHvfO"
      },
      "execution_count": null,
      "outputs": []
    },
    {
      "cell_type": "code",
      "source": [
        "train_jd.head()"
      ],
      "metadata": {
        "colab": {
          "base_uri": "https://localhost:8080/",
          "height": 206
        },
        "id": "CkuX_rqzKRtP",
        "outputId": "9d29c720-3f5d-4f44-e3ed-53fb5b3efefc"
      },
      "execution_count": null,
      "outputs": [
        {
          "output_type": "execute_result",
          "data": {
            "text/plain": [
              "    Id  algebra  programming  data science  salary  junior developer\n",
              "0    0       87           62            86  140000                 1\n",
              "22  22       50           72            68  120000                 1\n",
              "25  25       72           98            91  170000                 1\n",
              "37  37       68           55            66  120000                 1\n",
              "43  43       83           85            93  190000                 1"
            ],
            "text/html": [
              "\n",
              "  <div id=\"df-d8776a68-b204-41cb-9b0c-f639b3537cae\">\n",
              "    <div class=\"colab-df-container\">\n",
              "      <div>\n",
              "<style scoped>\n",
              "    .dataframe tbody tr th:only-of-type {\n",
              "        vertical-align: middle;\n",
              "    }\n",
              "\n",
              "    .dataframe tbody tr th {\n",
              "        vertical-align: top;\n",
              "    }\n",
              "\n",
              "    .dataframe thead th {\n",
              "        text-align: right;\n",
              "    }\n",
              "</style>\n",
              "<table border=\"1\" class=\"dataframe\">\n",
              "  <thead>\n",
              "    <tr style=\"text-align: right;\">\n",
              "      <th></th>\n",
              "      <th>Id</th>\n",
              "      <th>algebra</th>\n",
              "      <th>programming</th>\n",
              "      <th>data science</th>\n",
              "      <th>salary</th>\n",
              "      <th>junior developer</th>\n",
              "    </tr>\n",
              "  </thead>\n",
              "  <tbody>\n",
              "    <tr>\n",
              "      <th>0</th>\n",
              "      <td>0</td>\n",
              "      <td>87</td>\n",
              "      <td>62</td>\n",
              "      <td>86</td>\n",
              "      <td>140000</td>\n",
              "      <td>1</td>\n",
              "    </tr>\n",
              "    <tr>\n",
              "      <th>22</th>\n",
              "      <td>22</td>\n",
              "      <td>50</td>\n",
              "      <td>72</td>\n",
              "      <td>68</td>\n",
              "      <td>120000</td>\n",
              "      <td>1</td>\n",
              "    </tr>\n",
              "    <tr>\n",
              "      <th>25</th>\n",
              "      <td>25</td>\n",
              "      <td>72</td>\n",
              "      <td>98</td>\n",
              "      <td>91</td>\n",
              "      <td>170000</td>\n",
              "      <td>1</td>\n",
              "    </tr>\n",
              "    <tr>\n",
              "      <th>37</th>\n",
              "      <td>37</td>\n",
              "      <td>68</td>\n",
              "      <td>55</td>\n",
              "      <td>66</td>\n",
              "      <td>120000</td>\n",
              "      <td>1</td>\n",
              "    </tr>\n",
              "    <tr>\n",
              "      <th>43</th>\n",
              "      <td>43</td>\n",
              "      <td>83</td>\n",
              "      <td>85</td>\n",
              "      <td>93</td>\n",
              "      <td>190000</td>\n",
              "      <td>1</td>\n",
              "    </tr>\n",
              "  </tbody>\n",
              "</table>\n",
              "</div>\n",
              "      <button class=\"colab-df-convert\" onclick=\"convertToInteractive('df-d8776a68-b204-41cb-9b0c-f639b3537cae')\"\n",
              "              title=\"Convert this dataframe to an interactive table.\"\n",
              "              style=\"display:none;\">\n",
              "        \n",
              "  <svg xmlns=\"http://www.w3.org/2000/svg\" height=\"24px\"viewBox=\"0 0 24 24\"\n",
              "       width=\"24px\">\n",
              "    <path d=\"M0 0h24v24H0V0z\" fill=\"none\"/>\n",
              "    <path d=\"M18.56 5.44l.94 2.06.94-2.06 2.06-.94-2.06-.94-.94-2.06-.94 2.06-2.06.94zm-11 1L8.5 8.5l.94-2.06 2.06-.94-2.06-.94L8.5 2.5l-.94 2.06-2.06.94zm10 10l.94 2.06.94-2.06 2.06-.94-2.06-.94-.94-2.06-.94 2.06-2.06.94z\"/><path d=\"M17.41 7.96l-1.37-1.37c-.4-.4-.92-.59-1.43-.59-.52 0-1.04.2-1.43.59L10.3 9.45l-7.72 7.72c-.78.78-.78 2.05 0 2.83L4 21.41c.39.39.9.59 1.41.59.51 0 1.02-.2 1.41-.59l7.78-7.78 2.81-2.81c.8-.78.8-2.07 0-2.86zM5.41 20L4 18.59l7.72-7.72 1.47 1.35L5.41 20z\"/>\n",
              "  </svg>\n",
              "      </button>\n",
              "      \n",
              "  <style>\n",
              "    .colab-df-container {\n",
              "      display:flex;\n",
              "      flex-wrap:wrap;\n",
              "      gap: 12px;\n",
              "    }\n",
              "\n",
              "    .colab-df-convert {\n",
              "      background-color: #E8F0FE;\n",
              "      border: none;\n",
              "      border-radius: 50%;\n",
              "      cursor: pointer;\n",
              "      display: none;\n",
              "      fill: #1967D2;\n",
              "      height: 32px;\n",
              "      padding: 0 0 0 0;\n",
              "      width: 32px;\n",
              "    }\n",
              "\n",
              "    .colab-df-convert:hover {\n",
              "      background-color: #E2EBFA;\n",
              "      box-shadow: 0px 1px 2px rgba(60, 64, 67, 0.3), 0px 1px 3px 1px rgba(60, 64, 67, 0.15);\n",
              "      fill: #174EA6;\n",
              "    }\n",
              "\n",
              "    [theme=dark] .colab-df-convert {\n",
              "      background-color: #3B4455;\n",
              "      fill: #D2E3FC;\n",
              "    }\n",
              "\n",
              "    [theme=dark] .colab-df-convert:hover {\n",
              "      background-color: #434B5C;\n",
              "      box-shadow: 0px 1px 3px 1px rgba(0, 0, 0, 0.15);\n",
              "      filter: drop-shadow(0px 1px 2px rgba(0, 0, 0, 0.3));\n",
              "      fill: #FFFFFF;\n",
              "    }\n",
              "  </style>\n",
              "\n",
              "      <script>\n",
              "        const buttonEl =\n",
              "          document.querySelector('#df-d8776a68-b204-41cb-9b0c-f639b3537cae button.colab-df-convert');\n",
              "        buttonEl.style.display =\n",
              "          google.colab.kernel.accessAllowed ? 'block' : 'none';\n",
              "\n",
              "        async function convertToInteractive(key) {\n",
              "          const element = document.querySelector('#df-d8776a68-b204-41cb-9b0c-f639b3537cae');\n",
              "          const dataTable =\n",
              "            await google.colab.kernel.invokeFunction('convertToInteractive',\n",
              "                                                     [key], {});\n",
              "          if (!dataTable) return;\n",
              "\n",
              "          const docLinkHtml = 'Like what you see? Visit the ' +\n",
              "            '<a target=\"_blank\" href=https://colab.research.google.com/notebooks/data_table.ipynb>data table notebook</a>'\n",
              "            + ' to learn more about interactive tables.';\n",
              "          element.innerHTML = '';\n",
              "          dataTable['output_type'] = 'display_data';\n",
              "          await google.colab.output.renderOutput(dataTable, element);\n",
              "          const docLink = document.createElement('div');\n",
              "          docLink.innerHTML = docLinkHtml;\n",
              "          element.appendChild(docLink);\n",
              "        }\n",
              "      </script>\n",
              "    </div>\n",
              "  </div>\n",
              "  "
            ]
          },
          "metadata": {},
          "execution_count": 20
        }
      ]
    },
    {
      "cell_type": "markdown",
      "source": [
        "Data scientist"
      ],
      "metadata": {
        "id": "hubypAwwNju0"
      }
    },
    {
      "cell_type": "code",
      "source": [
        "train_ds = train[train['data scientist'] == 1]\n",
        "train_ds = train_ds.drop(['economics', 'robotics','junior developer','developer','economist','robotics engineer','senior developer'], axis=1)"
      ],
      "metadata": {
        "id": "M_G2EjhoKYfy"
      },
      "execution_count": null,
      "outputs": []
    },
    {
      "cell_type": "code",
      "source": [
        "train_ds.head()"
      ],
      "metadata": {
        "colab": {
          "base_uri": "https://localhost:8080/",
          "height": 206
        },
        "id": "LiwtnBEmOFN0",
        "outputId": "ab57f513-301e-485f-8f95-d68f30ec014e"
      },
      "execution_count": null,
      "outputs": [
        {
          "output_type": "execute_result",
          "data": {
            "text/plain": [
              "    Id  algebra  programming  data science  salary  data scientist\n",
              "1    1       76           84            76  780000               1\n",
              "4    4       73           87            56  760000               1\n",
              "10  10       90           61            69  710000               1\n",
              "12  12       66           77            60  780000               1\n",
              "17  17       55           74            71  790000               1"
            ],
            "text/html": [
              "\n",
              "  <div id=\"df-8516e7fd-8ace-4417-9f91-2c5ede752338\">\n",
              "    <div class=\"colab-df-container\">\n",
              "      <div>\n",
              "<style scoped>\n",
              "    .dataframe tbody tr th:only-of-type {\n",
              "        vertical-align: middle;\n",
              "    }\n",
              "\n",
              "    .dataframe tbody tr th {\n",
              "        vertical-align: top;\n",
              "    }\n",
              "\n",
              "    .dataframe thead th {\n",
              "        text-align: right;\n",
              "    }\n",
              "</style>\n",
              "<table border=\"1\" class=\"dataframe\">\n",
              "  <thead>\n",
              "    <tr style=\"text-align: right;\">\n",
              "      <th></th>\n",
              "      <th>Id</th>\n",
              "      <th>algebra</th>\n",
              "      <th>programming</th>\n",
              "      <th>data science</th>\n",
              "      <th>salary</th>\n",
              "      <th>data scientist</th>\n",
              "    </tr>\n",
              "  </thead>\n",
              "  <tbody>\n",
              "    <tr>\n",
              "      <th>1</th>\n",
              "      <td>1</td>\n",
              "      <td>76</td>\n",
              "      <td>84</td>\n",
              "      <td>76</td>\n",
              "      <td>780000</td>\n",
              "      <td>1</td>\n",
              "    </tr>\n",
              "    <tr>\n",
              "      <th>4</th>\n",
              "      <td>4</td>\n",
              "      <td>73</td>\n",
              "      <td>87</td>\n",
              "      <td>56</td>\n",
              "      <td>760000</td>\n",
              "      <td>1</td>\n",
              "    </tr>\n",
              "    <tr>\n",
              "      <th>10</th>\n",
              "      <td>10</td>\n",
              "      <td>90</td>\n",
              "      <td>61</td>\n",
              "      <td>69</td>\n",
              "      <td>710000</td>\n",
              "      <td>1</td>\n",
              "    </tr>\n",
              "    <tr>\n",
              "      <th>12</th>\n",
              "      <td>12</td>\n",
              "      <td>66</td>\n",
              "      <td>77</td>\n",
              "      <td>60</td>\n",
              "      <td>780000</td>\n",
              "      <td>1</td>\n",
              "    </tr>\n",
              "    <tr>\n",
              "      <th>17</th>\n",
              "      <td>17</td>\n",
              "      <td>55</td>\n",
              "      <td>74</td>\n",
              "      <td>71</td>\n",
              "      <td>790000</td>\n",
              "      <td>1</td>\n",
              "    </tr>\n",
              "  </tbody>\n",
              "</table>\n",
              "</div>\n",
              "      <button class=\"colab-df-convert\" onclick=\"convertToInteractive('df-8516e7fd-8ace-4417-9f91-2c5ede752338')\"\n",
              "              title=\"Convert this dataframe to an interactive table.\"\n",
              "              style=\"display:none;\">\n",
              "        \n",
              "  <svg xmlns=\"http://www.w3.org/2000/svg\" height=\"24px\"viewBox=\"0 0 24 24\"\n",
              "       width=\"24px\">\n",
              "    <path d=\"M0 0h24v24H0V0z\" fill=\"none\"/>\n",
              "    <path d=\"M18.56 5.44l.94 2.06.94-2.06 2.06-.94-2.06-.94-.94-2.06-.94 2.06-2.06.94zm-11 1L8.5 8.5l.94-2.06 2.06-.94-2.06-.94L8.5 2.5l-.94 2.06-2.06.94zm10 10l.94 2.06.94-2.06 2.06-.94-2.06-.94-.94-2.06-.94 2.06-2.06.94z\"/><path d=\"M17.41 7.96l-1.37-1.37c-.4-.4-.92-.59-1.43-.59-.52 0-1.04.2-1.43.59L10.3 9.45l-7.72 7.72c-.78.78-.78 2.05 0 2.83L4 21.41c.39.39.9.59 1.41.59.51 0 1.02-.2 1.41-.59l7.78-7.78 2.81-2.81c.8-.78.8-2.07 0-2.86zM5.41 20L4 18.59l7.72-7.72 1.47 1.35L5.41 20z\"/>\n",
              "  </svg>\n",
              "      </button>\n",
              "      \n",
              "  <style>\n",
              "    .colab-df-container {\n",
              "      display:flex;\n",
              "      flex-wrap:wrap;\n",
              "      gap: 12px;\n",
              "    }\n",
              "\n",
              "    .colab-df-convert {\n",
              "      background-color: #E8F0FE;\n",
              "      border: none;\n",
              "      border-radius: 50%;\n",
              "      cursor: pointer;\n",
              "      display: none;\n",
              "      fill: #1967D2;\n",
              "      height: 32px;\n",
              "      padding: 0 0 0 0;\n",
              "      width: 32px;\n",
              "    }\n",
              "\n",
              "    .colab-df-convert:hover {\n",
              "      background-color: #E2EBFA;\n",
              "      box-shadow: 0px 1px 2px rgba(60, 64, 67, 0.3), 0px 1px 3px 1px rgba(60, 64, 67, 0.15);\n",
              "      fill: #174EA6;\n",
              "    }\n",
              "\n",
              "    [theme=dark] .colab-df-convert {\n",
              "      background-color: #3B4455;\n",
              "      fill: #D2E3FC;\n",
              "    }\n",
              "\n",
              "    [theme=dark] .colab-df-convert:hover {\n",
              "      background-color: #434B5C;\n",
              "      box-shadow: 0px 1px 3px 1px rgba(0, 0, 0, 0.15);\n",
              "      filter: drop-shadow(0px 1px 2px rgba(0, 0, 0, 0.3));\n",
              "      fill: #FFFFFF;\n",
              "    }\n",
              "  </style>\n",
              "\n",
              "      <script>\n",
              "        const buttonEl =\n",
              "          document.querySelector('#df-8516e7fd-8ace-4417-9f91-2c5ede752338 button.colab-df-convert');\n",
              "        buttonEl.style.display =\n",
              "          google.colab.kernel.accessAllowed ? 'block' : 'none';\n",
              "\n",
              "        async function convertToInteractive(key) {\n",
              "          const element = document.querySelector('#df-8516e7fd-8ace-4417-9f91-2c5ede752338');\n",
              "          const dataTable =\n",
              "            await google.colab.kernel.invokeFunction('convertToInteractive',\n",
              "                                                     [key], {});\n",
              "          if (!dataTable) return;\n",
              "\n",
              "          const docLinkHtml = 'Like what you see? Visit the ' +\n",
              "            '<a target=\"_blank\" href=https://colab.research.google.com/notebooks/data_table.ipynb>data table notebook</a>'\n",
              "            + ' to learn more about interactive tables.';\n",
              "          element.innerHTML = '';\n",
              "          dataTable['output_type'] = 'display_data';\n",
              "          await google.colab.output.renderOutput(dataTable, element);\n",
              "          const docLink = document.createElement('div');\n",
              "          docLink.innerHTML = docLinkHtml;\n",
              "          element.appendChild(docLink);\n",
              "        }\n",
              "      </script>\n",
              "    </div>\n",
              "  </div>\n",
              "  "
            ]
          },
          "metadata": {},
          "execution_count": 22
        }
      ]
    },
    {
      "cell_type": "markdown",
      "source": [
        "Developer"
      ],
      "metadata": {
        "id": "ZTP7bsJ2OPyD"
      }
    },
    {
      "cell_type": "code",
      "source": [
        "train_d = train[train['developer'] == 1]\n",
        "train_d = train_d.drop(['economics', 'robotics','junior developer','data scientist','economist','robotics engineer','senior developer'], axis=1)"
      ],
      "metadata": {
        "id": "DDyYm9LxOLdP"
      },
      "execution_count": null,
      "outputs": []
    },
    {
      "cell_type": "code",
      "source": [
        "train_d.head()"
      ],
      "metadata": {
        "colab": {
          "base_uri": "https://localhost:8080/",
          "height": 206
        },
        "id": "pHsc_q86OoIg",
        "outputId": "b13ad001-3d4a-40c5-96ba-903e7068a961"
      },
      "execution_count": null,
      "outputs": [
        {
          "output_type": "execute_result",
          "data": {
            "text/plain": [
              "    Id  algebra  programming  data science  salary  developer\n",
              "2    2       56           55            99  210000          1\n",
              "8    8       91           95            99  380000          1\n",
              "9    9       98           93            66  350000          1\n",
              "11  11       58           99            99  380000          1\n",
              "14  14       64           97            98  310000          1"
            ],
            "text/html": [
              "\n",
              "  <div id=\"df-26d3fd54-410a-4779-b2da-1d68870db6ad\">\n",
              "    <div class=\"colab-df-container\">\n",
              "      <div>\n",
              "<style scoped>\n",
              "    .dataframe tbody tr th:only-of-type {\n",
              "        vertical-align: middle;\n",
              "    }\n",
              "\n",
              "    .dataframe tbody tr th {\n",
              "        vertical-align: top;\n",
              "    }\n",
              "\n",
              "    .dataframe thead th {\n",
              "        text-align: right;\n",
              "    }\n",
              "</style>\n",
              "<table border=\"1\" class=\"dataframe\">\n",
              "  <thead>\n",
              "    <tr style=\"text-align: right;\">\n",
              "      <th></th>\n",
              "      <th>Id</th>\n",
              "      <th>algebra</th>\n",
              "      <th>programming</th>\n",
              "      <th>data science</th>\n",
              "      <th>salary</th>\n",
              "      <th>developer</th>\n",
              "    </tr>\n",
              "  </thead>\n",
              "  <tbody>\n",
              "    <tr>\n",
              "      <th>2</th>\n",
              "      <td>2</td>\n",
              "      <td>56</td>\n",
              "      <td>55</td>\n",
              "      <td>99</td>\n",
              "      <td>210000</td>\n",
              "      <td>1</td>\n",
              "    </tr>\n",
              "    <tr>\n",
              "      <th>8</th>\n",
              "      <td>8</td>\n",
              "      <td>91</td>\n",
              "      <td>95</td>\n",
              "      <td>99</td>\n",
              "      <td>380000</td>\n",
              "      <td>1</td>\n",
              "    </tr>\n",
              "    <tr>\n",
              "      <th>9</th>\n",
              "      <td>9</td>\n",
              "      <td>98</td>\n",
              "      <td>93</td>\n",
              "      <td>66</td>\n",
              "      <td>350000</td>\n",
              "      <td>1</td>\n",
              "    </tr>\n",
              "    <tr>\n",
              "      <th>11</th>\n",
              "      <td>11</td>\n",
              "      <td>58</td>\n",
              "      <td>99</td>\n",
              "      <td>99</td>\n",
              "      <td>380000</td>\n",
              "      <td>1</td>\n",
              "    </tr>\n",
              "    <tr>\n",
              "      <th>14</th>\n",
              "      <td>14</td>\n",
              "      <td>64</td>\n",
              "      <td>97</td>\n",
              "      <td>98</td>\n",
              "      <td>310000</td>\n",
              "      <td>1</td>\n",
              "    </tr>\n",
              "  </tbody>\n",
              "</table>\n",
              "</div>\n",
              "      <button class=\"colab-df-convert\" onclick=\"convertToInteractive('df-26d3fd54-410a-4779-b2da-1d68870db6ad')\"\n",
              "              title=\"Convert this dataframe to an interactive table.\"\n",
              "              style=\"display:none;\">\n",
              "        \n",
              "  <svg xmlns=\"http://www.w3.org/2000/svg\" height=\"24px\"viewBox=\"0 0 24 24\"\n",
              "       width=\"24px\">\n",
              "    <path d=\"M0 0h24v24H0V0z\" fill=\"none\"/>\n",
              "    <path d=\"M18.56 5.44l.94 2.06.94-2.06 2.06-.94-2.06-.94-.94-2.06-.94 2.06-2.06.94zm-11 1L8.5 8.5l.94-2.06 2.06-.94-2.06-.94L8.5 2.5l-.94 2.06-2.06.94zm10 10l.94 2.06.94-2.06 2.06-.94-2.06-.94-.94-2.06-.94 2.06-2.06.94z\"/><path d=\"M17.41 7.96l-1.37-1.37c-.4-.4-.92-.59-1.43-.59-.52 0-1.04.2-1.43.59L10.3 9.45l-7.72 7.72c-.78.78-.78 2.05 0 2.83L4 21.41c.39.39.9.59 1.41.59.51 0 1.02-.2 1.41-.59l7.78-7.78 2.81-2.81c.8-.78.8-2.07 0-2.86zM5.41 20L4 18.59l7.72-7.72 1.47 1.35L5.41 20z\"/>\n",
              "  </svg>\n",
              "      </button>\n",
              "      \n",
              "  <style>\n",
              "    .colab-df-container {\n",
              "      display:flex;\n",
              "      flex-wrap:wrap;\n",
              "      gap: 12px;\n",
              "    }\n",
              "\n",
              "    .colab-df-convert {\n",
              "      background-color: #E8F0FE;\n",
              "      border: none;\n",
              "      border-radius: 50%;\n",
              "      cursor: pointer;\n",
              "      display: none;\n",
              "      fill: #1967D2;\n",
              "      height: 32px;\n",
              "      padding: 0 0 0 0;\n",
              "      width: 32px;\n",
              "    }\n",
              "\n",
              "    .colab-df-convert:hover {\n",
              "      background-color: #E2EBFA;\n",
              "      box-shadow: 0px 1px 2px rgba(60, 64, 67, 0.3), 0px 1px 3px 1px rgba(60, 64, 67, 0.15);\n",
              "      fill: #174EA6;\n",
              "    }\n",
              "\n",
              "    [theme=dark] .colab-df-convert {\n",
              "      background-color: #3B4455;\n",
              "      fill: #D2E3FC;\n",
              "    }\n",
              "\n",
              "    [theme=dark] .colab-df-convert:hover {\n",
              "      background-color: #434B5C;\n",
              "      box-shadow: 0px 1px 3px 1px rgba(0, 0, 0, 0.15);\n",
              "      filter: drop-shadow(0px 1px 2px rgba(0, 0, 0, 0.3));\n",
              "      fill: #FFFFFF;\n",
              "    }\n",
              "  </style>\n",
              "\n",
              "      <script>\n",
              "        const buttonEl =\n",
              "          document.querySelector('#df-26d3fd54-410a-4779-b2da-1d68870db6ad button.colab-df-convert');\n",
              "        buttonEl.style.display =\n",
              "          google.colab.kernel.accessAllowed ? 'block' : 'none';\n",
              "\n",
              "        async function convertToInteractive(key) {\n",
              "          const element = document.querySelector('#df-26d3fd54-410a-4779-b2da-1d68870db6ad');\n",
              "          const dataTable =\n",
              "            await google.colab.kernel.invokeFunction('convertToInteractive',\n",
              "                                                     [key], {});\n",
              "          if (!dataTable) return;\n",
              "\n",
              "          const docLinkHtml = 'Like what you see? Visit the ' +\n",
              "            '<a target=\"_blank\" href=https://colab.research.google.com/notebooks/data_table.ipynb>data table notebook</a>'\n",
              "            + ' to learn more about interactive tables.';\n",
              "          element.innerHTML = '';\n",
              "          dataTable['output_type'] = 'display_data';\n",
              "          await google.colab.output.renderOutput(dataTable, element);\n",
              "          const docLink = document.createElement('div');\n",
              "          docLink.innerHTML = docLinkHtml;\n",
              "          element.appendChild(docLink);\n",
              "        }\n",
              "      </script>\n",
              "    </div>\n",
              "  </div>\n",
              "  "
            ]
          },
          "metadata": {},
          "execution_count": 24
        }
      ]
    },
    {
      "cell_type": "markdown",
      "source": [
        "Economist"
      ],
      "metadata": {
        "id": "9RpMtB5kOsSc"
      }
    },
    {
      "cell_type": "code",
      "source": [
        "train_e = train[train['economist'] == 1]\n",
        "train_e = train_e.drop(['programming', 'data science','robotics','data scientist','developer','junior developer','robotics engineer','senior developer'], axis=1)"
      ],
      "metadata": {
        "id": "wAE5Ct_vOq1Z"
      },
      "execution_count": null,
      "outputs": []
    },
    {
      "cell_type": "code",
      "source": [
        "train_e.head()"
      ],
      "metadata": {
        "colab": {
          "base_uri": "https://localhost:8080/",
          "height": 206
        },
        "id": "jnCXPnOcPLAH",
        "outputId": "aea84dea-10f7-4ef5-a86b-42f8fd375c90"
      },
      "execution_count": null,
      "outputs": [
        {
          "output_type": "execute_result",
          "data": {
            "text/plain": [
              "    Id  algebra  economics  salary  economist\n",
              "3    3       99         58  420000          1\n",
              "7    7       79         94  450000          1\n",
              "15  15       99         86  420000          1\n",
              "16  16       55         87  430000          1\n",
              "26  26       69         92  420000          1"
            ],
            "text/html": [
              "\n",
              "  <div id=\"df-628d1e1d-516b-4070-8505-8c9d304d28e9\">\n",
              "    <div class=\"colab-df-container\">\n",
              "      <div>\n",
              "<style scoped>\n",
              "    .dataframe tbody tr th:only-of-type {\n",
              "        vertical-align: middle;\n",
              "    }\n",
              "\n",
              "    .dataframe tbody tr th {\n",
              "        vertical-align: top;\n",
              "    }\n",
              "\n",
              "    .dataframe thead th {\n",
              "        text-align: right;\n",
              "    }\n",
              "</style>\n",
              "<table border=\"1\" class=\"dataframe\">\n",
              "  <thead>\n",
              "    <tr style=\"text-align: right;\">\n",
              "      <th></th>\n",
              "      <th>Id</th>\n",
              "      <th>algebra</th>\n",
              "      <th>economics</th>\n",
              "      <th>salary</th>\n",
              "      <th>economist</th>\n",
              "    </tr>\n",
              "  </thead>\n",
              "  <tbody>\n",
              "    <tr>\n",
              "      <th>3</th>\n",
              "      <td>3</td>\n",
              "      <td>99</td>\n",
              "      <td>58</td>\n",
              "      <td>420000</td>\n",
              "      <td>1</td>\n",
              "    </tr>\n",
              "    <tr>\n",
              "      <th>7</th>\n",
              "      <td>7</td>\n",
              "      <td>79</td>\n",
              "      <td>94</td>\n",
              "      <td>450000</td>\n",
              "      <td>1</td>\n",
              "    </tr>\n",
              "    <tr>\n",
              "      <th>15</th>\n",
              "      <td>15</td>\n",
              "      <td>99</td>\n",
              "      <td>86</td>\n",
              "      <td>420000</td>\n",
              "      <td>1</td>\n",
              "    </tr>\n",
              "    <tr>\n",
              "      <th>16</th>\n",
              "      <td>16</td>\n",
              "      <td>55</td>\n",
              "      <td>87</td>\n",
              "      <td>430000</td>\n",
              "      <td>1</td>\n",
              "    </tr>\n",
              "    <tr>\n",
              "      <th>26</th>\n",
              "      <td>26</td>\n",
              "      <td>69</td>\n",
              "      <td>92</td>\n",
              "      <td>420000</td>\n",
              "      <td>1</td>\n",
              "    </tr>\n",
              "  </tbody>\n",
              "</table>\n",
              "</div>\n",
              "      <button class=\"colab-df-convert\" onclick=\"convertToInteractive('df-628d1e1d-516b-4070-8505-8c9d304d28e9')\"\n",
              "              title=\"Convert this dataframe to an interactive table.\"\n",
              "              style=\"display:none;\">\n",
              "        \n",
              "  <svg xmlns=\"http://www.w3.org/2000/svg\" height=\"24px\"viewBox=\"0 0 24 24\"\n",
              "       width=\"24px\">\n",
              "    <path d=\"M0 0h24v24H0V0z\" fill=\"none\"/>\n",
              "    <path d=\"M18.56 5.44l.94 2.06.94-2.06 2.06-.94-2.06-.94-.94-2.06-.94 2.06-2.06.94zm-11 1L8.5 8.5l.94-2.06 2.06-.94-2.06-.94L8.5 2.5l-.94 2.06-2.06.94zm10 10l.94 2.06.94-2.06 2.06-.94-2.06-.94-.94-2.06-.94 2.06-2.06.94z\"/><path d=\"M17.41 7.96l-1.37-1.37c-.4-.4-.92-.59-1.43-.59-.52 0-1.04.2-1.43.59L10.3 9.45l-7.72 7.72c-.78.78-.78 2.05 0 2.83L4 21.41c.39.39.9.59 1.41.59.51 0 1.02-.2 1.41-.59l7.78-7.78 2.81-2.81c.8-.78.8-2.07 0-2.86zM5.41 20L4 18.59l7.72-7.72 1.47 1.35L5.41 20z\"/>\n",
              "  </svg>\n",
              "      </button>\n",
              "      \n",
              "  <style>\n",
              "    .colab-df-container {\n",
              "      display:flex;\n",
              "      flex-wrap:wrap;\n",
              "      gap: 12px;\n",
              "    }\n",
              "\n",
              "    .colab-df-convert {\n",
              "      background-color: #E8F0FE;\n",
              "      border: none;\n",
              "      border-radius: 50%;\n",
              "      cursor: pointer;\n",
              "      display: none;\n",
              "      fill: #1967D2;\n",
              "      height: 32px;\n",
              "      padding: 0 0 0 0;\n",
              "      width: 32px;\n",
              "    }\n",
              "\n",
              "    .colab-df-convert:hover {\n",
              "      background-color: #E2EBFA;\n",
              "      box-shadow: 0px 1px 2px rgba(60, 64, 67, 0.3), 0px 1px 3px 1px rgba(60, 64, 67, 0.15);\n",
              "      fill: #174EA6;\n",
              "    }\n",
              "\n",
              "    [theme=dark] .colab-df-convert {\n",
              "      background-color: #3B4455;\n",
              "      fill: #D2E3FC;\n",
              "    }\n",
              "\n",
              "    [theme=dark] .colab-df-convert:hover {\n",
              "      background-color: #434B5C;\n",
              "      box-shadow: 0px 1px 3px 1px rgba(0, 0, 0, 0.15);\n",
              "      filter: drop-shadow(0px 1px 2px rgba(0, 0, 0, 0.3));\n",
              "      fill: #FFFFFF;\n",
              "    }\n",
              "  </style>\n",
              "\n",
              "      <script>\n",
              "        const buttonEl =\n",
              "          document.querySelector('#df-628d1e1d-516b-4070-8505-8c9d304d28e9 button.colab-df-convert');\n",
              "        buttonEl.style.display =\n",
              "          google.colab.kernel.accessAllowed ? 'block' : 'none';\n",
              "\n",
              "        async function convertToInteractive(key) {\n",
              "          const element = document.querySelector('#df-628d1e1d-516b-4070-8505-8c9d304d28e9');\n",
              "          const dataTable =\n",
              "            await google.colab.kernel.invokeFunction('convertToInteractive',\n",
              "                                                     [key], {});\n",
              "          if (!dataTable) return;\n",
              "\n",
              "          const docLinkHtml = 'Like what you see? Visit the ' +\n",
              "            '<a target=\"_blank\" href=https://colab.research.google.com/notebooks/data_table.ipynb>data table notebook</a>'\n",
              "            + ' to learn more about interactive tables.';\n",
              "          element.innerHTML = '';\n",
              "          dataTable['output_type'] = 'display_data';\n",
              "          await google.colab.output.renderOutput(dataTable, element);\n",
              "          const docLink = document.createElement('div');\n",
              "          docLink.innerHTML = docLinkHtml;\n",
              "          element.appendChild(docLink);\n",
              "        }\n",
              "      </script>\n",
              "    </div>\n",
              "  </div>\n",
              "  "
            ]
          },
          "metadata": {},
          "execution_count": 26
        }
      ]
    },
    {
      "cell_type": "markdown",
      "source": [
        "Robotics engineer"
      ],
      "metadata": {
        "id": "GqKLrLc8PW5D"
      }
    },
    {
      "cell_type": "code",
      "source": [
        "train_re = train[train['robotics engineer'] == 1]\n",
        "train_re = train_re.drop(['algebra', 'data science','economics','data scientist','developer','junior developer','economist','senior developer'], axis=1)"
      ],
      "metadata": {
        "id": "bD4QEmIEPUJe"
      },
      "execution_count": null,
      "outputs": []
    },
    {
      "cell_type": "code",
      "source": [
        "train_re.head()"
      ],
      "metadata": {
        "colab": {
          "base_uri": "https://localhost:8080/",
          "height": 206
        },
        "id": "Ra4k1GyQPuOl",
        "outputId": "9435560b-2f76-4a1e-b650-2948ed46c08d"
      },
      "execution_count": null,
      "outputs": [
        {
          "output_type": "execute_result",
          "data": {
            "text/plain": [
              "    Id  programming  robotics  salary  robotics engineer\n",
              "5    5           91        63  790000                  1\n",
              "20  20           97        61  990000                  1\n",
              "24  24           52        83  830000                  1\n",
              "44  44           86        62  970000                  1\n",
              "54  54           78        54  750000                  1"
            ],
            "text/html": [
              "\n",
              "  <div id=\"df-c3b3a42d-1ce0-4c33-aad8-b1ee11948fee\">\n",
              "    <div class=\"colab-df-container\">\n",
              "      <div>\n",
              "<style scoped>\n",
              "    .dataframe tbody tr th:only-of-type {\n",
              "        vertical-align: middle;\n",
              "    }\n",
              "\n",
              "    .dataframe tbody tr th {\n",
              "        vertical-align: top;\n",
              "    }\n",
              "\n",
              "    .dataframe thead th {\n",
              "        text-align: right;\n",
              "    }\n",
              "</style>\n",
              "<table border=\"1\" class=\"dataframe\">\n",
              "  <thead>\n",
              "    <tr style=\"text-align: right;\">\n",
              "      <th></th>\n",
              "      <th>Id</th>\n",
              "      <th>programming</th>\n",
              "      <th>robotics</th>\n",
              "      <th>salary</th>\n",
              "      <th>robotics engineer</th>\n",
              "    </tr>\n",
              "  </thead>\n",
              "  <tbody>\n",
              "    <tr>\n",
              "      <th>5</th>\n",
              "      <td>5</td>\n",
              "      <td>91</td>\n",
              "      <td>63</td>\n",
              "      <td>790000</td>\n",
              "      <td>1</td>\n",
              "    </tr>\n",
              "    <tr>\n",
              "      <th>20</th>\n",
              "      <td>20</td>\n",
              "      <td>97</td>\n",
              "      <td>61</td>\n",
              "      <td>990000</td>\n",
              "      <td>1</td>\n",
              "    </tr>\n",
              "    <tr>\n",
              "      <th>24</th>\n",
              "      <td>24</td>\n",
              "      <td>52</td>\n",
              "      <td>83</td>\n",
              "      <td>830000</td>\n",
              "      <td>1</td>\n",
              "    </tr>\n",
              "    <tr>\n",
              "      <th>44</th>\n",
              "      <td>44</td>\n",
              "      <td>86</td>\n",
              "      <td>62</td>\n",
              "      <td>970000</td>\n",
              "      <td>1</td>\n",
              "    </tr>\n",
              "    <tr>\n",
              "      <th>54</th>\n",
              "      <td>54</td>\n",
              "      <td>78</td>\n",
              "      <td>54</td>\n",
              "      <td>750000</td>\n",
              "      <td>1</td>\n",
              "    </tr>\n",
              "  </tbody>\n",
              "</table>\n",
              "</div>\n",
              "      <button class=\"colab-df-convert\" onclick=\"convertToInteractive('df-c3b3a42d-1ce0-4c33-aad8-b1ee11948fee')\"\n",
              "              title=\"Convert this dataframe to an interactive table.\"\n",
              "              style=\"display:none;\">\n",
              "        \n",
              "  <svg xmlns=\"http://www.w3.org/2000/svg\" height=\"24px\"viewBox=\"0 0 24 24\"\n",
              "       width=\"24px\">\n",
              "    <path d=\"M0 0h24v24H0V0z\" fill=\"none\"/>\n",
              "    <path d=\"M18.56 5.44l.94 2.06.94-2.06 2.06-.94-2.06-.94-.94-2.06-.94 2.06-2.06.94zm-11 1L8.5 8.5l.94-2.06 2.06-.94-2.06-.94L8.5 2.5l-.94 2.06-2.06.94zm10 10l.94 2.06.94-2.06 2.06-.94-2.06-.94-.94-2.06-.94 2.06-2.06.94z\"/><path d=\"M17.41 7.96l-1.37-1.37c-.4-.4-.92-.59-1.43-.59-.52 0-1.04.2-1.43.59L10.3 9.45l-7.72 7.72c-.78.78-.78 2.05 0 2.83L4 21.41c.39.39.9.59 1.41.59.51 0 1.02-.2 1.41-.59l7.78-7.78 2.81-2.81c.8-.78.8-2.07 0-2.86zM5.41 20L4 18.59l7.72-7.72 1.47 1.35L5.41 20z\"/>\n",
              "  </svg>\n",
              "      </button>\n",
              "      \n",
              "  <style>\n",
              "    .colab-df-container {\n",
              "      display:flex;\n",
              "      flex-wrap:wrap;\n",
              "      gap: 12px;\n",
              "    }\n",
              "\n",
              "    .colab-df-convert {\n",
              "      background-color: #E8F0FE;\n",
              "      border: none;\n",
              "      border-radius: 50%;\n",
              "      cursor: pointer;\n",
              "      display: none;\n",
              "      fill: #1967D2;\n",
              "      height: 32px;\n",
              "      padding: 0 0 0 0;\n",
              "      width: 32px;\n",
              "    }\n",
              "\n",
              "    .colab-df-convert:hover {\n",
              "      background-color: #E2EBFA;\n",
              "      box-shadow: 0px 1px 2px rgba(60, 64, 67, 0.3), 0px 1px 3px 1px rgba(60, 64, 67, 0.15);\n",
              "      fill: #174EA6;\n",
              "    }\n",
              "\n",
              "    [theme=dark] .colab-df-convert {\n",
              "      background-color: #3B4455;\n",
              "      fill: #D2E3FC;\n",
              "    }\n",
              "\n",
              "    [theme=dark] .colab-df-convert:hover {\n",
              "      background-color: #434B5C;\n",
              "      box-shadow: 0px 1px 3px 1px rgba(0, 0, 0, 0.15);\n",
              "      filter: drop-shadow(0px 1px 2px rgba(0, 0, 0, 0.3));\n",
              "      fill: #FFFFFF;\n",
              "    }\n",
              "  </style>\n",
              "\n",
              "      <script>\n",
              "        const buttonEl =\n",
              "          document.querySelector('#df-c3b3a42d-1ce0-4c33-aad8-b1ee11948fee button.colab-df-convert');\n",
              "        buttonEl.style.display =\n",
              "          google.colab.kernel.accessAllowed ? 'block' : 'none';\n",
              "\n",
              "        async function convertToInteractive(key) {\n",
              "          const element = document.querySelector('#df-c3b3a42d-1ce0-4c33-aad8-b1ee11948fee');\n",
              "          const dataTable =\n",
              "            await google.colab.kernel.invokeFunction('convertToInteractive',\n",
              "                                                     [key], {});\n",
              "          if (!dataTable) return;\n",
              "\n",
              "          const docLinkHtml = 'Like what you see? Visit the ' +\n",
              "            '<a target=\"_blank\" href=https://colab.research.google.com/notebooks/data_table.ipynb>data table notebook</a>'\n",
              "            + ' to learn more about interactive tables.';\n",
              "          element.innerHTML = '';\n",
              "          dataTable['output_type'] = 'display_data';\n",
              "          await google.colab.output.renderOutput(dataTable, element);\n",
              "          const docLink = document.createElement('div');\n",
              "          docLink.innerHTML = docLinkHtml;\n",
              "          element.appendChild(docLink);\n",
              "        }\n",
              "      </script>\n",
              "    </div>\n",
              "  </div>\n",
              "  "
            ]
          },
          "metadata": {},
          "execution_count": 28
        }
      ]
    },
    {
      "cell_type": "markdown",
      "source": [
        "Senior developer"
      ],
      "metadata": {
        "id": "IOSL615CPz2t"
      }
    },
    {
      "cell_type": "code",
      "source": [
        "train_sd = train[train['senior developer'] == 1]\n",
        "train_sd = train_sd.drop(['economics', 'robotics','data scientist','developer','economist','robotics engineer','junior developer'], axis=1)"
      ],
      "metadata": {
        "id": "BcjgNFfCP2M1"
      },
      "execution_count": null,
      "outputs": []
    },
    {
      "cell_type": "code",
      "source": [
        "train_sd.head()"
      ],
      "metadata": {
        "colab": {
          "base_uri": "https://localhost:8080/",
          "height": 206
        },
        "id": "_5HqIy26QElJ",
        "outputId": "d1be320f-5745-4d53-c928-c09b66c6e447"
      },
      "execution_count": null,
      "outputs": [
        {
          "output_type": "execute_result",
          "data": {
            "text/plain": [
              "    Id  algebra  programming  data science  salary  senior developer\n",
              "6    6       73           56            82  510000                 1\n",
              "13  13       70           80            55  560000                 1\n",
              "21  21       94           59            63  510000                 1\n",
              "28  28       99           61            63  540000                 1\n",
              "29  29       67           86            73  500000                 1"
            ],
            "text/html": [
              "\n",
              "  <div id=\"df-41264be1-2061-4f45-b0b9-9f3424a425f6\">\n",
              "    <div class=\"colab-df-container\">\n",
              "      <div>\n",
              "<style scoped>\n",
              "    .dataframe tbody tr th:only-of-type {\n",
              "        vertical-align: middle;\n",
              "    }\n",
              "\n",
              "    .dataframe tbody tr th {\n",
              "        vertical-align: top;\n",
              "    }\n",
              "\n",
              "    .dataframe thead th {\n",
              "        text-align: right;\n",
              "    }\n",
              "</style>\n",
              "<table border=\"1\" class=\"dataframe\">\n",
              "  <thead>\n",
              "    <tr style=\"text-align: right;\">\n",
              "      <th></th>\n",
              "      <th>Id</th>\n",
              "      <th>algebra</th>\n",
              "      <th>programming</th>\n",
              "      <th>data science</th>\n",
              "      <th>salary</th>\n",
              "      <th>senior developer</th>\n",
              "    </tr>\n",
              "  </thead>\n",
              "  <tbody>\n",
              "    <tr>\n",
              "      <th>6</th>\n",
              "      <td>6</td>\n",
              "      <td>73</td>\n",
              "      <td>56</td>\n",
              "      <td>82</td>\n",
              "      <td>510000</td>\n",
              "      <td>1</td>\n",
              "    </tr>\n",
              "    <tr>\n",
              "      <th>13</th>\n",
              "      <td>13</td>\n",
              "      <td>70</td>\n",
              "      <td>80</td>\n",
              "      <td>55</td>\n",
              "      <td>560000</td>\n",
              "      <td>1</td>\n",
              "    </tr>\n",
              "    <tr>\n",
              "      <th>21</th>\n",
              "      <td>21</td>\n",
              "      <td>94</td>\n",
              "      <td>59</td>\n",
              "      <td>63</td>\n",
              "      <td>510000</td>\n",
              "      <td>1</td>\n",
              "    </tr>\n",
              "    <tr>\n",
              "      <th>28</th>\n",
              "      <td>28</td>\n",
              "      <td>99</td>\n",
              "      <td>61</td>\n",
              "      <td>63</td>\n",
              "      <td>540000</td>\n",
              "      <td>1</td>\n",
              "    </tr>\n",
              "    <tr>\n",
              "      <th>29</th>\n",
              "      <td>29</td>\n",
              "      <td>67</td>\n",
              "      <td>86</td>\n",
              "      <td>73</td>\n",
              "      <td>500000</td>\n",
              "      <td>1</td>\n",
              "    </tr>\n",
              "  </tbody>\n",
              "</table>\n",
              "</div>\n",
              "      <button class=\"colab-df-convert\" onclick=\"convertToInteractive('df-41264be1-2061-4f45-b0b9-9f3424a425f6')\"\n",
              "              title=\"Convert this dataframe to an interactive table.\"\n",
              "              style=\"display:none;\">\n",
              "        \n",
              "  <svg xmlns=\"http://www.w3.org/2000/svg\" height=\"24px\"viewBox=\"0 0 24 24\"\n",
              "       width=\"24px\">\n",
              "    <path d=\"M0 0h24v24H0V0z\" fill=\"none\"/>\n",
              "    <path d=\"M18.56 5.44l.94 2.06.94-2.06 2.06-.94-2.06-.94-.94-2.06-.94 2.06-2.06.94zm-11 1L8.5 8.5l.94-2.06 2.06-.94-2.06-.94L8.5 2.5l-.94 2.06-2.06.94zm10 10l.94 2.06.94-2.06 2.06-.94-2.06-.94-.94-2.06-.94 2.06-2.06.94z\"/><path d=\"M17.41 7.96l-1.37-1.37c-.4-.4-.92-.59-1.43-.59-.52 0-1.04.2-1.43.59L10.3 9.45l-7.72 7.72c-.78.78-.78 2.05 0 2.83L4 21.41c.39.39.9.59 1.41.59.51 0 1.02-.2 1.41-.59l7.78-7.78 2.81-2.81c.8-.78.8-2.07 0-2.86zM5.41 20L4 18.59l7.72-7.72 1.47 1.35L5.41 20z\"/>\n",
              "  </svg>\n",
              "      </button>\n",
              "      \n",
              "  <style>\n",
              "    .colab-df-container {\n",
              "      display:flex;\n",
              "      flex-wrap:wrap;\n",
              "      gap: 12px;\n",
              "    }\n",
              "\n",
              "    .colab-df-convert {\n",
              "      background-color: #E8F0FE;\n",
              "      border: none;\n",
              "      border-radius: 50%;\n",
              "      cursor: pointer;\n",
              "      display: none;\n",
              "      fill: #1967D2;\n",
              "      height: 32px;\n",
              "      padding: 0 0 0 0;\n",
              "      width: 32px;\n",
              "    }\n",
              "\n",
              "    .colab-df-convert:hover {\n",
              "      background-color: #E2EBFA;\n",
              "      box-shadow: 0px 1px 2px rgba(60, 64, 67, 0.3), 0px 1px 3px 1px rgba(60, 64, 67, 0.15);\n",
              "      fill: #174EA6;\n",
              "    }\n",
              "\n",
              "    [theme=dark] .colab-df-convert {\n",
              "      background-color: #3B4455;\n",
              "      fill: #D2E3FC;\n",
              "    }\n",
              "\n",
              "    [theme=dark] .colab-df-convert:hover {\n",
              "      background-color: #434B5C;\n",
              "      box-shadow: 0px 1px 3px 1px rgba(0, 0, 0, 0.15);\n",
              "      filter: drop-shadow(0px 1px 2px rgba(0, 0, 0, 0.3));\n",
              "      fill: #FFFFFF;\n",
              "    }\n",
              "  </style>\n",
              "\n",
              "      <script>\n",
              "        const buttonEl =\n",
              "          document.querySelector('#df-41264be1-2061-4f45-b0b9-9f3424a425f6 button.colab-df-convert');\n",
              "        buttonEl.style.display =\n",
              "          google.colab.kernel.accessAllowed ? 'block' : 'none';\n",
              "\n",
              "        async function convertToInteractive(key) {\n",
              "          const element = document.querySelector('#df-41264be1-2061-4f45-b0b9-9f3424a425f6');\n",
              "          const dataTable =\n",
              "            await google.colab.kernel.invokeFunction('convertToInteractive',\n",
              "                                                     [key], {});\n",
              "          if (!dataTable) return;\n",
              "\n",
              "          const docLinkHtml = 'Like what you see? Visit the ' +\n",
              "            '<a target=\"_blank\" href=https://colab.research.google.com/notebooks/data_table.ipynb>data table notebook</a>'\n",
              "            + ' to learn more about interactive tables.';\n",
              "          element.innerHTML = '';\n",
              "          dataTable['output_type'] = 'display_data';\n",
              "          await google.colab.output.renderOutput(dataTable, element);\n",
              "          const docLink = document.createElement('div');\n",
              "          docLink.innerHTML = docLinkHtml;\n",
              "          element.appendChild(docLink);\n",
              "        }\n",
              "      </script>\n",
              "    </div>\n",
              "  </div>\n",
              "  "
            ]
          },
          "metadata": {},
          "execution_count": 30
        }
      ]
    },
    {
      "cell_type": "markdown",
      "source": [
        "**Variables for Model**"
      ],
      "metadata": {
        "id": "CEwe8gNrQrxT"
      }
    },
    {
      "cell_type": "markdown",
      "source": [
        "Junior developer"
      ],
      "metadata": {
        "id": "wf4ViDChsSUH"
      }
    },
    {
      "cell_type": "code",
      "source": [
        "y_jd = train_jd.salary\n",
        "X_jd = train_jd.drop(['salary','Id','junior developer'], axis=1)\n",
        "X_train_jd, X_test_jd, y_train_jd, y_test_jd = train_test_split(X_jd,y_jd, test_size = 0.3, random_state = 13)"
      ],
      "metadata": {
        "id": "B9XsUSWWrwHH"
      },
      "execution_count": null,
      "outputs": []
    },
    {
      "cell_type": "markdown",
      "source": [
        "Data scientist"
      ],
      "metadata": {
        "id": "tEiMHLXZsW5D"
      }
    },
    {
      "cell_type": "code",
      "source": [
        "y_ds = train_ds.salary\n",
        "X_ds = train_ds.drop(['salary','Id','data scientist'], axis=1)\n",
        "X_train_ds, X_test_ds, y_train_ds, y_test_ds = train_test_split(X_ds,y_ds, test_size = 0.3, random_state = 13)"
      ],
      "metadata": {
        "id": "9OzHtFNorv5m"
      },
      "execution_count": null,
      "outputs": []
    },
    {
      "cell_type": "markdown",
      "source": [
        "Developer"
      ],
      "metadata": {
        "id": "A-7LZwScsi8t"
      }
    },
    {
      "cell_type": "code",
      "source": [
        "y_d = train_d.salary\n",
        "X_d = train_d.drop(['salary','Id','developer'], axis=1)\n",
        "X_train_d, X_test_d, y_train_d, y_test_d = train_test_split(X_d,y_d, test_size = 0.3, random_state = 13)"
      ],
      "metadata": {
        "id": "YQH-yY8tq5ML"
      },
      "execution_count": null,
      "outputs": []
    },
    {
      "cell_type": "markdown",
      "source": [
        "Economist"
      ],
      "metadata": {
        "id": "sr2l5VA9stjK"
      }
    },
    {
      "cell_type": "code",
      "source": [
        "y_e = train_e.salary\n",
        "X_e = train_e.drop(['salary','Id','economist'], axis=1)\n",
        "X_train_e, X_test_e, y_train_e, y_test_e = train_test_split(X_e,y_e, test_size = 0.3, random_state = 13)"
      ],
      "metadata": {
        "id": "QbCHXhy-q5H_"
      },
      "execution_count": null,
      "outputs": []
    },
    {
      "cell_type": "markdown",
      "source": [
        "Robotics engineer"
      ],
      "metadata": {
        "id": "xRWV4CUGtNTN"
      }
    },
    {
      "cell_type": "code",
      "source": [
        "y_re = train_re.salary\n",
        "X_re = train_re.drop(['salary','Id','robotics engineer'], axis=1)\n",
        "X_train_re, X_test_re, y_train_re, y_test_re = train_test_split(X_re,y_re, test_size = 0.3, random_state = 13)"
      ],
      "metadata": {
        "id": "jH0wB7Ikq5Ei"
      },
      "execution_count": null,
      "outputs": []
    },
    {
      "cell_type": "markdown",
      "source": [
        "Senior Developer"
      ],
      "metadata": {
        "id": "58s6TY8UqSGr"
      }
    },
    {
      "cell_type": "code",
      "source": [
        "y_sd = train_sd.salary\n",
        "X_sd = train_sd.drop(['salary','Id','senior developer'], axis=1)\n",
        "X_train_sd, X_test_sd, y_train_sd, y_test_sd = train_test_split(X_sd,y_sd, test_size = 0.3, random_state = 13)"
      ],
      "metadata": {
        "id": "jDtTDM2AQ2N6"
      },
      "execution_count": null,
      "outputs": []
    },
    {
      "cell_type": "code",
      "source": [
        "print(X_train_sd)\n",
        "print(y_train_sd)\n",
        "print('/////////////////////')\n",
        "print(X_sd)\n",
        "print(y_sd)\n",
        "print('/////////////////////')\n",
        "print(X_test_sd)\n",
        "print(y_test_sd)\n",
        "print('/////////////////////')\n",
        "X_train_sd.loc[X_train_sd['algebra'] == 73]"
      ],
      "metadata": {
        "colab": {
          "base_uri": "https://localhost:8080/",
          "height": 1000
        },
        "id": "fQxAqSf1OKoM",
        "outputId": "40c4b4d0-b630-4d3a-f718-13bc470cd51f"
      },
      "execution_count": null,
      "outputs": [
        {
          "output_type": "stream",
          "name": "stdout",
          "text": [
            "      algebra  programming  data science\n",
            "2527       91           50            94\n",
            "2992       59           70            59\n",
            "6375       89           50            76\n",
            "5073       82           58            89\n",
            "590        90           85            85\n",
            "...       ...          ...           ...\n",
            "5299       84           99            95\n",
            "4488       52           72            52\n",
            "481        75           80            89\n",
            "1138       77           93            70\n",
            "2090       78           81            99\n",
            "\n",
            "[1040 rows x 3 columns]\n",
            "2527    470000\n",
            "2992    520000\n",
            "6375    470000\n",
            "5073    550000\n",
            "590     590000\n",
            "         ...  \n",
            "5299    750000\n",
            "4488    480000\n",
            "481     620000\n",
            "1138    570000\n",
            "2090    660000\n",
            "Name: salary, Length: 1040, dtype: int64\n",
            "/////////////////////\n",
            "      algebra  programming  data science\n",
            "6          73           56            82\n",
            "13         70           80            55\n",
            "21         94           59            63\n",
            "28         99           61            63\n",
            "29         67           86            73\n",
            "...       ...          ...           ...\n",
            "8978       56           51            80\n",
            "8979       62           53            87\n",
            "8983       84           88            84\n",
            "8986       96           66            75\n",
            "8995       58           85            68\n",
            "\n",
            "[1487 rows x 3 columns]\n",
            "6       510000\n",
            "13      560000\n",
            "21      510000\n",
            "28      540000\n",
            "29      500000\n",
            "         ...  \n",
            "8978    380000\n",
            "8979    510000\n",
            "8983    560000\n",
            "8986    610000\n",
            "8995    590000\n",
            "Name: salary, Length: 1487, dtype: int64\n",
            "/////////////////////\n",
            "      algebra  programming  data science\n",
            "5458       70           60            51\n",
            "2748       78           94            50\n",
            "4086       92           57            62\n",
            "3927       84           54            50\n",
            "8360       91           64            55\n",
            "...       ...          ...           ...\n",
            "185        63           85            91\n",
            "3961       82           54            56\n",
            "3758       69           81            94\n",
            "5360       81           87            62\n",
            "1903       86           95            92\n",
            "\n",
            "[447 rows x 3 columns]\n",
            "5458    440000\n",
            "2748    560000\n",
            "4086    470000\n",
            "3927    490000\n",
            "8360    420000\n",
            "         ...  \n",
            "185     520000\n",
            "3961    510000\n",
            "3758    670000\n",
            "5360    610000\n",
            "1903    580000\n",
            "Name: salary, Length: 447, dtype: int64\n",
            "/////////////////////\n"
          ]
        },
        {
          "output_type": "execute_result",
          "data": {
            "text/plain": [
              "      algebra  programming  data science\n",
              "5590       73           64            67\n",
              "1114       73           50            85\n",
              "3536       73           61            68\n",
              "5246       73           58            99\n",
              "4330       73           50            95\n",
              "8762       73           76            85\n",
              "3032       73           70            90\n",
              "6502       73           57            56\n",
              "7750       73           73            85\n",
              "3814       73           94            61\n",
              "2257       73           71            96\n",
              "1391       73           60            56\n",
              "4090       73           95            62\n",
              "5606       73           85            62\n",
              "6394       73           79            83\n",
              "4874       73           52            78\n",
              "6465       73           87            77\n",
              "2259       73           70            98\n",
              "6960       73           82            83\n",
              "3979       73           80            53\n",
              "3213       73           55            87"
            ],
            "text/html": [
              "\n",
              "  <div id=\"df-97ae78a1-177b-46e0-b65e-8309c9d6f91c\">\n",
              "    <div class=\"colab-df-container\">\n",
              "      <div>\n",
              "<style scoped>\n",
              "    .dataframe tbody tr th:only-of-type {\n",
              "        vertical-align: middle;\n",
              "    }\n",
              "\n",
              "    .dataframe tbody tr th {\n",
              "        vertical-align: top;\n",
              "    }\n",
              "\n",
              "    .dataframe thead th {\n",
              "        text-align: right;\n",
              "    }\n",
              "</style>\n",
              "<table border=\"1\" class=\"dataframe\">\n",
              "  <thead>\n",
              "    <tr style=\"text-align: right;\">\n",
              "      <th></th>\n",
              "      <th>algebra</th>\n",
              "      <th>programming</th>\n",
              "      <th>data science</th>\n",
              "    </tr>\n",
              "  </thead>\n",
              "  <tbody>\n",
              "    <tr>\n",
              "      <th>5590</th>\n",
              "      <td>73</td>\n",
              "      <td>64</td>\n",
              "      <td>67</td>\n",
              "    </tr>\n",
              "    <tr>\n",
              "      <th>1114</th>\n",
              "      <td>73</td>\n",
              "      <td>50</td>\n",
              "      <td>85</td>\n",
              "    </tr>\n",
              "    <tr>\n",
              "      <th>3536</th>\n",
              "      <td>73</td>\n",
              "      <td>61</td>\n",
              "      <td>68</td>\n",
              "    </tr>\n",
              "    <tr>\n",
              "      <th>5246</th>\n",
              "      <td>73</td>\n",
              "      <td>58</td>\n",
              "      <td>99</td>\n",
              "    </tr>\n",
              "    <tr>\n",
              "      <th>4330</th>\n",
              "      <td>73</td>\n",
              "      <td>50</td>\n",
              "      <td>95</td>\n",
              "    </tr>\n",
              "    <tr>\n",
              "      <th>8762</th>\n",
              "      <td>73</td>\n",
              "      <td>76</td>\n",
              "      <td>85</td>\n",
              "    </tr>\n",
              "    <tr>\n",
              "      <th>3032</th>\n",
              "      <td>73</td>\n",
              "      <td>70</td>\n",
              "      <td>90</td>\n",
              "    </tr>\n",
              "    <tr>\n",
              "      <th>6502</th>\n",
              "      <td>73</td>\n",
              "      <td>57</td>\n",
              "      <td>56</td>\n",
              "    </tr>\n",
              "    <tr>\n",
              "      <th>7750</th>\n",
              "      <td>73</td>\n",
              "      <td>73</td>\n",
              "      <td>85</td>\n",
              "    </tr>\n",
              "    <tr>\n",
              "      <th>3814</th>\n",
              "      <td>73</td>\n",
              "      <td>94</td>\n",
              "      <td>61</td>\n",
              "    </tr>\n",
              "    <tr>\n",
              "      <th>2257</th>\n",
              "      <td>73</td>\n",
              "      <td>71</td>\n",
              "      <td>96</td>\n",
              "    </tr>\n",
              "    <tr>\n",
              "      <th>1391</th>\n",
              "      <td>73</td>\n",
              "      <td>60</td>\n",
              "      <td>56</td>\n",
              "    </tr>\n",
              "    <tr>\n",
              "      <th>4090</th>\n",
              "      <td>73</td>\n",
              "      <td>95</td>\n",
              "      <td>62</td>\n",
              "    </tr>\n",
              "    <tr>\n",
              "      <th>5606</th>\n",
              "      <td>73</td>\n",
              "      <td>85</td>\n",
              "      <td>62</td>\n",
              "    </tr>\n",
              "    <tr>\n",
              "      <th>6394</th>\n",
              "      <td>73</td>\n",
              "      <td>79</td>\n",
              "      <td>83</td>\n",
              "    </tr>\n",
              "    <tr>\n",
              "      <th>4874</th>\n",
              "      <td>73</td>\n",
              "      <td>52</td>\n",
              "      <td>78</td>\n",
              "    </tr>\n",
              "    <tr>\n",
              "      <th>6465</th>\n",
              "      <td>73</td>\n",
              "      <td>87</td>\n",
              "      <td>77</td>\n",
              "    </tr>\n",
              "    <tr>\n",
              "      <th>2259</th>\n",
              "      <td>73</td>\n",
              "      <td>70</td>\n",
              "      <td>98</td>\n",
              "    </tr>\n",
              "    <tr>\n",
              "      <th>6960</th>\n",
              "      <td>73</td>\n",
              "      <td>82</td>\n",
              "      <td>83</td>\n",
              "    </tr>\n",
              "    <tr>\n",
              "      <th>3979</th>\n",
              "      <td>73</td>\n",
              "      <td>80</td>\n",
              "      <td>53</td>\n",
              "    </tr>\n",
              "    <tr>\n",
              "      <th>3213</th>\n",
              "      <td>73</td>\n",
              "      <td>55</td>\n",
              "      <td>87</td>\n",
              "    </tr>\n",
              "  </tbody>\n",
              "</table>\n",
              "</div>\n",
              "      <button class=\"colab-df-convert\" onclick=\"convertToInteractive('df-97ae78a1-177b-46e0-b65e-8309c9d6f91c')\"\n",
              "              title=\"Convert this dataframe to an interactive table.\"\n",
              "              style=\"display:none;\">\n",
              "        \n",
              "  <svg xmlns=\"http://www.w3.org/2000/svg\" height=\"24px\"viewBox=\"0 0 24 24\"\n",
              "       width=\"24px\">\n",
              "    <path d=\"M0 0h24v24H0V0z\" fill=\"none\"/>\n",
              "    <path d=\"M18.56 5.44l.94 2.06.94-2.06 2.06-.94-2.06-.94-.94-2.06-.94 2.06-2.06.94zm-11 1L8.5 8.5l.94-2.06 2.06-.94-2.06-.94L8.5 2.5l-.94 2.06-2.06.94zm10 10l.94 2.06.94-2.06 2.06-.94-2.06-.94-.94-2.06-.94 2.06-2.06.94z\"/><path d=\"M17.41 7.96l-1.37-1.37c-.4-.4-.92-.59-1.43-.59-.52 0-1.04.2-1.43.59L10.3 9.45l-7.72 7.72c-.78.78-.78 2.05 0 2.83L4 21.41c.39.39.9.59 1.41.59.51 0 1.02-.2 1.41-.59l7.78-7.78 2.81-2.81c.8-.78.8-2.07 0-2.86zM5.41 20L4 18.59l7.72-7.72 1.47 1.35L5.41 20z\"/>\n",
              "  </svg>\n",
              "      </button>\n",
              "      \n",
              "  <style>\n",
              "    .colab-df-container {\n",
              "      display:flex;\n",
              "      flex-wrap:wrap;\n",
              "      gap: 12px;\n",
              "    }\n",
              "\n",
              "    .colab-df-convert {\n",
              "      background-color: #E8F0FE;\n",
              "      border: none;\n",
              "      border-radius: 50%;\n",
              "      cursor: pointer;\n",
              "      display: none;\n",
              "      fill: #1967D2;\n",
              "      height: 32px;\n",
              "      padding: 0 0 0 0;\n",
              "      width: 32px;\n",
              "    }\n",
              "\n",
              "    .colab-df-convert:hover {\n",
              "      background-color: #E2EBFA;\n",
              "      box-shadow: 0px 1px 2px rgba(60, 64, 67, 0.3), 0px 1px 3px 1px rgba(60, 64, 67, 0.15);\n",
              "      fill: #174EA6;\n",
              "    }\n",
              "\n",
              "    [theme=dark] .colab-df-convert {\n",
              "      background-color: #3B4455;\n",
              "      fill: #D2E3FC;\n",
              "    }\n",
              "\n",
              "    [theme=dark] .colab-df-convert:hover {\n",
              "      background-color: #434B5C;\n",
              "      box-shadow: 0px 1px 3px 1px rgba(0, 0, 0, 0.15);\n",
              "      filter: drop-shadow(0px 1px 2px rgba(0, 0, 0, 0.3));\n",
              "      fill: #FFFFFF;\n",
              "    }\n",
              "  </style>\n",
              "\n",
              "      <script>\n",
              "        const buttonEl =\n",
              "          document.querySelector('#df-97ae78a1-177b-46e0-b65e-8309c9d6f91c button.colab-df-convert');\n",
              "        buttonEl.style.display =\n",
              "          google.colab.kernel.accessAllowed ? 'block' : 'none';\n",
              "\n",
              "        async function convertToInteractive(key) {\n",
              "          const element = document.querySelector('#df-97ae78a1-177b-46e0-b65e-8309c9d6f91c');\n",
              "          const dataTable =\n",
              "            await google.colab.kernel.invokeFunction('convertToInteractive',\n",
              "                                                     [key], {});\n",
              "          if (!dataTable) return;\n",
              "\n",
              "          const docLinkHtml = 'Like what you see? Visit the ' +\n",
              "            '<a target=\"_blank\" href=https://colab.research.google.com/notebooks/data_table.ipynb>data table notebook</a>'\n",
              "            + ' to learn more about interactive tables.';\n",
              "          element.innerHTML = '';\n",
              "          dataTable['output_type'] = 'display_data';\n",
              "          await google.colab.output.renderOutput(dataTable, element);\n",
              "          const docLink = document.createElement('div');\n",
              "          docLink.innerHTML = docLinkHtml;\n",
              "          element.appendChild(docLink);\n",
              "        }\n",
              "      </script>\n",
              "    </div>\n",
              "  </div>\n",
              "  "
            ]
          },
          "metadata": {},
          "execution_count": 37
        }
      ]
    },
    {
      "cell_type": "code",
      "source": [
        "X_test_sd.loc[X_test_sd['algebra'] == 73]"
      ],
      "metadata": {
        "id": "WnY208Aspgju",
        "outputId": "67b5332e-4d00-4ec8-f1e1-b156810c1b1e",
        "colab": {
          "base_uri": "https://localhost:8080/",
          "height": 331
        }
      },
      "execution_count": null,
      "outputs": [
        {
          "output_type": "execute_result",
          "data": {
            "text/plain": [
              "      algebra  programming  data science\n",
              "6938       73           51            75\n",
              "6947       73           62            91\n",
              "8392       73           61            58\n",
              "3426       73           97            85\n",
              "5038       73           71            67\n",
              "4566       73           98            92\n",
              "6          73           56            82\n",
              "3465       73           79            71\n",
              "6421       73           77            90"
            ],
            "text/html": [
              "\n",
              "  <div id=\"df-e91c35ed-9420-4682-be0e-3223a733f87f\">\n",
              "    <div class=\"colab-df-container\">\n",
              "      <div>\n",
              "<style scoped>\n",
              "    .dataframe tbody tr th:only-of-type {\n",
              "        vertical-align: middle;\n",
              "    }\n",
              "\n",
              "    .dataframe tbody tr th {\n",
              "        vertical-align: top;\n",
              "    }\n",
              "\n",
              "    .dataframe thead th {\n",
              "        text-align: right;\n",
              "    }\n",
              "</style>\n",
              "<table border=\"1\" class=\"dataframe\">\n",
              "  <thead>\n",
              "    <tr style=\"text-align: right;\">\n",
              "      <th></th>\n",
              "      <th>algebra</th>\n",
              "      <th>programming</th>\n",
              "      <th>data science</th>\n",
              "    </tr>\n",
              "  </thead>\n",
              "  <tbody>\n",
              "    <tr>\n",
              "      <th>6938</th>\n",
              "      <td>73</td>\n",
              "      <td>51</td>\n",
              "      <td>75</td>\n",
              "    </tr>\n",
              "    <tr>\n",
              "      <th>6947</th>\n",
              "      <td>73</td>\n",
              "      <td>62</td>\n",
              "      <td>91</td>\n",
              "    </tr>\n",
              "    <tr>\n",
              "      <th>8392</th>\n",
              "      <td>73</td>\n",
              "      <td>61</td>\n",
              "      <td>58</td>\n",
              "    </tr>\n",
              "    <tr>\n",
              "      <th>3426</th>\n",
              "      <td>73</td>\n",
              "      <td>97</td>\n",
              "      <td>85</td>\n",
              "    </tr>\n",
              "    <tr>\n",
              "      <th>5038</th>\n",
              "      <td>73</td>\n",
              "      <td>71</td>\n",
              "      <td>67</td>\n",
              "    </tr>\n",
              "    <tr>\n",
              "      <th>4566</th>\n",
              "      <td>73</td>\n",
              "      <td>98</td>\n",
              "      <td>92</td>\n",
              "    </tr>\n",
              "    <tr>\n",
              "      <th>6</th>\n",
              "      <td>73</td>\n",
              "      <td>56</td>\n",
              "      <td>82</td>\n",
              "    </tr>\n",
              "    <tr>\n",
              "      <th>3465</th>\n",
              "      <td>73</td>\n",
              "      <td>79</td>\n",
              "      <td>71</td>\n",
              "    </tr>\n",
              "    <tr>\n",
              "      <th>6421</th>\n",
              "      <td>73</td>\n",
              "      <td>77</td>\n",
              "      <td>90</td>\n",
              "    </tr>\n",
              "  </tbody>\n",
              "</table>\n",
              "</div>\n",
              "      <button class=\"colab-df-convert\" onclick=\"convertToInteractive('df-e91c35ed-9420-4682-be0e-3223a733f87f')\"\n",
              "              title=\"Convert this dataframe to an interactive table.\"\n",
              "              style=\"display:none;\">\n",
              "        \n",
              "  <svg xmlns=\"http://www.w3.org/2000/svg\" height=\"24px\"viewBox=\"0 0 24 24\"\n",
              "       width=\"24px\">\n",
              "    <path d=\"M0 0h24v24H0V0z\" fill=\"none\"/>\n",
              "    <path d=\"M18.56 5.44l.94 2.06.94-2.06 2.06-.94-2.06-.94-.94-2.06-.94 2.06-2.06.94zm-11 1L8.5 8.5l.94-2.06 2.06-.94-2.06-.94L8.5 2.5l-.94 2.06-2.06.94zm10 10l.94 2.06.94-2.06 2.06-.94-2.06-.94-.94-2.06-.94 2.06-2.06.94z\"/><path d=\"M17.41 7.96l-1.37-1.37c-.4-.4-.92-.59-1.43-.59-.52 0-1.04.2-1.43.59L10.3 9.45l-7.72 7.72c-.78.78-.78 2.05 0 2.83L4 21.41c.39.39.9.59 1.41.59.51 0 1.02-.2 1.41-.59l7.78-7.78 2.81-2.81c.8-.78.8-2.07 0-2.86zM5.41 20L4 18.59l7.72-7.72 1.47 1.35L5.41 20z\"/>\n",
              "  </svg>\n",
              "      </button>\n",
              "      \n",
              "  <style>\n",
              "    .colab-df-container {\n",
              "      display:flex;\n",
              "      flex-wrap:wrap;\n",
              "      gap: 12px;\n",
              "    }\n",
              "\n",
              "    .colab-df-convert {\n",
              "      background-color: #E8F0FE;\n",
              "      border: none;\n",
              "      border-radius: 50%;\n",
              "      cursor: pointer;\n",
              "      display: none;\n",
              "      fill: #1967D2;\n",
              "      height: 32px;\n",
              "      padding: 0 0 0 0;\n",
              "      width: 32px;\n",
              "    }\n",
              "\n",
              "    .colab-df-convert:hover {\n",
              "      background-color: #E2EBFA;\n",
              "      box-shadow: 0px 1px 2px rgba(60, 64, 67, 0.3), 0px 1px 3px 1px rgba(60, 64, 67, 0.15);\n",
              "      fill: #174EA6;\n",
              "    }\n",
              "\n",
              "    [theme=dark] .colab-df-convert {\n",
              "      background-color: #3B4455;\n",
              "      fill: #D2E3FC;\n",
              "    }\n",
              "\n",
              "    [theme=dark] .colab-df-convert:hover {\n",
              "      background-color: #434B5C;\n",
              "      box-shadow: 0px 1px 3px 1px rgba(0, 0, 0, 0.15);\n",
              "      filter: drop-shadow(0px 1px 2px rgba(0, 0, 0, 0.3));\n",
              "      fill: #FFFFFF;\n",
              "    }\n",
              "  </style>\n",
              "\n",
              "      <script>\n",
              "        const buttonEl =\n",
              "          document.querySelector('#df-e91c35ed-9420-4682-be0e-3223a733f87f button.colab-df-convert');\n",
              "        buttonEl.style.display =\n",
              "          google.colab.kernel.accessAllowed ? 'block' : 'none';\n",
              "\n",
              "        async function convertToInteractive(key) {\n",
              "          const element = document.querySelector('#df-e91c35ed-9420-4682-be0e-3223a733f87f');\n",
              "          const dataTable =\n",
              "            await google.colab.kernel.invokeFunction('convertToInteractive',\n",
              "                                                     [key], {});\n",
              "          if (!dataTable) return;\n",
              "\n",
              "          const docLinkHtml = 'Like what you see? Visit the ' +\n",
              "            '<a target=\"_blank\" href=https://colab.research.google.com/notebooks/data_table.ipynb>data table notebook</a>'\n",
              "            + ' to learn more about interactive tables.';\n",
              "          element.innerHTML = '';\n",
              "          dataTable['output_type'] = 'display_data';\n",
              "          await google.colab.output.renderOutput(dataTable, element);\n",
              "          const docLink = document.createElement('div');\n",
              "          docLink.innerHTML = docLinkHtml;\n",
              "          element.appendChild(docLink);\n",
              "        }\n",
              "      </script>\n",
              "    </div>\n",
              "  </div>\n",
              "  "
            ]
          },
          "metadata": {},
          "execution_count": 38
        }
      ]
    },
    {
      "cell_type": "markdown",
      "source": [
        "# **Models**"
      ],
      "metadata": {
        "id": "LTzTlTQ1QK-b"
      }
    },
    {
      "cell_type": "markdown",
      "source": [
        "## **Random Forest model**"
      ],
      "metadata": {
        "id": "AL3sS4Xnp17j"
      }
    },
    {
      "cell_type": "markdown",
      "source": [
        "Junior Developer"
      ],
      "metadata": {
        "id": "HBF26dJA0ZcS"
      }
    },
    {
      "cell_type": "code",
      "source": [
        "%%time\n",
        "RF_model_jd = RandomForestRegressor(n_estimators=500, n_jobs=-1, random_state=13).fit(X_train_jd,y_train_jd)"
      ],
      "metadata": {
        "colab": {
          "base_uri": "https://localhost:8080/"
        },
        "id": "SVVi5JqhQG9D",
        "outputId": "4f1a2816-191d-4cc9-c904-595220e5765f"
      },
      "execution_count": null,
      "outputs": [
        {
          "output_type": "stream",
          "name": "stdout",
          "text": [
            "CPU times: user 1.77 s, sys: 72.1 ms, total: 1.84 s\n",
            "Wall time: 1.92 s\n"
          ]
        }
      ]
    },
    {
      "cell_type": "code",
      "source": [
        "features = {}\n",
        "for feature, importance in zip(X_train_jd.columns, RF_model_jd.feature_importances_):\n",
        "    features[feature] = importance\n",
        "\n",
        "importances = pd.DataFrame({\"RF\":features})\n",
        "importances.sort_values(\"RF\", ascending = False, inplace=True)\n",
        "importances[:3].plot.bar();"
      ],
      "metadata": {
        "colab": {
          "base_uri": "https://localhost:8080/",
          "height": 333
        },
        "id": "pnOXXq1Rk_6D",
        "outputId": "c5b12408-2f19-4a59-e4c2-a9ce41a201de"
      },
      "execution_count": null,
      "outputs": [
        {
          "output_type": "display_data",
          "data": {
            "text/plain": [
              "<Figure size 432x288 with 1 Axes>"
            ],
            "image/png": "[encoded data removed]"
          },
          "metadata": {
            "needs_background": "light"
          }
        }
      ]
    },
    {
      "cell_type": "markdown",
      "source": [
        "Data Scientist"
      ],
      "metadata": {
        "id": "es7Q1TQh0Tfk"
      }
    },
    {
      "cell_type": "code",
      "source": [
        "%%time\n",
        "RF_model_ds = RandomForestRegressor(n_estimators=500, n_jobs=-1, random_state=13).fit(X_train_ds,y_train_ds)"
      ],
      "metadata": {
        "colab": {
          "base_uri": "https://localhost:8080/"
        },
        "id": "ZQzheY1btyNq",
        "outputId": "550202c5-5de2-4ff9-8c90-c0aefa9778c2"
      },
      "execution_count": null,
      "outputs": [
        {
          "output_type": "stream",
          "name": "stdout",
          "text": [
            "CPU times: user 1.62 s, sys: 134 ms, total: 1.76 s\n",
            "Wall time: 1.31 s\n"
          ]
        }
      ]
    },
    {
      "cell_type": "code",
      "source": [
        "features = {}\n",
        "for feature, importance in zip(X_train_ds.columns, RF_model_ds.feature_importances_):\n",
        "    features[feature] = importance\n",
        "\n",
        "importances = pd.DataFrame({\"RF\":features})\n",
        "importances.sort_values(\"RF\", ascending = False, inplace=True)\n",
        "importances[:3].plot.bar();"
      ],
      "metadata": {
        "colab": {
          "base_uri": "https://localhost:8080/",
          "height": 333
        },
        "id": "7LO704qztx9L",
        "outputId": "ce14e763-7f5c-473e-e2aa-c679ac470bd9"
      },
      "execution_count": null,
      "outputs": [
        {
          "output_type": "display_data",
          "data": {
            "text/plain": [
              "<Figure size 432x288 with 1 Axes>"
            ],
            "image/png": "[encoded data removed]"
          },
          "metadata": {
            "needs_background": "light"
          }
        }
      ]
    },
    {
      "cell_type": "markdown",
      "source": [
        "Developer"
      ],
      "metadata": {
        "id": "dVYEErFj0frh"
      }
    },
    {
      "cell_type": "code",
      "source": [
        "%%time\n",
        "RF_model_d = RandomForestRegressor(n_estimators=500, n_jobs=-1, random_state=13).fit(X_train_d,y_train_d)"
      ],
      "metadata": {
        "colab": {
          "base_uri": "https://localhost:8080/"
        },
        "id": "OMdUjLdW0fWj",
        "outputId": "adb73795-9c0f-401f-f9ba-dc92fbbbe5e6"
      },
      "execution_count": null,
      "outputs": [
        {
          "output_type": "stream",
          "name": "stdout",
          "text": [
            "CPU times: user 1.53 s, sys: 161 ms, total: 1.69 s\n",
            "Wall time: 1.2 s\n"
          ]
        }
      ]
    },
    {
      "cell_type": "code",
      "source": [
        "features = {}\n",
        "for feature, importance in zip(X_train_d.columns, RF_model_d.feature_importances_):\n",
        "    features[feature] = importance\n",
        "\n",
        "importances = pd.DataFrame({\"RF\":features})\n",
        "importances.sort_values(\"RF\", ascending = False, inplace=True)\n",
        "importances[:3].plot.bar();"
      ],
      "metadata": {
        "colab": {
          "base_uri": "https://localhost:8080/",
          "height": 333
        },
        "id": "Dc-M-x470fNB",
        "outputId": "88486330-5efd-42a5-da4f-bde5f1515644"
      },
      "execution_count": null,
      "outputs": [
        {
          "output_type": "display_data",
          "data": {
            "text/plain": [
              "<Figure size 432x288 with 1 Axes>"
            ],
            "image/png": "[encoded data removed]"
          },
          "metadata": {
            "needs_background": "light"
          }
        }
      ]
    },
    {
      "cell_type": "markdown",
      "source": [
        "Economist"
      ],
      "metadata": {
        "id": "RI12bj6V0tFu"
      }
    },
    {
      "cell_type": "code",
      "source": [
        "%%time\n",
        "RF_model_e = RandomForestRegressor(n_estimators=500, n_jobs=-1, random_state=13).fit(X_train_e,y_train_e)"
      ],
      "metadata": {
        "colab": {
          "base_uri": "https://localhost:8080/"
        },
        "id": "JCOHHV9Q0sww",
        "outputId": "e416a2bb-92b6-4612-80ed-b32ef29ba687"
      },
      "execution_count": null,
      "outputs": [
        {
          "output_type": "stream",
          "name": "stdout",
          "text": [
            "CPU times: user 1.29 s, sys: 169 ms, total: 1.46 s\n",
            "Wall time: 1.11 s\n"
          ]
        }
      ]
    },
    {
      "cell_type": "code",
      "source": [
        "features = {}\n",
        "for feature, importance in zip(X_train_e.columns, RF_model_e.feature_importances_):\n",
        "    features[feature] = importance\n",
        "\n",
        "importances = pd.DataFrame({\"RF\":features})\n",
        "importances.sort_values(\"RF\", ascending = False, inplace=True)\n",
        "importances[:3].plot.bar();"
      ],
      "metadata": {
        "colab": {
          "base_uri": "https://localhost:8080/",
          "height": 317
        },
        "id": "7qFIW7lE0smn",
        "outputId": "8712e13b-d4c0-48e7-d88c-22607345b049"
      },
      "execution_count": null,
      "outputs": [
        {
          "output_type": "display_data",
          "data": {
            "text/plain": [
              "<Figure size 432x288 with 1 Axes>"
            ],
            "image/png": "[encoded data removed]"
          },
          "metadata": {
            "needs_background": "light"
          }
        }
      ]
    },
    {
      "cell_type": "markdown",
      "source": [
        "Robotics engineer"
      ],
      "metadata": {
        "id": "c02Vu_jz1LsN"
      }
    },
    {
      "cell_type": "code",
      "source": [
        "%%time\n",
        "RF_model_re = RandomForestRegressor(n_estimators=500, n_jobs=-1, random_state=13).fit(X_train_re,y_train_re)"
      ],
      "metadata": {
        "colab": {
          "base_uri": "https://localhost:8080/"
        },
        "id": "K8GjF6NH1LYq",
        "outputId": "992d0ad9-abd4-4c4b-a986-c149bd766ab1"
      },
      "execution_count": null,
      "outputs": [
        {
          "output_type": "stream",
          "name": "stdout",
          "text": [
            "CPU times: user 1.3 s, sys: 158 ms, total: 1.46 s\n",
            "Wall time: 1.09 s\n"
          ]
        }
      ]
    },
    {
      "cell_type": "code",
      "source": [
        "features = {}\n",
        "for feature, importance in zip(X_train_re.columns, RF_model_re.feature_importances_):\n",
        "    features[feature] = importance\n",
        "\n",
        "importances = pd.DataFrame({\"RF\":features})\n",
        "importances.sort_values(\"RF\", ascending = False, inplace=True)\n",
        "importances[:3].plot.bar();"
      ],
      "metadata": {
        "colab": {
          "base_uri": "https://localhost:8080/",
          "height": 333
        },
        "id": "PNI1lJr31LMl",
        "outputId": "58e61252-06fb-47bf-a2fb-5f0c46a72ad5"
      },
      "execution_count": null,
      "outputs": [
        {
          "output_type": "display_data",
          "data": {
            "text/plain": [
              "<Figure size 432x288 with 1 Axes>"
            ],
            "image/png": "[encoded data removed]"
          },
          "metadata": {
            "needs_background": "light"
          }
        }
      ]
    },
    {
      "cell_type": "markdown",
      "source": [
        "Senior developer"
      ],
      "metadata": {
        "id": "Oy_SX2fW1dFD"
      }
    },
    {
      "cell_type": "code",
      "source": [
        "%%time\n",
        "RF_model_sd = RandomForestRegressor(n_estimators=500, n_jobs=-1, random_state=13).fit(X_train_sd,y_train_sd)"
      ],
      "metadata": {
        "colab": {
          "base_uri": "https://localhost:8080/"
        },
        "id": "3weLeNCU1ekJ",
        "outputId": "d3f9c29d-6de1-474b-90ab-17b4beea56fa"
      },
      "execution_count": null,
      "outputs": [
        {
          "output_type": "stream",
          "name": "stdout",
          "text": [
            "CPU times: user 1.62 s, sys: 161 ms, total: 1.78 s\n",
            "Wall time: 1.28 s\n"
          ]
        }
      ]
    },
    {
      "cell_type": "code",
      "source": [
        "features = {}\n",
        "for feature, importance in zip(X_train_sd.columns, RF_model_sd.feature_importances_):\n",
        "    features[feature] = importance\n",
        "\n",
        "importances = pd.DataFrame({\"RF\":features})\n",
        "importances.sort_values(\"RF\", ascending = False, inplace=True)\n",
        "importances[:3].plot.bar();"
      ],
      "metadata": {
        "colab": {
          "base_uri": "https://localhost:8080/",
          "height": 333
        },
        "id": "4AvCSxTI1eBR",
        "outputId": "cacbe2f7-86dc-4d81-bbfb-5ed8d2f34754"
      },
      "execution_count": null,
      "outputs": [
        {
          "output_type": "display_data",
          "data": {
            "text/plain": [
              "<Figure size 432x288 with 1 Axes>"
            ],
            "image/png": "[encoded data removed]"
          },
          "metadata": {
            "needs_background": "light"
          }
        }
      ]
    },
    {
      "cell_type": "markdown",
      "source": [
        "Scores"
      ],
      "metadata": {
        "id": "f-k3oZGR2Fna"
      }
    },
    {
      "cell_type": "code",
      "source": [
        "print(\"Random Forest for Jenior developer:\")\n",
        "print(\"train_score:\", RF_model_jd.score(X_train_jd,y_train_jd))\n",
        "print(\"test_score:\", RF_model_jd.score(X_test_jd,y_test_jd))\n",
        "print(\"train RMSE:\", np.sqrt(mean_squared_error(np.log(y_train_jd),np.log(RF_model_jd.predict(X_train_jd)))))\n",
        "print(\"test RMSE:\", np.sqrt(mean_squared_error(np.log(y_test_jd),np.log(RF_model_jd.predict(X_test_jd)))))\n",
        "print(\"------------------------------\")\n",
        "print(\"Random Forest for Data scientist:\")\n",
        "print(\"train_score:\", RF_model_ds.score(X_train_ds,y_train_ds))\n",
        "print(\"test_score:\", RF_model_ds.score(X_test_ds,y_test_ds))\n",
        "print(\"train RMSE:\", np.sqrt(mean_squared_error(np.log(y_train_ds),np.log(RF_model_ds.predict(X_train_ds)))))\n",
        "print(\"test RMSE:\", np.sqrt(mean_squared_error(np.log(y_test_ds),np.log(RF_model_ds.predict(X_test_ds)))))\n",
        "print(\"------------------------------\")\n",
        "print(\"Random Forest for Developer:\")\n",
        "print(\"train_score:\", RF_model_d.score(X_train_d,y_train_d))\n",
        "print(\"test_score:\", RF_model_d.score(X_test_d,y_test_d))\n",
        "print(\"train RMSE:\", np.sqrt(mean_squared_error(np.log(y_train_d),np.log(RF_model_d.predict(X_train_d)))))\n",
        "print(\"test RMSE:\", np.sqrt(mean_squared_error(np.log(y_test_d),np.log(RF_model_d.predict(X_test_d)))))\n",
        "print(\"------------------------------\")\n",
        "print(\"Random Forest for Economist:\")\n",
        "print(\"train_score:\", RF_model_e.score(X_train_e,y_train_e))\n",
        "print(\"test_score:\", RF_model_e.score(X_test_e,y_test_e))\n",
        "print(\"train RMSE:\", np.sqrt(mean_squared_error(np.log(y_train_e),np.log(RF_model_e.predict(X_train_e)))))\n",
        "print(\"test RMSE:\", np.sqrt(mean_squared_error(np.log(y_test_e),np.log(RF_model_e.predict(X_test_e)))))\n",
        "print(\"------------------------------\")\n",
        "print(\"Random Forest for Robotics engineer:\")\n",
        "print(\"train_score:\", RF_model_re.score(X_train_re,y_train_re))\n",
        "print(\"test_score:\", RF_model_re.score(X_test_re,y_test_re))\n",
        "print(\"train RMSE:\", np.sqrt(mean_squared_error(np.log(y_train_re),np.log(RF_model_re.predict(X_train_re)))))\n",
        "print(\"test RMSE:\", np.sqrt(mean_squared_error(np.log(y_test_re),np.log(RF_model_re.predict(X_test_re)))))\n",
        "print(\"------------------------------\")\n",
        "print(\"Random Forest for Senior developer:\")\n",
        "print(\"train_score:\", RF_model_sd.score(X_train_sd,y_train_sd))\n",
        "print(\"test_score:\", RF_model_sd.score(X_test_sd,y_test_sd))\n",
        "print(\"train RMSE:\", np.sqrt(mean_squared_error(np.log(y_train_sd),np.log(RF_model_sd.predict(X_train_sd)))))\n",
        "print(\"test RMSE:\", np.sqrt(mean_squared_error(np.log(y_test_sd),np.log(RF_model_sd.predict(X_test_sd)))))"
      ],
      "metadata": {
        "colab": {
          "base_uri": "https://localhost:8080/"
        },
        "id": "bZq8H60EqAlk",
        "outputId": "7306991c-9969-45fb-bea6-9e0ce0016ab8"
      },
      "execution_count": null,
      "outputs": [
        {
          "output_type": "stream",
          "name": "stdout",
          "text": [
            "Random Forest for Jenior developer:\n",
            "train_score: 0.948822230974483\n",
            "test_score: 0.646411803291344\n",
            "train RMSE: 0.035327010474548066\n",
            "test RMSE: 0.09109817603849828\n",
            "------------------------------\n",
            "Random Forest for Data scientist:\n",
            "train_score: 0.9504848000490654\n",
            "test_score: 0.6497183429303435\n",
            "train RMSE: 0.03396034432274921\n",
            "test RMSE: 0.09143984706939959\n",
            "------------------------------\n",
            "Random Forest for Developer:\n",
            "train_score: 0.958669209604737\n",
            "test_score: 0.7149401671764447\n",
            "train RMSE: 0.0340099063689721\n",
            "test RMSE: 0.09081632178804022\n",
            "------------------------------\n",
            "Random Forest for Economist:\n",
            "train_score: 0.8757083549119389\n",
            "test_score: 0.4066438954493887\n",
            "train RMSE: 0.048916457435293735\n",
            "test RMSE: 0.10468343281448482\n",
            "------------------------------\n",
            "Random Forest for Robotics engineer:\n",
            "train_score: 0.8782349812239476\n",
            "test_score: 0.44240770144456787\n",
            "train RMSE: 0.04833374618135772\n",
            "test RMSE: 0.10486679024519864\n",
            "------------------------------\n",
            "Random Forest for Senior developer:\n",
            "train_score: 0.9298492945368475\n",
            "test_score: 0.509166398526756\n",
            "train RMSE: 0.03634968399162317\n",
            "test RMSE: 0.09631448958624142\n"
          ]
        }
      ]
    },
    {
      "cell_type": "code",
      "source": [
        "predict.head()"
      ],
      "metadata": {
        "id": "xLYRqs4AAST1",
        "colab": {
          "base_uri": "https://localhost:8080/",
          "height": 206
        },
        "outputId": "fb8de72b-cc5c-4d2d-ef15-b1b9da29d71d"
      },
      "execution_count": null,
      "outputs": [
        {
          "output_type": "execute_result",
          "data": {
            "text/plain": [
              "     Id  algebra  programming  data science  robotics  economics  \\\n",
              "0  9000       73           59            57        54         61   \n",
              "1  9001       77           80            53        93         80   \n",
              "2  9002       95           72            88        63         84   \n",
              "3  9003       83           88            97        75         50   \n",
              "4  9004       52           85            92        87         62   \n",
              "\n",
              "                 job  salary  \n",
              "0  robotics engineer       0  \n",
              "1   senior developer       0  \n",
              "2          developer       0  \n",
              "3  robotics engineer       0  \n",
              "4   junior developer       0  "
            ],
            "text/html": [
              "\n",
              "  <div id=\"df-c96a9f69-24a9-4cb3-ab44-0c56301f47ce\">\n",
              "    <div class=\"colab-df-container\">\n",
              "      <div>\n",
              "<style scoped>\n",
              "    .dataframe tbody tr th:only-of-type {\n",
              "        vertical-align: middle;\n",
              "    }\n",
              "\n",
              "    .dataframe tbody tr th {\n",
              "        vertical-align: top;\n",
              "    }\n",
              "\n",
              "    .dataframe thead th {\n",
              "        text-align: right;\n",
              "    }\n",
              "</style>\n",
              "<table border=\"1\" class=\"dataframe\">\n",
              "  <thead>\n",
              "    <tr style=\"text-align: right;\">\n",
              "      <th></th>\n",
              "      <th>Id</th>\n",
              "      <th>algebra</th>\n",
              "      <th>programming</th>\n",
              "      <th>data science</th>\n",
              "      <th>robotics</th>\n",
              "      <th>economics</th>\n",
              "      <th>job</th>\n",
              "      <th>salary</th>\n",
              "    </tr>\n",
              "  </thead>\n",
              "  <tbody>\n",
              "    <tr>\n",
              "      <th>0</th>\n",
              "      <td>9000</td>\n",
              "      <td>73</td>\n",
              "      <td>59</td>\n",
              "      <td>57</td>\n",
              "      <td>54</td>\n",
              "      <td>61</td>\n",
              "      <td>robotics engineer</td>\n",
              "      <td>0</td>\n",
              "    </tr>\n",
              "    <tr>\n",
              "      <th>1</th>\n",
              "      <td>9001</td>\n",
              "      <td>77</td>\n",
              "      <td>80</td>\n",
              "      <td>53</td>\n",
              "      <td>93</td>\n",
              "      <td>80</td>\n",
              "      <td>senior developer</td>\n",
              "      <td>0</td>\n",
              "    </tr>\n",
              "    <tr>\n",
              "      <th>2</th>\n",
              "      <td>9002</td>\n",
              "      <td>95</td>\n",
              "      <td>72</td>\n",
              "      <td>88</td>\n",
              "      <td>63</td>\n",
              "      <td>84</td>\n",
              "      <td>developer</td>\n",
              "      <td>0</td>\n",
              "    </tr>\n",
              "    <tr>\n",
              "      <th>3</th>\n",
              "      <td>9003</td>\n",
              "      <td>83</td>\n",
              "      <td>88</td>\n",
              "      <td>97</td>\n",
              "      <td>75</td>\n",
              "      <td>50</td>\n",
              "      <td>robotics engineer</td>\n",
              "      <td>0</td>\n",
              "    </tr>\n",
              "    <tr>\n",
              "      <th>4</th>\n",
              "      <td>9004</td>\n",
              "      <td>52</td>\n",
              "      <td>85</td>\n",
              "      <td>92</td>\n",
              "      <td>87</td>\n",
              "      <td>62</td>\n",
              "      <td>junior developer</td>\n",
              "      <td>0</td>\n",
              "    </tr>\n",
              "  </tbody>\n",
              "</table>\n",
              "</div>\n",
              "      <button class=\"colab-df-convert\" onclick=\"convertToInteractive('df-c96a9f69-24a9-4cb3-ab44-0c56301f47ce')\"\n",
              "              title=\"Convert this dataframe to an interactive table.\"\n",
              "              style=\"display:none;\">\n",
              "        \n",
              "  <svg xmlns=\"http://www.w3.org/2000/svg\" height=\"24px\"viewBox=\"0 0 24 24\"\n",
              "       width=\"24px\">\n",
              "    <path d=\"M0 0h24v24H0V0z\" fill=\"none\"/>\n",
              "    <path d=\"M18.56 5.44l.94 2.06.94-2.06 2.06-.94-2.06-.94-.94-2.06-.94 2.06-2.06.94zm-11 1L8.5 8.5l.94-2.06 2.06-.94-2.06-.94L8.5 2.5l-.94 2.06-2.06.94zm10 10l.94 2.06.94-2.06 2.06-.94-2.06-.94-.94-2.06-.94 2.06-2.06.94z\"/><path d=\"M17.41 7.96l-1.37-1.37c-.4-.4-.92-.59-1.43-.59-.52 0-1.04.2-1.43.59L10.3 9.45l-7.72 7.72c-.78.78-.78 2.05 0 2.83L4 21.41c.39.39.9.59 1.41.59.51 0 1.02-.2 1.41-.59l7.78-7.78 2.81-2.81c.8-.78.8-2.07 0-2.86zM5.41 20L4 18.59l7.72-7.72 1.47 1.35L5.41 20z\"/>\n",
              "  </svg>\n",
              "      </button>\n",
              "      \n",
              "  <style>\n",
              "    .colab-df-container {\n",
              "      display:flex;\n",
              "      flex-wrap:wrap;\n",
              "      gap: 12px;\n",
              "    }\n",
              "\n",
              "    .colab-df-convert {\n",
              "      background-color: #E8F0FE;\n",
              "      border: none;\n",
              "      border-radius: 50%;\n",
              "      cursor: pointer;\n",
              "      display: none;\n",
              "      fill: #1967D2;\n",
              "      height: 32px;\n",
              "      padding: 0 0 0 0;\n",
              "      width: 32px;\n",
              "    }\n",
              "\n",
              "    .colab-df-convert:hover {\n",
              "      background-color: #E2EBFA;\n",
              "      box-shadow: 0px 1px 2px rgba(60, 64, 67, 0.3), 0px 1px 3px 1px rgba(60, 64, 67, 0.15);\n",
              "      fill: #174EA6;\n",
              "    }\n",
              "\n",
              "    [theme=dark] .colab-df-convert {\n",
              "      background-color: #3B4455;\n",
              "      fill: #D2E3FC;\n",
              "    }\n",
              "\n",
              "    [theme=dark] .colab-df-convert:hover {\n",
              "      background-color: #434B5C;\n",
              "      box-shadow: 0px 1px 3px 1px rgba(0, 0, 0, 0.15);\n",
              "      filter: drop-shadow(0px 1px 2px rgba(0, 0, 0, 0.3));\n",
              "      fill: #FFFFFF;\n",
              "    }\n",
              "  </style>\n",
              "\n",
              "      <script>\n",
              "        const buttonEl =\n",
              "          document.querySelector('#df-c96a9f69-24a9-4cb3-ab44-0c56301f47ce button.colab-df-convert');\n",
              "        buttonEl.style.display =\n",
              "          google.colab.kernel.accessAllowed ? 'block' : 'none';\n",
              "\n",
              "        async function convertToInteractive(key) {\n",
              "          const element = document.querySelector('#df-c96a9f69-24a9-4cb3-ab44-0c56301f47ce');\n",
              "          const dataTable =\n",
              "            await google.colab.kernel.invokeFunction('convertToInteractive',\n",
              "                                                     [key], {});\n",
              "          if (!dataTable) return;\n",
              "\n",
              "          const docLinkHtml = 'Like what you see? Visit the ' +\n",
              "            '<a target=\"_blank\" href=https://colab.research.google.com/notebooks/data_table.ipynb>data table notebook</a>'\n",
              "            + ' to learn more about interactive tables.';\n",
              "          element.innerHTML = '';\n",
              "          dataTable['output_type'] = 'display_data';\n",
              "          await google.colab.output.renderOutput(dataTable, element);\n",
              "          const docLink = document.createElement('div');\n",
              "          docLink.innerHTML = docLinkHtml;\n",
              "          element.appendChild(docLink);\n",
              "        }\n",
              "      </script>\n",
              "    </div>\n",
              "  </div>\n",
              "  "
            ]
          },
          "metadata": {},
          "execution_count": 52
        }
      ]
    },
    {
      "cell_type": "markdown",
      "source": [
        "### Observe train prediction for Random Forest model"
      ],
      "metadata": {
        "id": "vzO7Y8tdjLeB"
      }
    },
    {
      "cell_type": "code",
      "source": [
        "%%time\n",
        "y_rf_jd = RF_model_jd.predict(X_jd)\n",
        "y_rf_ds = RF_model_ds.predict(X_ds)\n",
        "y_rf_d = RF_model_d.predict(X_d)\n",
        "y_rf_e = RF_model_e.predict(X_e)\n",
        "y_rf_re = RF_model_re.predict(X_re)\n",
        "y_rf_sd = RF_model_sd.predict(X_sd)"
      ],
      "metadata": {
        "colab": {
          "base_uri": "https://localhost:8080/"
        },
        "id": "LH3xU16gjEjA",
        "outputId": "43fc6086-3074-4487-ea2f-ea02014e9729"
      },
      "execution_count": null,
      "outputs": [
        {
          "output_type": "stream",
          "name": "stdout",
          "text": [
            "CPU times: user 1.19 s, sys: 190 ms, total: 1.38 s\n",
            "Wall time: 1.22 s\n"
          ]
        }
      ]
    },
    {
      "cell_type": "code",
      "source": [
        "plt.scatter(y_rf_ds, y_ds, alpha = 0.8);\n",
        "plt.title(\"RandomForest Data scientist\")\n",
        "plt.xlabel('Predicted')\n",
        "plt.ylabel('True')\n",
        "plt.show();"
      ],
      "metadata": {
        "colab": {
          "base_uri": "https://localhost:8080/",
          "height": 301
        },
        "id": "AoXPgDt8jEOB",
        "outputId": "08fd392f-9527-4160-b27b-548c68810a31"
      },
      "execution_count": null,
      "outputs": [
        {
          "output_type": "display_data",
          "data": {
            "text/plain": [
              "<Figure size 432x288 with 1 Axes>"
            ],
            "image/png": "[encoded data removed]"
          },
          "metadata": {
            "needs_background": "light"
          }
        }
      ]
    },
    {
      "cell_type": "code",
      "source": [
        "plt.scatter(y_rf_re, y_re, alpha = 0.8);\n",
        "plt.title(\"RandomForest Robotics engineer\")\n",
        "plt.xlabel('Predicted')\n",
        "plt.ylabel('True')\n",
        "plt.show();"
      ],
      "metadata": {
        "colab": {
          "base_uri": "https://localhost:8080/",
          "height": 301
        },
        "id": "Gp1VgK5FjD5h",
        "outputId": "d1555883-46b9-456e-ed3f-82100814097a"
      },
      "execution_count": null,
      "outputs": [
        {
          "output_type": "display_data",
          "data": {
            "text/plain": [
              "<Figure size 432x288 with 1 Axes>"
            ],
            "image/png": "[encoded data removed]"
          },
          "metadata": {
            "needs_background": "light"
          }
        }
      ]
    },
    {
      "cell_type": "markdown",
      "source": [
        "## **Ridge model**"
      ],
      "metadata": {
        "id": "zSPxHaP28Nl-"
      }
    },
    {
      "cell_type": "markdown",
      "source": [
        "Junior Developer"
      ],
      "metadata": {
        "id": "zndjeW899Ghb"
      }
    },
    {
      "cell_type": "code",
      "source": [
        "ridge_model_jd = Ridge(alpha=10, random_state=13).fit(X_train_jd,y_train_jd)"
      ],
      "metadata": {
        "id": "Qor_G0LY8t07"
      },
      "execution_count": null,
      "outputs": []
    },
    {
      "cell_type": "markdown",
      "source": [
        "Data scientist"
      ],
      "metadata": {
        "id": "7lwEruILryXX"
      }
    },
    {
      "cell_type": "code",
      "source": [
        "ridge_model_ds = Ridge(alpha=10, random_state=13).fit(X_train_ds,y_train_ds)"
      ],
      "metadata": {
        "id": "1S3T_lgOsJg_"
      },
      "execution_count": null,
      "outputs": []
    },
    {
      "cell_type": "markdown",
      "source": [
        "Developer"
      ],
      "metadata": {
        "id": "J7ywjQO0sQYi"
      }
    },
    {
      "cell_type": "code",
      "source": [
        "ridge_model_d = Ridge(alpha=10, random_state=13).fit(X_train_d,y_train_d)"
      ],
      "metadata": {
        "id": "c3BhI4xLsJZH"
      },
      "execution_count": null,
      "outputs": []
    },
    {
      "cell_type": "markdown",
      "source": [
        "Economist"
      ],
      "metadata": {
        "id": "Ts9wH0s8sYyh"
      }
    },
    {
      "cell_type": "code",
      "source": [
        "ridge_model_e = Ridge(alpha=10, random_state=13).fit(X_train_e,y_train_e)"
      ],
      "metadata": {
        "id": "fH7OPLG5sJIG"
      },
      "execution_count": null,
      "outputs": []
    },
    {
      "cell_type": "markdown",
      "source": [
        "Robotics engineer"
      ],
      "metadata": {
        "id": "fIi0wa35sfYf"
      }
    },
    {
      "cell_type": "code",
      "source": [
        "ridge_model_re = Ridge(alpha=10, random_state=13).fit(X_train_re,y_train_re)"
      ],
      "metadata": {
        "id": "c287lRbvsIwv"
      },
      "execution_count": null,
      "outputs": []
    },
    {
      "cell_type": "markdown",
      "source": [
        "Senior developer"
      ],
      "metadata": {
        "id": "EmZtNWv_soEz"
      }
    },
    {
      "cell_type": "code",
      "source": [
        "ridge_model_sd = Ridge(alpha=10, random_state=13).fit(X_train_sd,y_train_sd)"
      ],
      "metadata": {
        "id": "gagPNWjfso5H"
      },
      "execution_count": null,
      "outputs": []
    },
    {
      "cell_type": "markdown",
      "source": [
        "**Scores**"
      ],
      "metadata": {
        "id": "1VcGlPppsxV3"
      }
    },
    {
      "cell_type": "code",
      "source": [
        "print(\"Ridge for Junior developer:\")\n",
        "print(\"train_score:\", ridge_model_jd.score(X_train_jd,y_train_jd))\n",
        "print(\"test_score:\", ridge_model_jd.score(X_test_jd,y_test_jd))\n",
        "print(\"train RMSE:\", np.sqrt(mean_squared_error(np.log(y_train_jd),np.log(ridge_model_jd.predict(X_train_jd)))))\n",
        "print(\"test RMSE:\", np.sqrt(mean_squared_error(np.log(y_test_jd),np.log(ridge_model_jd.predict(X_test_jd)))))\n",
        "print(\"------------------------------\")\n",
        "print(\"Ridge for Data scientist:\")\n",
        "print(\"train_score:\", ridge_model_ds.score(X_train_ds,y_train_ds))\n",
        "print(\"test_score:\", ridge_model_ds.score(X_test_ds,y_test_ds))\n",
        "print(\"train RMSE:\", np.sqrt(mean_squared_error(np.log(y_train_ds),np.log(ridge_model_ds.predict(X_train_ds)))))\n",
        "print(\"test RMSE:\", np.sqrt(mean_squared_error(np.log(y_test_ds),np.log(ridge_model_ds.predict(X_test_ds)))))\n",
        "print(\"------------------------------\")\n",
        "print(\"Ridge for Developer:\")\n",
        "print(\"train_score:\", ridge_model_d.score(X_train_d,y_train_d))\n",
        "print(\"test_score:\", ridge_model_d.score(X_test_d,y_test_d))\n",
        "print(\"train RMSE:\", np.sqrt(mean_squared_error(np.log(y_train_d),np.log(ridge_model_d.predict(X_train_d)))))\n",
        "print(\"test RMSE:\", np.sqrt(mean_squared_error(np.log(y_test_d),np.log(ridge_model_d.predict(X_test_d)))))\n",
        "print(\"------------------------------\")\n",
        "print(\"Ridge for Economist:\")\n",
        "print(\"train_score:\", ridge_model_e.score(X_train_e,y_train_e))\n",
        "print(\"test_score:\", ridge_model_e.score(X_test_e,y_test_e))\n",
        "print(\"train RMSE:\", np.sqrt(mean_squared_error(np.log(y_train_e),np.log(ridge_model_e.predict(X_train_e)))))\n",
        "print(\"test RMSE:\", np.sqrt(mean_squared_error(np.log(y_test_e),np.log(ridge_model_e.predict(X_test_e)))))\n",
        "print(\"------------------------------\")\n",
        "print(\"Ridge for Robotics engineer:\")\n",
        "print(\"train_score:\", ridge_model_re.score(X_train_re,y_train_re))\n",
        "print(\"test_score:\", ridge_model_re.score(X_test_re,y_test_re))\n",
        "print(\"train RMSE:\", np.sqrt(mean_squared_error(np.log(y_train_re),np.log(ridge_model_re.predict(X_train_re)))))\n",
        "print(\"test RMSE:\", np.sqrt(mean_squared_error(np.log(y_test_re),np.log(ridge_model_re.predict(X_test_re)))))\n",
        "print(\"------------------------------\")\n",
        "print(\"Ridge for Senior developer:\")\n",
        "print(\"train_score:\", ridge_model_sd.score(X_train_sd,y_train_sd))\n",
        "print(\"test_score:\", ridge_model_sd.score(X_test_sd,y_test_sd))\n",
        "print(\"train RMSE:\", np.sqrt(mean_squared_error(np.log(y_train_sd),np.log(ridge_model_sd.predict(X_train_sd)))))\n",
        "print(\"test RMSE:\", np.sqrt(mean_squared_error(np.log(y_test_sd),np.log(ridge_model_sd.predict(X_test_sd)))))"
      ],
      "metadata": {
        "colab": {
          "base_uri": "https://localhost:8080/"
        },
        "id": "ZGTF29BHs0L3",
        "outputId": "20b2f71a-28f6-43d5-e1ed-d2e25e41d65f"
      },
      "execution_count": null,
      "outputs": [
        {
          "output_type": "stream",
          "name": "stdout",
          "text": [
            "Ridge for Junior developer:\n",
            "train_score: 0.7060846638842534\n",
            "test_score: 0.7009891581026908\n",
            "train RMSE: 0.08486626589465013\n",
            "test RMSE: 0.08424456034484425\n",
            "------------------------------\n",
            "Ridge for Data scientist:\n",
            "train_score: 0.6953666473831632\n",
            "test_score: 0.7098585641092898\n",
            "train RMSE: 0.08404904615746744\n",
            "test RMSE: 0.08344962736713912\n",
            "------------------------------\n",
            "Ridge for Developer:\n",
            "train_score: 0.7532257842049203\n",
            "test_score: 0.7568437843159866\n",
            "train RMSE: 0.0826064083978037\n",
            "test RMSE: 0.08294932665002477\n",
            "------------------------------\n",
            "Ridge for Economist:\n",
            "train_score: 0.5627532542220428\n",
            "test_score: 0.553465626067984\n",
            "train RMSE: 0.0907904378968873\n",
            "test RMSE: 0.09024596938303403\n",
            "------------------------------\n",
            "Ridge for Robotics engineer:\n",
            "train_score: 0.572348913202188\n",
            "test_score: 0.5695458583530979\n",
            "train RMSE: 0.08977636074919498\n",
            "test RMSE: 0.09285639640790432\n",
            "------------------------------\n",
            "Ridge for Senior developer:\n",
            "train_score: 0.5711351428691867\n",
            "test_score: 0.6099654159776877\n",
            "train RMSE: 0.08922925008531478\n",
            "test RMSE: 0.08640222107177421\n"
          ]
        }
      ]
    },
    {
      "cell_type": "markdown",
      "source": [
        "### Observe train prediction for Ridge model"
      ],
      "metadata": {
        "id": "LhaA7KTQw58W"
      }
    },
    {
      "cell_type": "code",
      "source": [
        "%%time\n",
        "y_ridge_jd = ridge_model_jd.predict(X_jd)\n",
        "y_ridge_ds = ridge_model_ds.predict(X_ds)\n",
        "y_ridge_d = ridge_model_d.predict(X_d)\n",
        "y_ridge_e = ridge_model_e.predict(X_e)\n",
        "y_ridge_re = ridge_model_re.predict(X_re)\n",
        "y_ridge_sd = ridge_model_sd.predict(X_sd)"
      ],
      "metadata": {
        "colab": {
          "base_uri": "https://localhost:8080/"
        },
        "id": "j7tyB_D7w9eG",
        "outputId": "1b091902-35b9-4065-e580-08f0289072ef"
      },
      "execution_count": null,
      "outputs": [
        {
          "output_type": "stream",
          "name": "stdout",
          "text": [
            "CPU times: user 8.94 ms, sys: 1.1 ms, total: 10 ms\n",
            "Wall time: 11.7 ms\n"
          ]
        }
      ]
    },
    {
      "cell_type": "code",
      "source": [
        "plt.scatter(y_ridge_d, y_d, alpha = 0.8);\n",
        "plt.title(\"Ridge for Junior developer\")\n",
        "plt.xlabel('Predicted')\n",
        "plt.ylabel('True')\n",
        "plt.show();"
      ],
      "metadata": {
        "colab": {
          "base_uri": "https://localhost:8080/",
          "height": 301
        },
        "id": "Tb7lkGjMyF2d",
        "outputId": "31a7fa91-bffc-4ad9-b34e-8f326237534d"
      },
      "execution_count": null,
      "outputs": [
        {
          "output_type": "display_data",
          "data": {
            "text/plain": [
              "<Figure size 432x288 with 1 Axes>"
            ],
            "image/png": "[encoded data removed]"
          },
          "metadata": {
            "needs_background": "light"
          }
        }
      ]
    },
    {
      "cell_type": "markdown",
      "source": [
        "## **Lasso model**"
      ],
      "metadata": {
        "id": "AOEa4n7G-dio"
      }
    },
    {
      "cell_type": "markdown",
      "source": [
        "Junior developer"
      ],
      "metadata": {
        "id": "ffxpXUx-_gBg"
      }
    },
    {
      "cell_type": "code",
      "source": [
        "lasso_model_jd = Lasso(alpha=100, max_iter=10000, random_state=13).fit(X_train_jd,y_train_jd)"
      ],
      "metadata": {
        "id": "lHPv_AkN-9tY"
      },
      "execution_count": null,
      "outputs": []
    },
    {
      "cell_type": "markdown",
      "source": [
        "Data scientist"
      ],
      "metadata": {
        "id": "RNstoUCdBMff"
      }
    },
    {
      "cell_type": "code",
      "source": [
        "lasso_model_ds = Lasso(alpha=100, max_iter=10000, random_state=13).fit(X_train_ds,y_train_ds)"
      ],
      "metadata": {
        "id": "wpEEIZiEBs_x"
      },
      "execution_count": null,
      "outputs": []
    },
    {
      "cell_type": "markdown",
      "source": [
        "Developer"
      ],
      "metadata": {
        "id": "OK3Q4A3_BMNg"
      }
    },
    {
      "cell_type": "code",
      "source": [
        "lasso_model_d = Lasso(alpha=100, max_iter=10000, random_state=13).fit(X_train_d,y_train_d)"
      ],
      "metadata": {
        "id": "Gr9Fi1gDBxsh"
      },
      "execution_count": null,
      "outputs": []
    },
    {
      "cell_type": "markdown",
      "source": [
        "Economist"
      ],
      "metadata": {
        "id": "lxqco0RwBMB3"
      }
    },
    {
      "cell_type": "code",
      "source": [
        "lasso_model_e = Lasso(alpha=100, max_iter=10000, random_state=13).fit(X_train_e,y_train_e)"
      ],
      "metadata": {
        "id": "sK53dfxCB0sf"
      },
      "execution_count": null,
      "outputs": []
    },
    {
      "cell_type": "markdown",
      "source": [
        "Robotics engineer"
      ],
      "metadata": {
        "id": "ML1Cd932BL3Y"
      }
    },
    {
      "cell_type": "code",
      "source": [
        "lasso_model_re = Lasso(alpha=100, max_iter=10000, random_state=13).fit(X_train_re,y_train_re)"
      ],
      "metadata": {
        "id": "ABvtxyVPB4K3"
      },
      "execution_count": null,
      "outputs": []
    },
    {
      "cell_type": "markdown",
      "source": [
        "Senior developer"
      ],
      "metadata": {
        "id": "FvfgjPqQBLlQ"
      }
    },
    {
      "cell_type": "code",
      "source": [
        "lasso_model_sd = Lasso(alpha=100, max_iter=10000, random_state=13).fit(X_train_sd,y_train_sd)"
      ],
      "metadata": {
        "id": "D4EXc6BQB7o3"
      },
      "execution_count": null,
      "outputs": []
    },
    {
      "cell_type": "markdown",
      "source": [
        "**Scores**"
      ],
      "metadata": {
        "id": "ApBS6b9yCP1_"
      }
    },
    {
      "cell_type": "code",
      "source": [
        "print(\"Lasso for Junior developer:\")\n",
        "print(\"train_score:\", lasso_model_jd.score(X_train_jd,y_train_jd))\n",
        "print(\"test_score:\", lasso_model_jd.score(X_test_jd,y_test_jd))\n",
        "print(\"train RMSE:\", np.sqrt(mean_squared_error(np.log(y_train_jd),np.log(lasso_model_jd.predict(X_train_jd)))))\n",
        "print(\"test RMSE:\", np.sqrt(mean_squared_error(np.log(y_test_jd),np.log(lasso_model_jd.predict(X_test_jd)))))\n",
        "print(\"------------------------------\")\n",
        "print(\"Lasso for Data scientist:\")\n",
        "print(\"train_score:\", lasso_model_ds.score(X_train_ds,y_train_ds))\n",
        "print(\"test_score:\", lasso_model_ds.score(X_test_ds,y_test_ds))\n",
        "print(\"train RMSE:\", np.sqrt(mean_squared_error(np.log(y_train_ds),np.log(lasso_model_ds.predict(X_train_ds)))))\n",
        "print(\"test RMSE:\", np.sqrt(mean_squared_error(np.log(y_test_ds),np.log(lasso_model_ds.predict(X_test_ds)))))\n",
        "print(\"------------------------------\")\n",
        "print(\"Lasso for Developer:\")\n",
        "print(\"train_score:\", lasso_model_d.score(X_train_d,y_train_d))\n",
        "print(\"test_score:\", lasso_model_d.score(X_test_d,y_test_d))\n",
        "print(\"train RMSE:\", np.sqrt(mean_squared_error(np.log(y_train_d),np.log(lasso_model_d.predict(X_train_d)))))\n",
        "print(\"test RMSE:\", np.sqrt(mean_squared_error(np.log(y_test_d),np.log(lasso_model_d.predict(X_test_d)))))\n",
        "print(\"------------------------------\")\n",
        "print(\"Lasso for Economist:\")\n",
        "print(\"train_score:\", lasso_model_e.score(X_train_e,y_train_e))\n",
        "print(\"test_score:\", lasso_model_e.score(X_test_e,y_test_e))\n",
        "print(\"train RMSE:\", np.sqrt(mean_squared_error(np.log(y_train_e),np.log(lasso_model_e.predict(X_train_e)))))\n",
        "print(\"test RMSE:\", np.sqrt(mean_squared_error(np.log(y_test_e),np.log(lasso_model_e.predict(X_test_e)))))\n",
        "print(\"------------------------------\")\n",
        "print(\"Lasso for Robotics engineer:\")\n",
        "print(\"train_score:\", lasso_model_re.score(X_train_re,y_train_re))\n",
        "print(\"test_score:\", lasso_model_re.score(X_test_re,y_test_re))\n",
        "print(\"train RMSE:\", np.sqrt(mean_squared_error(np.log(y_train_re),np.log(lasso_model_re.predict(X_train_re)))))\n",
        "print(\"test RMSE:\", np.sqrt(mean_squared_error(np.log(y_test_re),np.log(lasso_model_re.predict(X_test_re)))))\n",
        "print(\"------------------------------\")\n",
        "print(\"Lasso for Senior developer:\")\n",
        "print(\"train_score:\", lasso_model_sd.score(X_train_sd,y_train_sd))\n",
        "print(\"test_score:\", lasso_model_sd.score(X_test_sd,y_test_sd))\n",
        "print(\"train RMSE:\", np.sqrt(mean_squared_error(np.log(y_train_sd),np.log(lasso_model_sd.predict(X_train_sd)))))\n",
        "print(\"test RMSE:\", np.sqrt(mean_squared_error(np.log(y_test_sd),np.log(lasso_model_sd.predict(X_test_sd)))))\n",
        "print(\"------------------------------\")"
      ],
      "metadata": {
        "colab": {
          "base_uri": "https://localhost:8080/"
        },
        "id": "i8q4jTUXCeZi",
        "outputId": "f07c939d-f912-493e-9c31-38181797dd79"
      },
      "execution_count": null,
      "outputs": [
        {
          "output_type": "stream",
          "name": "stdout",
          "text": [
            "Lasso for Junior developer:\n",
            "train_score: 0.7060844230050498\n",
            "test_score: 0.7009703935835468\n",
            "train RMSE: 0.08486655973570098\n",
            "test RMSE: 0.08424730406319447\n",
            "------------------------------\n",
            "Lasso for Data scientist:\n",
            "train_score: 0.6953666385975583\n",
            "test_score: 0.7098565195593092\n",
            "train RMSE: 0.08404910812312559\n",
            "test RMSE: 0.0834500912849993\n",
            "------------------------------\n",
            "Lasso for Developer:\n",
            "train_score: 0.753225732699531\n",
            "test_score: 0.7568447650150254\n",
            "train RMSE: 0.08260576633138518\n",
            "test RMSE: 0.08294950832297303\n",
            "------------------------------\n",
            "Lasso for Economist:\n",
            "train_score: 0.5627532227266937\n",
            "test_score: 0.5534606623327585\n",
            "train RMSE: 0.09079053014409051\n",
            "test RMSE: 0.0902464915577682\n",
            "------------------------------\n",
            "Lasso for Robotics engineer:\n",
            "train_score: 0.5723489082848663\n",
            "test_score: 0.5695441573876985\n",
            "train RMSE: 0.08977635629856728\n",
            "test RMSE: 0.0928567298304969\n",
            "------------------------------\n",
            "Lasso for Senior developer:\n",
            "train_score: 0.5711351178116638\n",
            "test_score: 0.6099556866046669\n",
            "train RMSE: 0.08922920321458307\n",
            "test RMSE: 0.08640328202678875\n",
            "------------------------------\n"
          ]
        }
      ]
    },
    {
      "cell_type": "markdown",
      "source": [
        "### Observe train prediction for Lasso model"
      ],
      "metadata": {
        "id": "f2aNFoxAGJZe"
      }
    },
    {
      "cell_type": "code",
      "source": [
        "%%time\n",
        "y_lasso_jd = lasso_model_jd.predict(X_jd)\n",
        "y_lasso_ds = lasso_model_ds.predict(X_ds)\n",
        "y_lasso_d = lasso_model_d.predict(X_d)\n",
        "y_lasso_e = lasso_model_e.predict(X_e)\n",
        "y_lasso_re = lasso_model_re.predict(X_re)\n",
        "y_lasso_sd = lasso_model_sd.predict(X_sd)"
      ],
      "metadata": {
        "colab": {
          "base_uri": "https://localhost:8080/"
        },
        "id": "WGrfjhHFGMXW",
        "outputId": "61b6ce25-2f4f-45a7-959d-8aea3ef43efe"
      },
      "execution_count": null,
      "outputs": [
        {
          "output_type": "stream",
          "name": "stdout",
          "text": [
            "CPU times: user 10.8 ms, sys: 32 µs, total: 10.8 ms\n",
            "Wall time: 11.9 ms\n"
          ]
        }
      ]
    },
    {
      "cell_type": "code",
      "source": [
        "plt.scatter(y_lasso_ds, y_ds, alpha = 0.8);\n",
        "plt.title(\"Lasso for Junior developer\")\n",
        "plt.xlabel('Predicted')\n",
        "plt.ylabel('True')\n",
        "plt.show();"
      ],
      "metadata": {
        "colab": {
          "base_uri": "https://localhost:8080/",
          "height": 301
        },
        "id": "hLnvH1QvGawG",
        "outputId": "332908f9-7a29-4c7d-d7fa-3e8d6463ad0a"
      },
      "execution_count": null,
      "outputs": [
        {
          "output_type": "display_data",
          "data": {
            "text/plain": [
              "<Figure size 432x288 with 1 Axes>"
            ],
            "image/png": "[encoded data removed]"
          },
          "metadata": {
            "needs_background": "light"
          }
        }
      ]
    },
    {
      "cell_type": "markdown",
      "source": [
        "## **Elastic Net model**"
      ],
      "metadata": {
        "id": "bhqhZ1HBHF39"
      }
    },
    {
      "cell_type": "markdown",
      "source": [
        "Junior developer"
      ],
      "metadata": {
        "id": "SCnWsesCPwBR"
      }
    },
    {
      "cell_type": "code",
      "source": [
        "elastic_model_jd= ElasticNet(alpha=0.1, l1_ratio=0.9, max_iter=10000, random_state=13).fit(X_train_jd,y_train_jd)"
      ],
      "metadata": {
        "id": "P4e2nAdtHMoI"
      },
      "execution_count": null,
      "outputs": []
    },
    {
      "cell_type": "markdown",
      "source": [
        "Data scientist"
      ],
      "metadata": {
        "id": "X1i5V_shP38B"
      }
    },
    {
      "cell_type": "code",
      "source": [
        "elastic_model_ds= ElasticNet(alpha=0.1, l1_ratio=0.9, max_iter=10000, random_state=13).fit(X_train_ds,y_train_ds)"
      ],
      "metadata": {
        "id": "VLplr6PAQL4Z"
      },
      "execution_count": null,
      "outputs": []
    },
    {
      "cell_type": "markdown",
      "source": [
        "Developer"
      ],
      "metadata": {
        "id": "z9rj0EZVP5tW"
      }
    },
    {
      "cell_type": "code",
      "source": [
        "elastic_model_d= ElasticNet(alpha=0.1, l1_ratio=0.9, max_iter=10000, random_state=13).fit(X_train_d,y_train_d)"
      ],
      "metadata": {
        "id": "z-hcqwYaQQ_v"
      },
      "execution_count": null,
      "outputs": []
    },
    {
      "cell_type": "markdown",
      "source": [
        "Economist"
      ],
      "metadata": {
        "id": "lWbuvEBSP88-"
      }
    },
    {
      "cell_type": "code",
      "source": [
        "elastic_model_e= ElasticNet(alpha=0.1, l1_ratio=0.9, max_iter=10000, random_state=13).fit(X_train_e,y_train_e)"
      ],
      "metadata": {
        "id": "ovu4WW7UQS4O"
      },
      "execution_count": null,
      "outputs": []
    },
    {
      "cell_type": "markdown",
      "source": [
        "Robotics engineer"
      ],
      "metadata": {
        "id": "_vXybjikQCW-"
      }
    },
    {
      "cell_type": "code",
      "source": [
        "elastic_model_re= ElasticNet(alpha=0.1, l1_ratio=0.9, max_iter=10000, random_state=13).fit(X_train_re,y_train_re)"
      ],
      "metadata": {
        "id": "6d9jOWEhQWoO"
      },
      "execution_count": null,
      "outputs": []
    },
    {
      "cell_type": "markdown",
      "source": [
        "Senior developer"
      ],
      "metadata": {
        "id": "-Z6_LmdgQHcH"
      }
    },
    {
      "cell_type": "code",
      "source": [
        "elastic_model_sd= ElasticNet(alpha=0.1, l1_ratio=0.9, max_iter=10000, random_state=13).fit(X_train_sd,y_train_sd)"
      ],
      "metadata": {
        "id": "7JLmWrmnPz-O"
      },
      "execution_count": null,
      "outputs": []
    },
    {
      "cell_type": "markdown",
      "source": [
        "Scores"
      ],
      "metadata": {
        "id": "TZO_5kV-QiCw"
      }
    },
    {
      "cell_type": "code",
      "source": [
        "print(\"ElasticNet for Junior developer:\")\n",
        "print(\"train_score:\", elastic_model_jd.score(X_train_jd,y_train_jd))\n",
        "print(\"test_score:\", elastic_model_jd.score(X_test_jd,y_test_jd))\n",
        "print(\"train RMSE:\", np.sqrt(mean_squared_error(np.log(y_train_jd),np.log(elastic_model_jd.predict(X_train_jd)))))\n",
        "print(\"test RMSE:\", np.sqrt(mean_squared_error(np.log(y_test_jd),np.log(elastic_model_jd.predict(X_test_jd)))))\n",
        "print(\"------------------------------\")\n",
        "print(\"ElasticNet for Data scientist:\")\n",
        "print(\"train_score:\", elastic_model_ds.score(X_train_ds,y_train_ds))\n",
        "print(\"test_score:\", elastic_model_ds.score(X_test_ds,y_test_ds))\n",
        "print(\"train RMSE:\", np.sqrt(mean_squared_error(np.log(y_train_ds),np.log(elastic_model_ds.predict(X_train_ds)))))\n",
        "print(\"test RMSE:\", np.sqrt(mean_squared_error(np.log(y_test_ds),np.log(elastic_model_ds.predict(X_test_ds)))))\n",
        "print(\"------------------------------\")\n",
        "print(\"ElasticNet for Developer:\")\n",
        "print(\"train_score:\", elastic_model_d.score(X_train_d,y_train_d))\n",
        "print(\"test_score:\", elastic_model_d.score(X_test_d,y_test_d))\n",
        "print(\"train RMSE:\", np.sqrt(mean_squared_error(np.log(y_train_d),np.log(elastic_model_d.predict(X_train_d)))))\n",
        "print(\"test RMSE:\", np.sqrt(mean_squared_error(np.log(y_test_d),np.log(elastic_model_d.predict(X_test_d)))))\n",
        "print(\"------------------------------\")\n",
        "print(\"ElasticNet for Economist:\")\n",
        "print(\"train_score:\", elastic_model_e.score(X_train_e,y_train_e))\n",
        "print(\"test_score:\", elastic_model_e.score(X_test_e,y_test_e))\n",
        "print(\"train RMSE:\", np.sqrt(mean_squared_error(np.log(y_train_e),np.log(elastic_model_e.predict(X_train_e)))))\n",
        "print(\"test RMSE:\", np.sqrt(mean_squared_error(np.log(y_test_e),np.log(elastic_model_e.predict(X_test_e)))))\n",
        "print(\"------------------------------\")\n",
        "print(\"ElasticNet for Robotics engineer:\")\n",
        "print(\"train_score:\", elastic_model_re.score(X_train_re,y_train_re))\n",
        "print(\"test_score:\", elastic_model_re.score(X_test_re,y_test_re))\n",
        "print(\"train RMSE:\", np.sqrt(mean_squared_error(np.log(y_train_re),np.log(elastic_model_re.predict(X_train_re)))))\n",
        "print(\"test RMSE:\", np.sqrt(mean_squared_error(np.log(y_test_re),np.log(elastic_model_re.predict(X_test_re)))))\n",
        "print(\"------------------------------\")\n",
        "print(\"ElasticNet for Senior developer:\")\n",
        "print(\"train_score:\", elastic_model_sd.score(X_train_sd,y_train_sd))\n",
        "print(\"test_score:\", elastic_model_sd.score(X_test_sd,y_test_sd))\n",
        "print(\"train RMSE:\", np.sqrt(mean_squared_error(np.log(y_train_sd),np.log(elastic_model_sd.predict(X_train_sd)))))\n",
        "print(\"test RMSE:\", np.sqrt(mean_squared_error(np.log(y_test_sd),np.log(elastic_model_sd.predict(X_test_sd)))))"
      ],
      "metadata": {
        "colab": {
          "base_uri": "https://localhost:8080/"
        },
        "id": "lOBM4O7QQj1d",
        "outputId": "28cf9c77-461c-4580-96ed-510eaadae29c"
      },
      "execution_count": null,
      "outputs": [
        {
          "output_type": "stream",
          "name": "stdout",
          "text": [
            "ElasticNet for Junior developer:\n",
            "train_score: 0.7060846637697583\n",
            "test_score: 0.7009891364801903\n",
            "train RMSE: 0.08486626666723295\n",
            "test RMSE: 0.08424456498581569\n",
            "------------------------------\n",
            "ElasticNet for Data scientist:\n",
            "train_score: 0.6953666472730898\n",
            "test_score: 0.709858455067481\n",
            "train RMSE: 0.08404904773052192\n",
            "test RMSE: 0.08344964558632943\n",
            "------------------------------\n",
            "ElasticNet for Developer:\n",
            "train_score: 0.7532257839669869\n",
            "test_score: 0.7568437712932867\n",
            "train RMSE: 0.08260639683551502\n",
            "test RMSE: 0.08294933716160796\n",
            "------------------------------\n",
            "ElasticNet for Economist:\n",
            "train_score: 0.5627532541093205\n",
            "test_score: 0.5534655783678568\n",
            "train RMSE: 0.0907904388939275\n",
            "test RMSE: 0.0902459744105784\n",
            "------------------------------\n",
            "ElasticNet for Robotics engineer:\n",
            "train_score: 0.5723489129997339\n",
            "test_score: 0.5695457441978988\n",
            "train RMSE: 0.08977636039827368\n",
            "test RMSE: 0.09285641825229737\n",
            "------------------------------\n",
            "ElasticNet for Senior developer:\n",
            "train_score: 0.5711351427614333\n",
            "test_score: 0.6099653387876907\n",
            "train RMSE: 0.0892292509295103\n",
            "test RMSE: 0.08640222861131162\n"
          ]
        }
      ]
    },
    {
      "cell_type": "markdown",
      "source": [
        "## **XGBoost model**"
      ],
      "metadata": {
        "id": "6anchAfIYg2s"
      }
    },
    {
      "cell_type": "markdown",
      "source": [
        "Junior Developer"
      ],
      "metadata": {
        "id": "zZFuHQ2igyaR"
      }
    },
    {
      "cell_type": "code",
      "source": [
        "xg_model_jd = xgb.XGBRegressor(objective = 'reg:squarederror', n_estimators = 500, seed = 13, subsample = 0.8, learning_rate = 0.1, reg_alpha=0.01, reg_lambda = 10).fit(X_train_jd,y_train_jd)"
      ],
      "metadata": {
        "id": "wCDqkvPDgqls"
      },
      "execution_count": null,
      "outputs": []
    },
    {
      "cell_type": "markdown",
      "source": [
        "Data scientist"
      ],
      "metadata": {
        "id": "BzvjDemjNY1G"
      }
    },
    {
      "cell_type": "code",
      "source": [
        "xg_model_ds = xgb.XGBRegressor(objective = 'reg:squarederror', n_estimators = 500, seed = 13, subsample = 0.8, learning_rate = 0.1, reg_alpha=0.01, reg_lambda = 10).fit(X_train_ds,y_train_ds)"
      ],
      "metadata": {
        "id": "gN34TIFfN2ex"
      },
      "execution_count": null,
      "outputs": []
    },
    {
      "cell_type": "markdown",
      "source": [
        "Developer"
      ],
      "metadata": {
        "id": "n6ql2d1jNYjV"
      }
    },
    {
      "cell_type": "code",
      "source": [
        "xg_model_d = xgb.XGBRegressor(objective = 'reg:squarederror', n_estimators = 500, seed = 13, subsample = 0.8, learning_rate = 0.1, reg_alpha=0.01, reg_lambda = 10).fit(X_train_d,y_train_d)"
      ],
      "metadata": {
        "id": "5e2lHIDzOEXJ"
      },
      "execution_count": null,
      "outputs": []
    },
    {
      "cell_type": "markdown",
      "source": [
        "Economist"
      ],
      "metadata": {
        "id": "Oxy4v5ONNnqb"
      }
    },
    {
      "cell_type": "code",
      "source": [
        "xg_model_e = xgb.XGBRegressor(objective = 'reg:squarederror', n_estimators = 500, seed = 13, subsample = 0.8, learning_rate = 0.1, reg_alpha=0.01, reg_lambda = 10).fit(X_train_e,y_train_e)"
      ],
      "metadata": {
        "id": "GHS_uAw4OLWD"
      },
      "execution_count": null,
      "outputs": []
    },
    {
      "cell_type": "markdown",
      "source": [
        "Robotics engineer"
      ],
      "metadata": {
        "id": "nRAorYFYNsQU"
      }
    },
    {
      "cell_type": "code",
      "source": [
        "xg_model_re = xgb.XGBRegressor(objective = 'reg:squarederror', n_estimators = 500, seed = 13, subsample = 0.8, learning_rate = 0.1, reg_alpha=0.01, reg_lambda = 10).fit(X_train_re,y_train_re)"
      ],
      "metadata": {
        "id": "9Fvrp70lOSEY"
      },
      "execution_count": null,
      "outputs": []
    },
    {
      "cell_type": "markdown",
      "source": [
        "Senior Developer"
      ],
      "metadata": {
        "id": "4-nxXvqONxX_"
      }
    },
    {
      "cell_type": "code",
      "source": [
        "xg_model_sd = xgb.XGBRegressor(objective = 'reg:squarederror', n_estimators = 500, seed = 13, subsample = 0.8, learning_rate = 0.1, reg_alpha=0.01, reg_lambda = 10).fit(X_train_sd,y_train_sd)"
      ],
      "metadata": {
        "id": "HVgQgVBEOZHA"
      },
      "execution_count": null,
      "outputs": []
    },
    {
      "cell_type": "markdown",
      "source": [
        "Scores"
      ],
      "metadata": {
        "id": "2uTMgFPkOjJs"
      }
    },
    {
      "cell_type": "code",
      "source": [
        "print(\"XGB for Junior developer:\")\n",
        "print(\"train_score:\", xg_model_jd.score(X_train_jd,y_train_jd))\n",
        "print(\"test_score:\", xg_model_jd.score(X_test_jd,y_test_jd))\n",
        "print(\"train RMSE:\", np.sqrt(mean_squared_error(np.log(y_train_jd),np.log(xg_model_jd.predict(X_train_jd)))))\n",
        "print(\"test RMSE:\", np.sqrt(mean_squared_error(np.log(y_test_jd),np.log(xg_model_jd.predict(X_test_jd)))))\n",
        "print(\"------------------------------\")\n",
        "print(\"XGB for Data scientist:\")\n",
        "print(\"train_score:\", xg_model_ds.score(X_train_ds,y_train_ds))\n",
        "print(\"test_score:\", xg_model_ds.score(X_test_ds,y_test_ds))\n",
        "print(\"train RMSE:\", np.sqrt(mean_squared_error(np.log(y_train_ds),np.log(xg_model_ds.predict(X_train_ds)))))\n",
        "print(\"test RMSE:\", np.sqrt(mean_squared_error(np.log(y_test_ds),np.log(xg_model_ds.predict(X_test_ds)))))\n",
        "print(\"------------------------------\")\n",
        "print(\"XGB for Developer:\")\n",
        "print(\"train_score:\", xg_model_d.score(X_train_d,y_train_d))\n",
        "print(\"test_score:\", xg_model_d.score(X_test_d,y_test_d))\n",
        "print(\"train RMSE:\", np.sqrt(mean_squared_error(np.log(y_train_d),np.log(xg_model_d.predict(X_train_d)))))\n",
        "print(\"test RMSE:\", np.sqrt(mean_squared_error(np.log(y_test_d),np.log(xg_model_d.predict(X_test_d)))))\n",
        "print(\"------------------------------\")\n",
        "print(\"XGB for Economist:\")\n",
        "print(\"train_score:\", xg_model_e.score(X_train_e,y_train_e))\n",
        "print(\"test_score:\", xg_model_e.score(X_test_e,y_test_e))\n",
        "print(\"train RMSE:\", np.sqrt(mean_squared_error(np.log(y_train_e),np.log(xg_model_e.predict(X_train_e)))))\n",
        "print(\"test RMSE:\", np.sqrt(mean_squared_error(np.log(y_test_e),np.log(xg_model_e.predict(X_test_e)))))\n",
        "print(\"------------------------------\")\n",
        "print(\"XGB for Robotics engineer:\")\n",
        "print(\"train_score:\", xg_model_re.score(X_train_re,y_train_re))\n",
        "print(\"test_score:\", xg_model_re.score(X_test_re,y_test_re))\n",
        "print(\"train RMSE:\", np.sqrt(mean_squared_error(np.log(y_train_re),np.log(xg_model_re.predict(X_train_re)))))\n",
        "print(\"test RMSE:\", np.sqrt(mean_squared_error(np.log(y_test_re),np.log(xg_model_re.predict(X_test_re)))))\n",
        "print(\"------------------------------\")\n",
        "print(\"XGB for Senior developer:\")\n",
        "print(\"train_score:\", xg_model_sd.score(X_train_sd,y_train_sd))\n",
        "print(\"test_score:\", xg_model_sd.score(X_test_sd,y_test_sd))\n",
        "print(\"train RMSE:\", np.sqrt(mean_squared_error(np.log(y_train_sd),np.log(xg_model_sd.predict(X_train_sd)))))\n",
        "print(\"test RMSE:\", np.sqrt(mean_squared_error(np.log(y_test_sd),np.log(xg_model_sd.predict(X_test_sd)))))"
      ],
      "metadata": {
        "id": "NoO78IWLOkmL",
        "colab": {
          "base_uri": "https://localhost:8080/"
        },
        "outputId": "76e96977-2d61-46a0-f5f9-9c016b000004"
      },
      "execution_count": null,
      "outputs": [
        {
          "output_type": "stream",
          "name": "stdout",
          "text": [
            "XGB for Junior developer:\n",
            "train_score: 0.8269063573492733\n",
            "test_score: 0.6568575844872193\n",
            "train RMSE: 0.06544129946047655\n",
            "test RMSE: 0.08940098321694528\n",
            "------------------------------\n",
            "XGB for Data scientist:\n",
            "train_score: 0.8319007110172812\n",
            "test_score: 0.6422861949824781\n",
            "train RMSE: 0.06315867069040235\n",
            "test RMSE: 0.09221483059371652\n",
            "------------------------------\n",
            "XGB for Developer:\n",
            "train_score: 0.8583470244788939\n",
            "test_score: 0.7065023446374273\n",
            "train RMSE: 0.06372654726086059\n",
            "test RMSE: 0.09150742669943605\n",
            "------------------------------\n",
            "XGB for Economist:\n",
            "train_score: 0.6788253343426176\n",
            "test_score: 0.4950260110838125\n",
            "train RMSE: 0.07793180893599519\n",
            "test RMSE: 0.09599147961143187\n",
            "------------------------------\n",
            "XGB for Robotics engineer:\n",
            "train_score: 0.6988918445381305\n",
            "test_score: 0.5127729998858415\n",
            "train RMSE: 0.07597111322552876\n",
            "test RMSE: 0.09786588693332156\n",
            "------------------------------\n",
            "XGB for Senior developer:\n",
            "train_score: 0.7512572458937277\n",
            "test_score: 0.5091818176264193\n",
            "train RMSE: 0.06862346741634469\n",
            "test RMSE: 0.09592378344604757\n"
          ]
        }
      ]
    },
    {
      "cell_type": "markdown",
      "source": [
        "## **ADA Boost model**"
      ],
      "metadata": {
        "id": "5wo7ytS-eal1"
      }
    },
    {
      "cell_type": "markdown",
      "source": [
        "Junior developer"
      ],
      "metadata": {
        "id": "oGBxtZQgehjG"
      }
    },
    {
      "cell_type": "code",
      "source": [
        "ada_model_jd = AdaBoostRegressor(base_estimator=DecisionTreeRegressor(max_depth=20),\n",
        "                  learning_rate=1, n_estimators=500,\n",
        "                  random_state=13).fit(X_train_jd,y_train_jd)"
      ],
      "metadata": {
        "id": "nmRTmF0gfALW"
      },
      "execution_count": null,
      "outputs": []
    },
    {
      "cell_type": "code",
      "source": [
        "features = {}\n",
        "for feature, importance in zip(X_train_jd.columns, ada_model_jd.feature_importances_):\n",
        "    features[feature] = importance\n",
        "\n",
        "importances = pd.DataFrame({\"ADA\":features})\n",
        "importances.sort_values(\"ADA\", ascending = False, inplace=True)\n",
        "importances[:4].plot.bar();"
      ],
      "metadata": {
        "colab": {
          "base_uri": "https://localhost:8080/",
          "height": 333
        },
        "id": "UhFeVzfUgoDt",
        "outputId": "86f1ad60-ddfc-41d8-eef5-cdee97ece081"
      },
      "execution_count": null,
      "outputs": [
        {
          "output_type": "display_data",
          "data": {
            "text/plain": [
              "<Figure size 432x288 with 1 Axes>"
            ],
            "image/png": "[encoded data removed]"
          },
          "metadata": {
            "needs_background": "light"
          }
        }
      ]
    },
    {
      "cell_type": "markdown",
      "source": [
        "Data scientist"
      ],
      "metadata": {
        "id": "yQcNcihoehMW"
      }
    },
    {
      "cell_type": "code",
      "source": [
        "ada_model_ds = AdaBoostRegressor(base_estimator=DecisionTreeRegressor(max_depth=20),\n",
        "                  learning_rate=1, n_estimators=500,\n",
        "                  random_state=13).fit(X_train_ds,y_train_ds)"
      ],
      "metadata": {
        "id": "15S6ZuoofGBH"
      },
      "execution_count": null,
      "outputs": []
    },
    {
      "cell_type": "code",
      "source": [
        "features = {}\n",
        "for feature, importance in zip(X_train_ds.columns, ada_model_ds.feature_importances_):\n",
        "    features[feature] = importance\n",
        "\n",
        "importances = pd.DataFrame({\"ADA\":features})\n",
        "importances.sort_values(\"ADA\", ascending = False, inplace=True)\n",
        "importances[:4].plot.bar();"
      ],
      "metadata": {
        "colab": {
          "base_uri": "https://localhost:8080/",
          "height": 333
        },
        "id": "GhnsMxODg4vp",
        "outputId": "97ea4e15-c3ae-4620-e5fc-caeba1692904"
      },
      "execution_count": null,
      "outputs": [
        {
          "output_type": "display_data",
          "data": {
            "text/plain": [
              "<Figure size 432x288 with 1 Axes>"
            ],
            "image/png": "[encoded data removed]"
          },
          "metadata": {
            "needs_background": "light"
          }
        }
      ]
    },
    {
      "cell_type": "markdown",
      "source": [
        "Developer"
      ],
      "metadata": {
        "id": "-4xKsUyreg20"
      }
    },
    {
      "cell_type": "code",
      "source": [
        "ada_model_d = AdaBoostRegressor(base_estimator=DecisionTreeRegressor(max_depth=20),\n",
        "                  learning_rate=1, n_estimators=500,\n",
        "                  random_state=13).fit(X_train_d,y_train_d)"
      ],
      "metadata": {
        "id": "j__zzCfefJjG"
      },
      "execution_count": null,
      "outputs": []
    },
    {
      "cell_type": "code",
      "source": [
        "features = {}\n",
        "for feature, importance in zip(X_train_d.columns, ada_model_d.feature_importances_):\n",
        "    features[feature] = importance\n",
        "\n",
        "importances = pd.DataFrame({\"ADA\":features})\n",
        "importances.sort_values(\"ADA\", ascending = False, inplace=True)\n",
        "importances[:4].plot.bar();"
      ],
      "metadata": {
        "colab": {
          "base_uri": "https://localhost:8080/",
          "height": 333
        },
        "id": "9OSRHqB1g_dl",
        "outputId": "bb5f4d3b-e7ba-434e-988f-d833f6a3c1ca"
      },
      "execution_count": null,
      "outputs": [
        {
          "output_type": "display_data",
          "data": {
            "text/plain": [
              "<Figure size 432x288 with 1 Axes>"
            ],
            "image/png": "[encoded data removed]"
          },
          "metadata": {
            "needs_background": "light"
          }
        }
      ]
    },
    {
      "cell_type": "markdown",
      "source": [
        "Economist"
      ],
      "metadata": {
        "id": "pkrfRJEKertV"
      }
    },
    {
      "cell_type": "code",
      "source": [
        "ada_model_e = AdaBoostRegressor(base_estimator=DecisionTreeRegressor(max_depth=20),\n",
        "                  learning_rate=1, n_estimators=500,\n",
        "                  random_state=13).fit(X_train_e,y_train_e)"
      ],
      "metadata": {
        "id": "BPpIVMX6fM6W"
      },
      "execution_count": null,
      "outputs": []
    },
    {
      "cell_type": "code",
      "source": [
        "features = {}\n",
        "for feature, importance in zip(X_train_e.columns, ada_model_e.feature_importances_):\n",
        "    features[feature] = importance\n",
        "\n",
        "importances = pd.DataFrame({\"ADA\":features})\n",
        "importances.sort_values(\"ADA\", ascending = False, inplace=True)\n",
        "importances[:4].plot.bar();"
      ],
      "metadata": {
        "colab": {
          "base_uri": "https://localhost:8080/",
          "height": 317
        },
        "id": "rTeJhlA7hKlm",
        "outputId": "c1a0a32b-9899-4084-a616-81b3daaee2f9"
      },
      "execution_count": null,
      "outputs": [
        {
          "output_type": "display_data",
          "data": {
            "text/plain": [
              "<Figure size 432x288 with 1 Axes>"
            ],
            "image/png": "[encoded data removed]"
          },
          "metadata": {
            "needs_background": "light"
          }
        }
      ]
    },
    {
      "cell_type": "markdown",
      "source": [
        "Robotics engineer"
      ],
      "metadata": {
        "id": "2O8zI6M5ergm"
      }
    },
    {
      "cell_type": "code",
      "source": [
        "ada_model_re = AdaBoostRegressor(base_estimator=DecisionTreeRegressor(max_depth=20),\n",
        "                  learning_rate=1, n_estimators=500,\n",
        "                  random_state=13).fit(X_train_re,y_train_re)"
      ],
      "metadata": {
        "id": "vEL8Xl63fQhe"
      },
      "execution_count": null,
      "outputs": []
    },
    {
      "cell_type": "code",
      "source": [
        "features = {}\n",
        "for feature, importance in zip(X_train_re.columns, ada_model_re.feature_importances_):\n",
        "    features[feature] = importance\n",
        "\n",
        "importances = pd.DataFrame({\"ADA\":features})\n",
        "importances.sort_values(\"ADA\", ascending = False, inplace=True)\n",
        "importances[:4].plot.bar();"
      ],
      "metadata": {
        "colab": {
          "base_uri": "https://localhost:8080/",
          "height": 333
        },
        "id": "-mgcyer3hP-1",
        "outputId": "fd857bea-10f4-4978-fa93-4d572b708465"
      },
      "execution_count": null,
      "outputs": [
        {
          "output_type": "display_data",
          "data": {
            "text/plain": [
              "<Figure size 432x288 with 1 Axes>"
            ],
            "image/png": "[encoded data removed]"
          },
          "metadata": {
            "needs_background": "light"
          }
        }
      ]
    },
    {
      "cell_type": "markdown",
      "source": [
        "Senior developer"
      ],
      "metadata": {
        "id": "QfW2vBG3erTf"
      }
    },
    {
      "cell_type": "code",
      "source": [
        "ada_model_sd = AdaBoostRegressor(base_estimator=DecisionTreeRegressor(max_depth=20),\n",
        "                  learning_rate=1, n_estimators=500,\n",
        "                  random_state=13).fit(X_train_sd,y_train_sd)"
      ],
      "metadata": {
        "id": "4xzG4e6xfTwl"
      },
      "execution_count": null,
      "outputs": []
    },
    {
      "cell_type": "code",
      "source": [
        "features = {}\n",
        "for feature, importance in zip(X_train_sd.columns, ada_model_sd.feature_importances_):\n",
        "    features[feature] = importance\n",
        "\n",
        "importances = pd.DataFrame({\"ADA\":features})\n",
        "importances.sort_values(\"ADA\", ascending = False, inplace=True)\n",
        "importances[:4].plot.bar();"
      ],
      "metadata": {
        "colab": {
          "base_uri": "https://localhost:8080/",
          "height": 335
        },
        "id": "NeuMeVBJhV7V",
        "outputId": "84bf560a-f917-42a0-cfe4-c375a4cadf0b"
      },
      "execution_count": null,
      "outputs": [
        {
          "output_type": "display_data",
          "data": {
            "text/plain": [
              "<Figure size 432x288 with 1 Axes>"
            ],
            "image/png": "[encoded data removed]"
          },
          "metadata": {
            "needs_background": "light"
          }
        }
      ]
    },
    {
      "cell_type": "markdown",
      "source": [
        "Scores"
      ],
      "metadata": {
        "id": "spJj1wslfXyo"
      }
    },
    {
      "cell_type": "code",
      "source": [
        "print(\"ADA for Junior developer:\")\n",
        "print(\"train_score:\", ada_model_jd.score(X_train_jd,y_train_jd))\n",
        "print(\"test_score:\", ada_model_jd.score(X_test_jd,y_test_jd))\n",
        "print(\"train RMSE:\", np.sqrt(mean_squared_error(np.log(y_train_jd),np.log(ada_model_jd.predict(X_train_jd)))))\n",
        "print(\"test RMSE:\", np.sqrt(mean_squared_error(np.log(y_test_jd),np.log(ada_model_jd.predict(X_test_jd)))))\n",
        "print(\"------------------------------\")\n",
        "print(\"ADA for Data scientist:\")\n",
        "print(\"train_score:\", ada_model_ds.score(X_train_ds,y_train_ds))\n",
        "print(\"test_score:\", ada_model_ds.score(X_test_ds,y_test_ds))\n",
        "print(\"train RMSE:\", np.sqrt(mean_squared_error(np.log(y_train_ds),np.log(ada_model_ds.predict(X_train_ds)))))\n",
        "print(\"test RMSE:\", np.sqrt(mean_squared_error(np.log(y_test_ds),np.log(ada_model_ds.predict(X_test_ds)))))\n",
        "print(\"------------------------------\")\n",
        "print(\"ADA for Developer:\")\n",
        "print(\"train_score:\", ada_model_d.score(X_train_d,y_train_d))\n",
        "print(\"test_score:\", ada_model_d.score(X_test_d,y_test_d))\n",
        "print(\"train RMSE:\", np.sqrt(mean_squared_error(np.log(y_train_d),np.log(ada_model_d.predict(X_train_d)))))\n",
        "print(\"test RMSE:\", np.sqrt(mean_squared_error(np.log(y_test_d),np.log(ada_model_d.predict(X_test_d)))))\n",
        "print(\"------------------------------\")\n",
        "print(\"ADA for Economist:\")\n",
        "print(\"train_score:\", ada_model_e.score(X_train_e,y_train_e))\n",
        "print(\"test_score:\", ada_model_e.score(X_test_e,y_test_e))\n",
        "print(\"train RMSE:\", np.sqrt(mean_squared_error(np.log(y_train_e),np.log(ada_model_e.predict(X_train_e)))))\n",
        "print(\"test RMSE:\", np.sqrt(mean_squared_error(np.log(y_test_e),np.log(ada_model_e.predict(X_test_e)))))\n",
        "print(\"------------------------------\")\n",
        "print(\"ADA for Robotics engineer:\")\n",
        "print(\"train_score:\", ada_model_re.score(X_train_re,y_train_re))\n",
        "print(\"test_score:\", ada_model_re.score(X_test_re,y_test_re))\n",
        "print(\"train RMSE:\", np.sqrt(mean_squared_error(np.log(y_train_re),np.log(ada_model_re.predict(X_train_re)))))\n",
        "print(\"test RMSE:\", np.sqrt(mean_squared_error(np.log(y_test_re),np.log(ada_model_re.predict(X_test_re)))))\n",
        "print(\"------------------------------\")\n",
        "print(\"ADA for Senior developer:\")\n",
        "print(\"train_score:\", ada_model_sd.score(X_train_sd,y_train_sd))\n",
        "print(\"test_score:\", ada_model_sd.score(X_test_sd,y_test_sd))\n",
        "print(\"train RMSE:\", np.sqrt(mean_squared_error(np.log(y_train_sd),np.log(ada_model_sd.predict(X_train_sd)))))\n",
        "print(\"test RMSE:\", np.sqrt(mean_squared_error(np.log(y_test_sd),np.log(ada_model_sd.predict(X_test_sd)))))"
      ],
      "metadata": {
        "colab": {
          "base_uri": "https://localhost:8080/"
        },
        "id": "pvRuHe6kfecS",
        "outputId": "8825c626-ba75-45e1-e36e-0abc21535ae7"
      },
      "execution_count": null,
      "outputs": [
        {
          "output_type": "stream",
          "name": "stdout",
          "text": [
            "ADA for Junior developer:\n",
            "train_score: 0.9465087340133255\n",
            "test_score: 0.5850799563735503\n",
            "train RMSE: 0.039555965451217395\n",
            "test RMSE: 0.09810237901881425\n",
            "------------------------------\n",
            "ADA for Data scientist:\n",
            "train_score: 0.7921854233221785\n",
            "test_score: 0.6699696743457877\n",
            "train RMSE: 0.07079141377990897\n",
            "test RMSE: 0.08859509189137345\n",
            "------------------------------\n",
            "ADA for Developer:\n",
            "train_score: 0.9988515382011328\n",
            "test_score: 0.6492049951426566\n",
            "train RMSE: 0.006538565802570671\n",
            "test RMSE: 0.09974480613625945\n",
            "------------------------------\n",
            "ADA for Economist:\n",
            "train_score: 0.6985255927406089\n",
            "test_score: 0.43132052135742616\n",
            "train RMSE: 0.07647194518957814\n",
            "test RMSE: 0.1015890124083401\n",
            "------------------------------\n",
            "ADA for Robotics engineer:\n",
            "train_score: 0.727644740461378\n",
            "test_score: 0.4464921537973435\n",
            "train RMSE: 0.07270106930491793\n",
            "test RMSE: 0.10359509729314334\n",
            "------------------------------\n",
            "ADA for Senior developer:\n",
            "train_score: 0.9891462230215747\n",
            "test_score: 0.42221286269795144\n",
            "train RMSE: 0.0153401974888915\n",
            "test RMSE: 0.10446159830504942\n"
          ]
        }
      ]
    },
    {
      "cell_type": "markdown",
      "source": [
        "## **Extra Trees model**"
      ],
      "metadata": {
        "id": "qOdwG6W9gPGv"
      }
    },
    {
      "cell_type": "markdown",
      "source": [
        "Junior developer"
      ],
      "metadata": {
        "id": "GIy0eE04hlnd"
      }
    },
    {
      "cell_type": "code",
      "source": [
        "ET_model_jd = ExtraTreesRegressor(max_samples=None, n_estimators=500, random_state=13).fit(X_train_jd,y_train_jd)"
      ],
      "metadata": {
        "id": "wlfexWVwhlIt"
      },
      "execution_count": null,
      "outputs": []
    },
    {
      "cell_type": "markdown",
      "source": [
        "Data scientist"
      ],
      "metadata": {
        "id": "iZmEwlY9hnke"
      }
    },
    {
      "cell_type": "code",
      "source": [
        "ET_model_ds = ExtraTreesRegressor(max_samples=None, n_estimators=500, random_state=13).fit(X_train_ds,y_train_ds)"
      ],
      "metadata": {
        "id": "ETxJg_3KiXq9"
      },
      "execution_count": null,
      "outputs": []
    },
    {
      "cell_type": "markdown",
      "source": [
        "Developer"
      ],
      "metadata": {
        "id": "vBBSQLOXhm8v"
      }
    },
    {
      "cell_type": "code",
      "source": [
        "ET_model_d = ExtraTreesRegressor(max_samples=None, n_estimators=500, random_state=13).fit(X_train_d,y_train_d)"
      ],
      "metadata": {
        "id": "ztUXr3zZiYnt"
      },
      "execution_count": null,
      "outputs": []
    },
    {
      "cell_type": "markdown",
      "source": [
        "Economist"
      ],
      "metadata": {
        "id": "7201GXKhhmSU"
      }
    },
    {
      "cell_type": "code",
      "source": [
        "ET_model_e = ExtraTreesRegressor(max_samples=None, n_estimators=500, random_state=13).fit(X_train_e,y_train_e)"
      ],
      "metadata": {
        "id": "czz2OjY7iZXG"
      },
      "execution_count": null,
      "outputs": []
    },
    {
      "cell_type": "markdown",
      "source": [
        "Robotics engineer"
      ],
      "metadata": {
        "id": "fY5o1kxyh1Nm"
      }
    },
    {
      "cell_type": "code",
      "source": [
        "ET_model_re = ExtraTreesRegressor(max_samples=None, n_estimators=500, random_state=13).fit(X_train_re,y_train_re)"
      ],
      "metadata": {
        "id": "X4EVE7WsiZ0_"
      },
      "execution_count": null,
      "outputs": []
    },
    {
      "cell_type": "markdown",
      "source": [
        "Senior developer"
      ],
      "metadata": {
        "id": "HZcTPaZNh2f-"
      }
    },
    {
      "cell_type": "code",
      "source": [
        "ET_model_sd = ExtraTreesRegressor(max_samples=None, n_estimators=500, random_state=13).fit(X_train_sd,y_train_sd)"
      ],
      "metadata": {
        "id": "HZk8Q0ShhygV"
      },
      "execution_count": null,
      "outputs": []
    },
    {
      "cell_type": "markdown",
      "source": [
        "Scores"
      ],
      "metadata": {
        "id": "aa5w_hekio5_"
      }
    },
    {
      "cell_type": "code",
      "source": [
        "print(\"ET for Junior developer:\")\n",
        "print(\"train_score:\", ET_model_jd.score(X_train_jd,y_train_jd))\n",
        "print(\"test_score:\", ET_model_jd.score(X_test_jd,y_test_jd))\n",
        "print(\"train RMSE:\", np.sqrt(mean_squared_error(np.log(y_train_jd),np.log(ET_model_jd.predict(X_train_jd)))))\n",
        "print(\"test RMSE:\", np.sqrt(mean_squared_error(np.log(y_test_jd),np.log(ET_model_jd.predict(X_test_jd)))))\n",
        "print(\"------------------------------\")\n",
        "print(\"ET for Data scientist:\")\n",
        "print(\"train_score:\", ET_model_ds.score(X_train_ds,y_train_ds))\n",
        "print(\"test_score:\", ET_model_ds.score(X_test_ds,y_test_ds))\n",
        "print(\"train RMSE:\", np.sqrt(mean_squared_error(np.log(y_train_ds),np.log(ET_model_ds.predict(X_train_ds)))))\n",
        "print(\"test RMSE:\", np.sqrt(mean_squared_error(np.log(y_test_ds),np.log(ET_model_ds.predict(X_test_ds)))))\n",
        "print(\"------------------------------\")\n",
        "print(\"ET for Developer:\")\n",
        "print(\"train_score:\", ET_model_d.score(X_train_d,y_train_d))\n",
        "print(\"test_score:\", ET_model_d.score(X_test_d,y_test_d))\n",
        "print(\"train RMSE:\", np.sqrt(mean_squared_error(np.log(y_train_d),np.log(ET_model_d.predict(X_train_d)))))\n",
        "print(\"test RMSE:\", np.sqrt(mean_squared_error(np.log(y_test_d),np.log(ET_model_d.predict(X_test_d)))))\n",
        "print(\"------------------------------\")\n",
        "print(\"ET for Economist:\")\n",
        "print(\"train_score:\", ET_model_e.score(X_train_e,y_train_e))\n",
        "print(\"test_score:\", ET_model_e.score(X_test_e,y_test_e))\n",
        "print(\"train RMSE:\", np.sqrt(mean_squared_error(np.log(y_train_e),np.log(ET_model_e.predict(X_train_e)))))\n",
        "print(\"test RMSE:\", np.sqrt(mean_squared_error(np.log(y_test_e),np.log(ET_model_e.predict(X_test_e)))))\n",
        "print(\"------------------------------\")\n",
        "print(\"ET for Robotics engineer:\")\n",
        "print(\"train_score:\", ET_model_re.score(X_train_re,y_train_re))\n",
        "print(\"test_score:\", ET_model_re.score(X_test_re,y_test_re))\n",
        "print(\"train RMSE:\", np.sqrt(mean_squared_error(np.log(y_train_re),np.log(ET_model_re.predict(X_train_re)))))\n",
        "print(\"test RMSE:\", np.sqrt(mean_squared_error(np.log(y_test_re),np.log(ET_model_re.predict(X_test_re)))))\n",
        "print(\"------------------------------\")\n",
        "print(\"ET for Senior developer:\")\n",
        "print(\"train_score:\", ET_model_sd.score(X_train_sd,y_train_sd))\n",
        "print(\"test_score:\", ET_model_sd.score(X_test_sd,y_test_sd))\n",
        "print(\"train RMSE:\", np.sqrt(mean_squared_error(np.log(y_train_sd),np.log(ET_model_sd.predict(X_train_sd)))))\n",
        "print(\"test RMSE:\", np.sqrt(mean_squared_error(np.log(y_test_sd),np.log(ET_model_sd.predict(X_test_sd)))))"
      ],
      "metadata": {
        "colab": {
          "base_uri": "https://localhost:8080/"
        },
        "id": "c22XcttliqM8",
        "outputId": "4244f74c-0959-4778-aa7e-ffec1de9c0e3"
      },
      "execution_count": null,
      "outputs": [
        {
          "output_type": "stream",
          "name": "stdout",
          "text": [
            "ET for Junior developer:\n",
            "train_score: 0.9989900272984882\n",
            "test_score: 0.6131365020001702\n",
            "train RMSE: 0.004830248303150031\n",
            "test RMSE: 0.09541634045681754\n",
            "------------------------------\n",
            "ET for Data scientist:\n",
            "train_score: 0.9980628018625974\n",
            "test_score: 0.618914136726114\n",
            "train RMSE: 0.005951561189350997\n",
            "test RMSE: 0.09522210813180224\n",
            "------------------------------\n",
            "ET for Developer:\n",
            "train_score: 0.9996603306026982\n",
            "test_score: 0.6960542490383945\n",
            "train RMSE: 0.0030782311678856\n",
            "test RMSE: 0.09402427052631582\n",
            "------------------------------\n",
            "ET for Economist:\n",
            "train_score: 0.9315370834751061\n",
            "test_score: 0.34320479001640136\n",
            "train RMSE: 0.036929946637468375\n",
            "test RMSE: 0.11083844044190384\n",
            "------------------------------\n",
            "ET for Robotics engineer:\n",
            "train_score: 0.9307278201370699\n",
            "test_score: 0.34084492260170196\n",
            "train RMSE: 0.036648599177554385\n",
            "test RMSE: 0.1142159257432001\n",
            "------------------------------\n",
            "ET for Senior developer:\n",
            "train_score: 0.9984352952891848\n",
            "test_score: 0.46338339857050703\n",
            "train RMSE: 0.005357365098265613\n",
            "test RMSE: 0.10100149002841623\n"
          ]
        }
      ]
    },
    {
      "cell_type": "markdown",
      "source": [
        "## **GradientBoostingRegressor**"
      ],
      "metadata": {
        "id": "uqKUWRe8j3j5"
      }
    },
    {
      "cell_type": "markdown",
      "source": [
        "Junior developer"
      ],
      "metadata": {
        "id": "gBOWKq46j6MA"
      }
    },
    {
      "cell_type": "code",
      "source": [
        "GBoost_model_jd = GradientBoostingRegressor(n_estimators=3000, learning_rate=0.05,\n",
        "                                   max_depth=4, max_features='sqrt',\n",
        "                                   min_samples_leaf=15, min_samples_split=10, \n",
        "                                   loss='huber', random_state =13).fit(X_train_jd,y_train_jd)"
      ],
      "metadata": {
        "id": "_h3G9axFkjuX"
      },
      "execution_count": null,
      "outputs": []
    },
    {
      "cell_type": "code",
      "source": [
        "features = {}\n",
        "for feature, importance in zip(X_train_jd.columns, GBoost_model_jd.feature_importances_):\n",
        "    features[feature] = importance\n",
        "\n",
        "importances = pd.DataFrame({\"GBoost\":features})\n",
        "importances.sort_values(\"GBoost\", ascending = False, inplace=True)\n",
        "importances[:4].plot.bar();"
      ],
      "metadata": {
        "colab": {
          "base_uri": "https://localhost:8080/",
          "height": 333
        },
        "id": "gQd7LGUYl5L0",
        "outputId": "f3189f44-7756-43cb-9572-0a8fc5e67314"
      },
      "execution_count": null,
      "outputs": [
        {
          "output_type": "display_data",
          "data": {
            "text/plain": [
              "<Figure size 432x288 with 1 Axes>"
            ],
            "image/png": "[encoded data removed]"
          },
          "metadata": {
            "needs_background": "light"
          }
        }
      ]
    },
    {
      "cell_type": "markdown",
      "source": [
        "Data scientist"
      ],
      "metadata": {
        "id": "kjp1dWmzj9Tu"
      }
    },
    {
      "cell_type": "code",
      "source": [
        "GBoost_model_ds = GradientBoostingRegressor(n_estimators=3000, learning_rate=0.05,\n",
        "                                   max_depth=4, max_features='sqrt',\n",
        "                                   min_samples_leaf=15, min_samples_split=10, \n",
        "                                   loss='huber', random_state =13).fit(X_train_ds,y_train_ds)"
      ],
      "metadata": {
        "id": "RcPy-576j_X9"
      },
      "execution_count": null,
      "outputs": []
    },
    {
      "cell_type": "code",
      "source": [
        "features = {}\n",
        "for feature, importance in zip(X_train_ds.columns, GBoost_model_ds.feature_importances_):\n",
        "    features[feature] = importance\n",
        "\n",
        "importances = pd.DataFrame({\"GBoost\":features})\n",
        "importances.sort_values(\"GBoost\", ascending = False, inplace=True)\n",
        "importances[:4].plot.bar();"
      ],
      "metadata": {
        "colab": {
          "base_uri": "https://localhost:8080/",
          "height": 333
        },
        "id": "VkTCvnSfmCn2",
        "outputId": "352fe2cb-5f3d-4435-f461-5eb318e90cf5"
      },
      "execution_count": null,
      "outputs": [
        {
          "output_type": "display_data",
          "data": {
            "text/plain": [
              "<Figure size 432x288 with 1 Axes>"
            ],
            "image/png": "[encoded data removed]"
          },
          "metadata": {
            "needs_background": "light"
          }
        }
      ]
    },
    {
      "cell_type": "markdown",
      "source": [
        "Developer"
      ],
      "metadata": {
        "id": "HBJpbbGhkAOH"
      }
    },
    {
      "cell_type": "code",
      "source": [
        "GBoost_model_d = GradientBoostingRegressor(n_estimators=3000, learning_rate=0.05,\n",
        "                                   max_depth=4, max_features='sqrt',\n",
        "                                   min_samples_leaf=15, min_samples_split=10, \n",
        "                                   loss='huber', random_state =13).fit(X_train_d,y_train_d)"
      ],
      "metadata": {
        "id": "uA9hgNIYj2pO"
      },
      "execution_count": null,
      "outputs": []
    },
    {
      "cell_type": "code",
      "source": [
        "features = {}\n",
        "for feature, importance in zip(X_train_d.columns, GBoost_model_d.feature_importances_):\n",
        "    features[feature] = importance\n",
        "\n",
        "importances = pd.DataFrame({\"GBoost\":features})\n",
        "importances.sort_values(\"GBoost\", ascending = False, inplace=True)\n",
        "importances[:4].plot.bar();"
      ],
      "metadata": {
        "colab": {
          "base_uri": "https://localhost:8080/",
          "height": 333
        },
        "id": "Oe1bj-UlmJs0",
        "outputId": "04d4a02c-cd76-4f72-b526-380fce8c3dc5"
      },
      "execution_count": null,
      "outputs": [
        {
          "output_type": "display_data",
          "data": {
            "text/plain": [
              "<Figure size 432x288 with 1 Axes>"
            ],
            "image/png": "[encoded data removed]"
          },
          "metadata": {
            "needs_background": "light"
          }
        }
      ]
    },
    {
      "cell_type": "markdown",
      "source": [
        "Economist"
      ],
      "metadata": {
        "id": "XzlfEoY5kCMc"
      }
    },
    {
      "cell_type": "code",
      "source": [
        "GBoost_model_e = GradientBoostingRegressor(n_estimators=3000, learning_rate=0.05,\n",
        "                                   max_depth=4, max_features='sqrt',\n",
        "                                   min_samples_leaf=15, min_samples_split=10, \n",
        "                                   loss='huber', random_state =13).fit(X_train_e,y_train_e)"
      ],
      "metadata": {
        "id": "lqBSWIiTk1M0"
      },
      "execution_count": null,
      "outputs": []
    },
    {
      "cell_type": "code",
      "source": [
        "features = {}\n",
        "for feature, importance in zip(X_train_e.columns, GBoost_model_e.feature_importances_):\n",
        "    features[feature] = importance\n",
        "\n",
        "importances = pd.DataFrame({\"GBoost\":features})\n",
        "importances.sort_values(\"GBoost\", ascending = False, inplace=True)\n",
        "importances[:4].plot.bar();"
      ],
      "metadata": {
        "colab": {
          "base_uri": "https://localhost:8080/",
          "height": 317
        },
        "id": "UIl7DkhrmM-M",
        "outputId": "317c40e9-43c1-4388-ae35-c3beca1c902f"
      },
      "execution_count": null,
      "outputs": [
        {
          "output_type": "display_data",
          "data": {
            "text/plain": [
              "<Figure size 432x288 with 1 Axes>"
            ],
            "image/png": "[encoded data removed]"
          },
          "metadata": {
            "needs_background": "light"
          }
        }
      ]
    },
    {
      "cell_type": "markdown",
      "source": [
        "Robotics engoneer"
      ],
      "metadata": {
        "id": "TuBJly1ZkFe8"
      }
    },
    {
      "cell_type": "code",
      "source": [
        "GBoost_model_re = GradientBoostingRegressor(n_estimators=3000, learning_rate=0.05,\n",
        "                                   max_depth=4, max_features='sqrt',\n",
        "                                   min_samples_leaf=15, min_samples_split=10, \n",
        "                                   loss='huber', random_state =13).fit(X_train_re,y_train_re)"
      ],
      "metadata": {
        "id": "tOzGEP4dk4Yk"
      },
      "execution_count": null,
      "outputs": []
    },
    {
      "cell_type": "code",
      "source": [
        "features = {}\n",
        "for feature, importance in zip(X_train_re.columns, GBoost_model_re.feature_importances_):\n",
        "    features[feature] = importance\n",
        "\n",
        "importances = pd.DataFrame({\"GBoost\":features})\n",
        "importances.sort_values(\"GBoost\", ascending = False, inplace=True)\n",
        "importances[:4].plot.bar();"
      ],
      "metadata": {
        "colab": {
          "base_uri": "https://localhost:8080/",
          "height": 333
        },
        "id": "aMEr_57HmRsd",
        "outputId": "f6819c66-9b02-4d25-99ba-013e0eeffc63"
      },
      "execution_count": null,
      "outputs": [
        {
          "output_type": "display_data",
          "data": {
            "text/plain": [
              "<Figure size 432x288 with 1 Axes>"
            ],
            "image/png": "[encoded data removed]"
          },
          "metadata": {
            "needs_background": "light"
          }
        }
      ]
    },
    {
      "cell_type": "markdown",
      "source": [
        "Senior developer"
      ],
      "metadata": {
        "id": "MzokRZa4kgov"
      }
    },
    {
      "cell_type": "code",
      "source": [
        "GBoost_model_sd = GradientBoostingRegressor(n_estimators=3000, learning_rate=0.05,\n",
        "                                   max_depth=4, max_features='sqrt',\n",
        "                                   min_samples_leaf=15, min_samples_split=10, \n",
        "                                   loss='huber', random_state =13).fit(X_train_sd,y_train_sd)"
      ],
      "metadata": {
        "id": "aMKNzyfAk7ac"
      },
      "execution_count": null,
      "outputs": []
    },
    {
      "cell_type": "code",
      "source": [
        "features = {}\n",
        "for feature, importance in zip(X_train_sd.columns, GBoost_model_sd.feature_importances_):\n",
        "    features[feature] = importance\n",
        "\n",
        "importances = pd.DataFrame({\"GBoost\":features})\n",
        "importances.sort_values(\"GBoost\", ascending = False, inplace=True)\n",
        "importances[:4].plot.bar();"
      ],
      "metadata": {
        "colab": {
          "base_uri": "https://localhost:8080/",
          "height": 333
        },
        "id": "zLO2ENP1mVaU",
        "outputId": "1d07f3a5-cbd1-400b-b9dc-e8bb70560134"
      },
      "execution_count": null,
      "outputs": [
        {
          "output_type": "display_data",
          "data": {
            "text/plain": [
              "<Figure size 432x288 with 1 Axes>"
            ],
            "image/png": "[encoded data removed]"
          },
          "metadata": {
            "needs_background": "light"
          }
        }
      ]
    },
    {
      "cell_type": "markdown",
      "source": [
        "Scores"
      ],
      "metadata": {
        "id": "eEQE0ll6k_jt"
      }
    },
    {
      "cell_type": "code",
      "source": [
        "print(\"GBoost for Junior developer:\")\n",
        "print(\"train_score:\", GBoost_model_jd.score(X_train_jd,y_train_jd))\n",
        "print(\"test_score:\", GBoost_model_jd.score(X_test_jd,y_test_jd))\n",
        "print(\"train RMSE:\", np.sqrt(mean_squared_error(np.log(y_train_jd),np.log(GBoost_model_jd.predict(X_train_jd)))))\n",
        "print(\"test RMSE:\", np.sqrt(mean_squared_error(np.log(y_test_jd),np.log(GBoost_model_jd.predict(X_test_jd)))))\n",
        "print(\"------------------------------\")\n",
        "print(\"GBoost for Data scientist:\")\n",
        "print(\"train_score:\", GBoost_model_ds.score(X_train_ds,y_train_ds))\n",
        "print(\"test_score:\", GBoost_model_ds.score(X_test_ds,y_test_ds))\n",
        "print(\"train RMSE:\", np.sqrt(mean_squared_error(np.log(y_train_ds),np.log(GBoost_model_ds.predict(X_train_ds)))))\n",
        "print(\"test RMSE:\", np.sqrt(mean_squared_error(np.log(y_test_ds),np.log(GBoost_model_ds.predict(X_test_ds)))))\n",
        "print(\"------------------------------\")\n",
        "print(\"GBoost for Developer:\")\n",
        "print(\"train_score:\", GBoost_model_d.score(X_train_d,y_train_d))\n",
        "print(\"test_score:\", GBoost_model_d.score(X_test_d,y_test_d))\n",
        "print(\"train RMSE:\", np.sqrt(mean_squared_error(np.log(y_train_d),np.log(GBoost_model_d.predict(X_train_d)))))\n",
        "print(\"test RMSE:\", np.sqrt(mean_squared_error(np.log(y_test_d),np.log(GBoost_model_d.predict(X_test_d)))))\n",
        "print(\"------------------------------\")\n",
        "print(\"GBoost for Economist:\")\n",
        "print(\"train_score:\", GBoost_model_e.score(X_train_e,y_train_e))\n",
        "print(\"test_score:\", GBoost_model_e.score(X_test_e,y_test_e))\n",
        "print(\"train RMSE:\", np.sqrt(mean_squared_error(np.log(y_train_e),np.log(GBoost_model_e.predict(X_train_e)))))\n",
        "print(\"test RMSE:\", np.sqrt(mean_squared_error(np.log(y_test_e),np.log(GBoost_model_e.predict(X_test_e)))))\n",
        "print(\"------------------------------\")\n",
        "print(\"GBoost for Robotics engineer:\")\n",
        "print(\"train_score:\", GBoost_model_re.score(X_train_re,y_train_re))\n",
        "print(\"test_score:\", GBoost_model_re.score(X_test_re,y_test_re))\n",
        "print(\"train RMSE:\", np.sqrt(mean_squared_error(np.log(y_train_re),np.log(GBoost_model_re.predict(X_train_re)))))\n",
        "print(\"test RMSE:\", np.sqrt(mean_squared_error(np.log(y_test_re),np.log(GBoost_model_re.predict(X_test_re)))))\n",
        "print(\"------------------------------\")\n",
        "print(\"GBoost for Senior developer:\")\n",
        "print(\"train_score:\", GBoost_model_sd.score(X_train_sd,y_train_sd))\n",
        "print(\"test_score:\", GBoost_model_sd.score(X_test_sd,y_test_sd))\n",
        "print(\"train RMSE:\", np.sqrt(mean_squared_error(np.log(y_train_sd),np.log(GBoost_model_sd.predict(X_train_sd)))))\n",
        "print(\"test RMSE:\", np.sqrt(mean_squared_error(np.log(y_test_sd),np.log(GBoost_model_sd.predict(X_test_sd)))))"
      ],
      "metadata": {
        "colab": {
          "base_uri": "https://localhost:8080/"
        },
        "id": "eIQmEUJ9lBBU",
        "outputId": "025e4356-690f-4185-8d6b-8fab08a56254"
      },
      "execution_count": null,
      "outputs": [
        {
          "output_type": "stream",
          "name": "stdout",
          "text": [
            "GBoost for Junior developer:\n",
            "train_score: 0.9066096105000492\n",
            "test_score: 0.5934409697821065\n",
            "train RMSE: 0.04795384059742376\n",
            "test RMSE: 0.0976795425642739\n",
            "------------------------------\n",
            "GBoost for Data scientist:\n",
            "train_score: 0.90662650345568\n",
            "test_score: 0.5740486386298558\n",
            "train RMSE: 0.046944974939793015\n",
            "test RMSE: 0.1007341327518426\n",
            "------------------------------\n",
            "GBoost for Developer:\n",
            "train_score: 0.9267061892294091\n",
            "test_score: 0.6628070310386125\n",
            "train RMSE: 0.04567812962317093\n",
            "test RMSE: 0.09818271522806166\n",
            "------------------------------\n",
            "GBoost for Economist:\n",
            "train_score: 0.7439184984271434\n",
            "test_score: 0.4153475370212616\n",
            "train RMSE: 0.06993070047130527\n",
            "test RMSE: 0.10322866675654425\n",
            "------------------------------\n",
            "GBoost for Robotics engineer:\n",
            "train_score: 0.756144566107626\n",
            "test_score: 0.4685620879151604\n",
            "train RMSE: 0.06855028605269747\n",
            "test RMSE: 0.10196713492225642\n",
            "------------------------------\n",
            "GBoost for Senior developer:\n",
            "train_score: 0.861665537308352\n",
            "test_score: 0.41707176311667826\n",
            "train RMSE: 0.050743618940073024\n",
            "test RMSE: 0.10518640505940477\n"
          ]
        }
      ]
    },
    {
      "cell_type": "markdown",
      "source": [
        "## **LGBM**"
      ],
      "metadata": {
        "id": "8qqH1r-fmdqt"
      }
    },
    {
      "cell_type": "markdown",
      "source": [
        "Junior developer"
      ],
      "metadata": {
        "id": "CIW_VMS5m_Mf"
      }
    },
    {
      "cell_type": "code",
      "source": [
        "model_lgb_jd = lgb.LGBMRegressor(objective='regression',num_leaves=5,\n",
        "                              learning_rate=0.05, n_estimators=720,\n",
        "                              max_bin = 55, bagging_fraction = 0.8,\n",
        "                              bagging_freq = 5, feature_fraction = 0.2319,\n",
        "                              feature_fraction_seed=9, bagging_seed=9,\n",
        "                              min_data_in_leaf =6, min_sum_hessian_in_leaf = 11).fit(X_train_jd,y_train_jd)"
      ],
      "metadata": {
        "id": "Zl6lfK4-m_Mg"
      },
      "execution_count": null,
      "outputs": []
    },
    {
      "cell_type": "code",
      "source": [
        "features = {}\n",
        "for feature, importance in zip(X_train_jd.columns, model_lgb_jd.feature_importances_):\n",
        "    features[feature] = importance\n",
        "\n",
        "importances = pd.DataFrame({\"LGBM\":features})\n",
        "importances.sort_values(\"LGBM\", ascending = False, inplace=True)\n",
        "importances[:4].plot.bar();"
      ],
      "metadata": {
        "colab": {
          "base_uri": "https://localhost:8080/",
          "height": 333
        },
        "id": "HtIv5TnSol80",
        "outputId": "df5af3bf-4173-4d64-f5a8-29cdf23ae925"
      },
      "execution_count": null,
      "outputs": [
        {
          "output_type": "display_data",
          "data": {
            "text/plain": [
              "<Figure size 432x288 with 1 Axes>"
            ],
            "image/png": "[encoded data removed]"
          },
          "metadata": {
            "needs_background": "light"
          }
        }
      ]
    },
    {
      "cell_type": "markdown",
      "source": [
        "Data scientist"
      ],
      "metadata": {
        "id": "QTrSoPxFm_Mh"
      }
    },
    {
      "cell_type": "code",
      "source": [
        "model_lgb_ds = lgb.LGBMRegressor(objective='regression',num_leaves=5,\n",
        "                              learning_rate=0.05, n_estimators=720,\n",
        "                              max_bin = 55, bagging_fraction = 0.8,\n",
        "                              bagging_freq = 5, feature_fraction = 0.2319,\n",
        "                              feature_fraction_seed=9, bagging_seed=9,\n",
        "                              min_data_in_leaf =6, min_sum_hessian_in_leaf = 11).fit(X_train_ds,y_train_ds)"
      ],
      "metadata": {
        "id": "ut9T6LCcnI-P"
      },
      "execution_count": null,
      "outputs": []
    },
    {
      "cell_type": "code",
      "source": [
        "features = {}\n",
        "for feature, importance in zip(X_train_ds.columns, model_lgb_ds.feature_importances_):\n",
        "    features[feature] = importance\n",
        "\n",
        "importances = pd.DataFrame({\"LGBM\":features})\n",
        "importances.sort_values(\"LGBM\", ascending = False, inplace=True)\n",
        "importances[:4].plot.bar();"
      ],
      "metadata": {
        "colab": {
          "base_uri": "https://localhost:8080/",
          "height": 333
        },
        "id": "WEEoYupMorrL",
        "outputId": "936058a9-de8e-4b8f-a7b3-64e03718ec31"
      },
      "execution_count": null,
      "outputs": [
        {
          "output_type": "display_data",
          "data": {
            "text/plain": [
              "<Figure size 432x288 with 1 Axes>"
            ],
            "image/png": "[encoded data removed]"
          },
          "metadata": {
            "needs_background": "light"
          }
        }
      ]
    },
    {
      "cell_type": "markdown",
      "source": [
        "Developer"
      ],
      "metadata": {
        "id": "lnB19lOim_Mi"
      }
    },
    {
      "cell_type": "code",
      "source": [
        "model_lgb_d = lgb.LGBMRegressor(objective='regression',num_leaves=5,\n",
        "                              learning_rate=0.05, n_estimators=720,\n",
        "                              max_bin = 55, bagging_fraction = 0.8,\n",
        "                              bagging_freq = 5, feature_fraction = 0.2319,\n",
        "                              feature_fraction_seed=9, bagging_seed=9,\n",
        "                              min_data_in_leaf =6, min_sum_hessian_in_leaf = 11).fit(X_train_d,y_train_d)"
      ],
      "metadata": {
        "id": "ChHsgjEzm_Mi"
      },
      "execution_count": null,
      "outputs": []
    },
    {
      "cell_type": "code",
      "source": [
        "features = {}\n",
        "for feature, importance in zip(X_train_d.columns, model_lgb_d.feature_importances_):\n",
        "    features[feature] = importance\n",
        "\n",
        "importances = pd.DataFrame({\"LGBM\":features})\n",
        "importances.sort_values(\"LGBM\", ascending = False, inplace=True)\n",
        "importances[:4].plot.bar();"
      ],
      "metadata": {
        "colab": {
          "base_uri": "https://localhost:8080/",
          "height": 333
        },
        "id": "-k2p9-s8owns",
        "outputId": "dff2e989-8a95-465c-bb45-90012b836d16"
      },
      "execution_count": null,
      "outputs": [
        {
          "output_type": "display_data",
          "data": {
            "text/plain": [
              "<Figure size 432x288 with 1 Axes>"
            ],
            "image/png": "[encoded data removed]"
          },
          "metadata": {
            "needs_background": "light"
          }
        }
      ]
    },
    {
      "cell_type": "markdown",
      "source": [
        "Economist"
      ],
      "metadata": {
        "id": "mNEgG8H_m_Mj"
      }
    },
    {
      "cell_type": "code",
      "source": [
        "model_lgb_e = lgb.LGBMRegressor(objective='regression',num_leaves=5,\n",
        "                              learning_rate=0.05, n_estimators=720,\n",
        "                              max_bin = 55, bagging_fraction = 0.8,\n",
        "                              bagging_freq = 5, feature_fraction = 0.2319,\n",
        "                              feature_fraction_seed=9, bagging_seed=9,\n",
        "                              min_data_in_leaf =6, min_sum_hessian_in_leaf = 11).fit(X_train_e,y_train_e)"
      ],
      "metadata": {
        "id": "dIIANkFJm_Mj"
      },
      "execution_count": null,
      "outputs": []
    },
    {
      "cell_type": "code",
      "source": [
        "features = {}\n",
        "for feature, importance in zip(X_train_e.columns, model_lgb_e.feature_importances_):\n",
        "    features[feature] = importance\n",
        "\n",
        "importances = pd.DataFrame({\"LGBM\":features})\n",
        "importances.sort_values(\"LGBM\", ascending = False, inplace=True)\n",
        "importances[:4].plot.bar();"
      ],
      "metadata": {
        "colab": {
          "base_uri": "https://localhost:8080/",
          "height": 317
        },
        "id": "sUqHS6fVo19d",
        "outputId": "5c3e7fcc-dd06-47b0-9ce3-bf89139f3799"
      },
      "execution_count": null,
      "outputs": [
        {
          "output_type": "display_data",
          "data": {
            "text/plain": [
              "<Figure size 432x288 with 1 Axes>"
            ],
            "image/png": "[encoded data removed]"
          },
          "metadata": {
            "needs_background": "light"
          }
        }
      ]
    },
    {
      "cell_type": "markdown",
      "source": [
        "Robotics engineer"
      ],
      "metadata": {
        "id": "mEl3p70nm_Mk"
      }
    },
    {
      "cell_type": "code",
      "source": [
        "model_lgb_re = lgb.LGBMRegressor(objective='regression',num_leaves=5,\n",
        "                              learning_rate=0.05, n_estimators=720,\n",
        "                              max_bin = 55, bagging_fraction = 0.8,\n",
        "                              bagging_freq = 5, feature_fraction = 0.2319,\n",
        "                              feature_fraction_seed=9, bagging_seed=9,\n",
        "                              min_data_in_leaf =6, min_sum_hessian_in_leaf = 11).fit(X_train_re,y_train_re)"
      ],
      "metadata": {
        "id": "x-jrqJN6m_Mk"
      },
      "execution_count": null,
      "outputs": []
    },
    {
      "cell_type": "code",
      "source": [
        "features = {}\n",
        "for feature, importance in zip(X_train_re.columns, model_lgb_re.feature_importances_):\n",
        "    features[feature] = importance\n",
        "\n",
        "importances = pd.DataFrame({\"LGBM\":features})\n",
        "importances.sort_values(\"LGBM\", ascending = False, inplace=True)\n",
        "importances[:4].plot.bar();"
      ],
      "metadata": {
        "colab": {
          "base_uri": "https://localhost:8080/",
          "height": 333
        },
        "id": "D36fUCuOo5yD",
        "outputId": "8c5bf2c3-13b8-48b9-8091-e1e977dcfcb9"
      },
      "execution_count": null,
      "outputs": [
        {
          "output_type": "display_data",
          "data": {
            "text/plain": [
              "<Figure size 432x288 with 1 Axes>"
            ],
            "image/png": "[encoded data removed]"
          },
          "metadata": {
            "needs_background": "light"
          }
        }
      ]
    },
    {
      "cell_type": "markdown",
      "source": [
        "Senior developer"
      ],
      "metadata": {
        "id": "faJZcTJem_Ml"
      }
    },
    {
      "cell_type": "code",
      "source": [
        "model_lgb_sd = lgb.LGBMRegressor(objective='regression',num_leaves=5,\n",
        "                              learning_rate=0.05, n_estimators=720,\n",
        "                              max_bin = 55, bagging_fraction = 0.8,\n",
        "                              bagging_freq = 5, feature_fraction = 0.2319,\n",
        "                              feature_fraction_seed=9, bagging_seed=9,\n",
        "                              min_data_in_leaf =6, min_sum_hessian_in_leaf = 11).fit(X_train_sd,y_train_sd)"
      ],
      "metadata": {
        "id": "DWAYMIWhm_Ml"
      },
      "execution_count": null,
      "outputs": []
    },
    {
      "cell_type": "code",
      "source": [
        "features = {}\n",
        "for feature, importance in zip(X_train_sd.columns, model_lgb_sd.feature_importances_):\n",
        "    features[feature] = importance\n",
        "\n",
        "importances = pd.DataFrame({\"LGBM\":features})\n",
        "importances.sort_values(\"LGBM\", ascending = False, inplace=True)\n",
        "importances[:4].plot.bar();"
      ],
      "metadata": {
        "colab": {
          "base_uri": "https://localhost:8080/",
          "height": 333
        },
        "id": "g54emal5o9GT",
        "outputId": "5bc362cc-8255-46dc-c22d-1f637e035189"
      },
      "execution_count": null,
      "outputs": [
        {
          "output_type": "display_data",
          "data": {
            "text/plain": [
              "<Figure size 432x288 with 1 Axes>"
            ],
            "image/png": "[encoded data removed]"
          },
          "metadata": {
            "needs_background": "light"
          }
        }
      ]
    },
    {
      "cell_type": "markdown",
      "source": [
        "Scores"
      ],
      "metadata": {
        "id": "OCxtkiTynhl6"
      }
    },
    {
      "cell_type": "code",
      "source": [
        "print(\"LGBM for Junior developer:\")\n",
        "print(\"train_score:\", model_lgb_jd.score(X_train_jd,y_train_jd))\n",
        "print(\"test_score:\", model_lgb_jd.score(X_test_jd,y_test_jd))\n",
        "print(\"train RMSE:\", np.sqrt(mean_squared_error(np.log(y_train_jd),np.log(model_lgb_jd.predict(X_train_jd)))))\n",
        "print(\"test RMSE:\", np.sqrt(mean_squared_error(np.log(y_test_jd),np.log(model_lgb_jd.predict(X_test_jd)))))\n",
        "print(\"------------------------------\")\n",
        "print(\"LGBM for Data scientist:\")\n",
        "print(\"train_score:\", model_lgb_ds.score(X_train_ds,y_train_ds))\n",
        "print(\"test_score:\", model_lgb_ds.score(X_test_ds,y_test_ds))\n",
        "print(\"train RMSE:\", np.sqrt(mean_squared_error(np.log(y_train_ds),np.log(model_lgb_ds.predict(X_train_ds)))))\n",
        "print(\"test RMSE:\", np.sqrt(mean_squared_error(np.log(y_test_ds),np.log(model_lgb_ds.predict(X_test_ds)))))\n",
        "print(\"------------------------------\")\n",
        "print(\"LGBM for Developer:\")\n",
        "print(\"train_score:\", model_lgb_d.score(X_train_d,y_train_d))\n",
        "print(\"test_score:\", model_lgb_d.score(X_test_d,y_test_d))\n",
        "print(\"train RMSE:\", np.sqrt(mean_squared_error(np.log(y_train_d),np.log(model_lgb_d.predict(X_train_d)))))\n",
        "print(\"test RMSE:\", np.sqrt(mean_squared_error(np.log(y_test_d),np.log(model_lgb_d.predict(X_test_d)))))\n",
        "print(\"------------------------------\")\n",
        "print(\"LGBM for Economist:\")\n",
        "print(\"train_score:\", model_lgb_e.score(X_train_e,y_train_e))\n",
        "print(\"test_score:\", model_lgb_e.score(X_test_e,y_test_e))\n",
        "print(\"train RMSE:\", np.sqrt(mean_squared_error(np.log(y_train_e),np.log(model_lgb_e.predict(X_train_e)))))\n",
        "print(\"test RMSE:\", np.sqrt(mean_squared_error(np.log(y_test_e),np.log(model_lgb_e.predict(X_test_e)))))\n",
        "print(\"------------------------------\")\n",
        "print(\"LGBM for Robotics engineer:\")\n",
        "print(\"train_score:\", model_lgb_re.score(X_train_re,y_train_re))\n",
        "print(\"test_score:\", model_lgb_re.score(X_test_re,y_test_re))\n",
        "print(\"train RMSE:\", np.sqrt(mean_squared_error(np.log(y_train_re),np.log(model_lgb_re.predict(X_train_re)))))\n",
        "print(\"test RMSE:\", np.sqrt(mean_squared_error(np.log(y_test_re),np.log(model_lgb_re.predict(X_test_re)))))\n",
        "print(\"------------------------------\")\n",
        "print(\"LGBM for Senior developer:\")\n",
        "print(\"train_score:\", model_lgb_sd.score(X_train_sd,y_train_sd))\n",
        "print(\"test_score:\", model_lgb_sd.score(X_test_sd,y_test_sd))\n",
        "print(\"train RMSE:\", np.sqrt(mean_squared_error(np.log(y_train_sd),np.log(model_lgb_sd.predict(X_train_sd)))))\n",
        "print(\"test RMSE:\", np.sqrt(mean_squared_error(np.log(y_test_sd),np.log(model_lgb_sd.predict(X_test_sd)))))"
      ],
      "metadata": {
        "colab": {
          "base_uri": "https://localhost:8080/"
        },
        "id": "X7wvjx7Ani7j",
        "outputId": "532aa646-c8f7-425e-b1a4-6bf7eeb89581"
      },
      "execution_count": null,
      "outputs": [
        {
          "output_type": "stream",
          "name": "stdout",
          "text": [
            "LGBM for Junior developer:\n",
            "train_score: 0.7418356078295038\n",
            "test_score: 0.6774571437284005\n",
            "train RMSE: 0.07956656731774525\n",
            "test RMSE: 0.08725310905280764\n",
            "------------------------------\n",
            "LGBM for Data scientist:\n",
            "train_score: 0.7355296956472326\n",
            "test_score: 0.6759310499766785\n",
            "train RMSE: 0.07884859823454103\n",
            "test RMSE: 0.08855884949891255\n",
            "------------------------------\n",
            "LGBM for Developer:\n",
            "train_score: 0.7851097325174388\n",
            "test_score: 0.7212462885322393\n",
            "train RMSE: 0.07747870780757157\n",
            "test RMSE: 0.08916470294875058\n",
            "------------------------------\n",
            "LGBM for Economist:\n",
            "train_score: 0.5949848545115327\n",
            "test_score: 0.5209560777996503\n",
            "train RMSE: 0.08756387812700345\n",
            "test RMSE: 0.09346363927047996\n",
            "------------------------------\n",
            "LGBM for Robotics engineer:\n",
            "train_score: 0.609695395373608\n",
            "test_score: 0.5313101519090976\n",
            "train RMSE: 0.08592139662760838\n",
            "test RMSE: 0.09700845529698941\n",
            "------------------------------\n",
            "LGBM for Senior developer:\n",
            "train_score: 0.6228526839660934\n",
            "test_score: 0.5528247667800106\n",
            "train RMSE: 0.08397461366998198\n",
            "test RMSE: 0.0918088193863015\n"
          ]
        }
      ]
    },
    {
      "cell_type": "markdown",
      "source": [
        "## **KRR model**"
      ],
      "metadata": {
        "id": "DB-RNB_8pEOD"
      }
    },
    {
      "cell_type": "markdown",
      "source": [
        "Junior developer"
      ],
      "metadata": {
        "id": "JL4EigDupT4P"
      }
    },
    {
      "cell_type": "code",
      "source": [
        "KRR_model_jd = KernelRidge(alpha=0.1, coef0=2.5, degree=2, kernel='polynomial').fit(X_train_jd,y_train_jd)"
      ],
      "metadata": {
        "id": "GxH_9pm6pT4P"
      },
      "execution_count": null,
      "outputs": []
    },
    {
      "cell_type": "markdown",
      "source": [
        "Data scientist"
      ],
      "metadata": {
        "id": "JuqQnl5gpT4Q"
      }
    },
    {
      "cell_type": "code",
      "source": [
        "KRR_model_ds = KernelRidge(alpha=0.1, coef0=2.5, degree=2, kernel='polynomial').fit(X_train_ds,y_train_ds)"
      ],
      "metadata": {
        "id": "oQI7mZPYpT4Q"
      },
      "execution_count": null,
      "outputs": []
    },
    {
      "cell_type": "markdown",
      "source": [
        "Developer"
      ],
      "metadata": {
        "id": "p_AcuioLpT4Q"
      }
    },
    {
      "cell_type": "code",
      "source": [
        "KRR_model_d = KernelRidge(alpha=0.1, coef0=2.5, degree=2, kernel='polynomial').fit(X_train_d,y_train_d)"
      ],
      "metadata": {
        "id": "KI-k0B8rpT4Q"
      },
      "execution_count": null,
      "outputs": []
    },
    {
      "cell_type": "markdown",
      "source": [
        "Economist"
      ],
      "metadata": {
        "id": "lxATlGVlpT4Q"
      }
    },
    {
      "cell_type": "code",
      "source": [
        "KRR_model_e = KernelRidge(alpha=0.1, coef0=2.5, degree=2, kernel='polynomial').fit(X_train_e,y_train_e)"
      ],
      "metadata": {
        "id": "dkxZiGG1pT4R"
      },
      "execution_count": null,
      "outputs": []
    },
    {
      "cell_type": "markdown",
      "source": [
        "Robotics engineer"
      ],
      "metadata": {
        "id": "P6Yf-rOgpT4R"
      }
    },
    {
      "cell_type": "code",
      "source": [
        "KRR_model_re = KernelRidge(alpha=0.1, coef0=2.5, degree=2, kernel='polynomial').fit(X_train_re,y_train_re)"
      ],
      "metadata": {
        "id": "jOP5QHKLpT4R"
      },
      "execution_count": null,
      "outputs": []
    },
    {
      "cell_type": "markdown",
      "source": [
        "Senior developer"
      ],
      "metadata": {
        "id": "FxFuBQI-pT4R"
      }
    },
    {
      "cell_type": "code",
      "source": [
        "KRR_model_sd = KernelRidge(alpha=0.1, coef0=2.5, degree=2, kernel='polynomial').fit(X_train_sd,y_train_sd)"
      ],
      "metadata": {
        "id": "YCUQeuHFpT4R"
      },
      "execution_count": null,
      "outputs": []
    },
    {
      "cell_type": "markdown",
      "source": [
        "Scores"
      ],
      "metadata": {
        "id": "fqDCcJkwr3Yj"
      }
    },
    {
      "cell_type": "code",
      "source": [
        "print(\"KRR for Junior developer:\")\n",
        "print(\"train_score:\", KRR_model_jd.score(X_train_jd,y_train_jd))\n",
        "print(\"test_score:\", KRR_model_jd.score(X_test_jd,y_test_jd))\n",
        "print(\"train RMSE:\", np.sqrt(mean_squared_error(np.log(y_train_jd),np.log(KRR_model_jd.predict(X_train_jd)))))\n",
        "print(\"test RMSE:\", np.sqrt(mean_squared_error(np.log(y_test_jd),np.log(KRR_model_jd.predict(X_test_jd)))))\n",
        "print(\"------------------------------\")\n",
        "print(\"KRR for Data scientist:\")\n",
        "print(\"train_score:\", KRR_model_ds.score(X_train_ds,y_train_ds))\n",
        "print(\"test_score:\", KRR_model_ds.score(X_test_ds,y_test_ds))\n",
        "print(\"train RMSE:\", np.sqrt(mean_squared_error(np.log(y_train_ds),np.log(KRR_model_ds.predict(X_train_ds)))))\n",
        "print(\"test RMSE:\", np.sqrt(mean_squared_error(np.log(y_test_ds),np.log(KRR_model_ds.predict(X_test_ds)))))\n",
        "print(\"------------------------------\")\n",
        "print(\"KRR for Developer:\")\n",
        "print(\"train_score:\", KRR_model_d.score(X_train_d,y_train_d))\n",
        "print(\"test_score:\", KRR_model_d.score(X_test_d,y_test_d))\n",
        "print(\"train RMSE:\", np.sqrt(mean_squared_error(np.log(y_train_d),np.log(KRR_model_d.predict(X_train_d)))))\n",
        "print(\"test RMSE:\", np.sqrt(mean_squared_error(np.log(y_test_d),np.log(KRR_model_d.predict(X_test_d)))))\n",
        "print(\"------------------------------\")\n",
        "print(\"KRR for Economist:\")\n",
        "print(\"train_score:\", KRR_model_e.score(X_train_e,y_train_e))\n",
        "print(\"test_score:\", KRR_model_e.score(X_test_e,y_test_e))\n",
        "print(\"train RMSE:\", np.sqrt(mean_squared_error(np.log(y_train_e),np.log(KRR_model_e.predict(X_train_e)))))\n",
        "print(\"test RMSE:\", np.sqrt(mean_squared_error(np.log(y_test_e),np.log(KRR_model_e.predict(X_test_e)))))\n",
        "print(\"------------------------------\")\n",
        "print(\"KRR for Robotics engineer:\")\n",
        "print(\"train_score:\", KRR_model_re.score(X_train_re,y_train_re))\n",
        "print(\"test_score:\", KRR_model_re.score(X_test_re,y_test_re))\n",
        "print(\"train RMSE:\", np.sqrt(mean_squared_error(np.log(y_train_re),np.log(KRR_model_re.predict(X_train_re)))))\n",
        "print(\"test RMSE:\", np.sqrt(mean_squared_error(np.log(y_test_re),np.log(KRR_model_re.predict(X_test_re)))))\n",
        "print(\"------------------------------\")\n",
        "print(\"KRR for Senior developer:\")\n",
        "print(\"train_score:\", KRR_model_sd.score(X_train_sd,y_train_sd))\n",
        "print(\"test_score:\", KRR_model_sd.score(X_test_sd,y_test_sd))\n",
        "print(\"train RMSE:\", np.sqrt(mean_squared_error(np.log(y_train_sd),np.log(KRR_model_sd.predict(X_train_sd)))))\n",
        "print(\"test RMSE:\", np.sqrt(mean_squared_error(np.log(y_test_sd),np.log(KRR_model_sd.predict(X_test_sd)))))"
      ],
      "metadata": {
        "colab": {
          "base_uri": "https://localhost:8080/"
        },
        "id": "lAcmX3zGr2sb",
        "outputId": "02c16257-7052-49c2-c302-b8452637178a"
      },
      "execution_count": null,
      "outputs": [
        {
          "output_type": "stream",
          "name": "stdout",
          "text": [
            "KRR for Junior developer:\n",
            "train_score: 0.7065540574347039\n",
            "test_score: 0.698072043827596\n",
            "train RMSE: 0.08482734767741124\n",
            "test RMSE: 0.08461209868992124\n",
            "------------------------------\n",
            "KRR for Data scientist:\n",
            "train_score: 0.6972849784719244\n",
            "test_score: 0.7037265159060297\n",
            "train RMSE: 0.08383469437829406\n",
            "test RMSE: 0.0842924604534169\n",
            "------------------------------\n",
            "KRR for Developer:\n",
            "train_score: 0.7553087740109377\n",
            "test_score: 0.7535891402430372\n",
            "train RMSE: 0.0823028466543137\n",
            "test RMSE: 0.08379213350509994\n",
            "------------------------------\n",
            "KRR for Economist:\n",
            "train_score: 0.5637363568355916\n",
            "test_score: 0.5483668167809952\n",
            "train RMSE: 0.09068649135912418\n",
            "test RMSE: 0.09076877073284555\n",
            "------------------------------\n",
            "KRR for Robotics engineer:\n",
            "train_score: 0.5731319124668693\n",
            "test_score: 0.5701142751013185\n",
            "train RMSE: 0.08970940124386007\n",
            "test RMSE: 0.09285496254469383\n",
            "------------------------------\n",
            "KRR for Senior developer:\n",
            "train_score: 0.5724520938344408\n",
            "test_score: 0.6088018533949676\n",
            "train RMSE: 0.08909906273317245\n",
            "test RMSE: 0.08650302721353537\n"
          ]
        }
      ]
    },
    {
      "cell_type": "markdown",
      "source": [
        "# ***DataFrame for predict***"
      ],
      "metadata": {
        "id": "xDOaRxEyn4NV"
      }
    },
    {
      "cell_type": "code",
      "source": [
        "predict = predict.join(pd.get_dummies(predict['job']))\n",
        "predict = predict.drop('job',axis = 1)"
      ],
      "metadata": {
        "id": "GNV_rrkZpSzD"
      },
      "execution_count": null,
      "outputs": []
    },
    {
      "cell_type": "code",
      "source": [
        "predict.head()"
      ],
      "metadata": {
        "colab": {
          "base_uri": "https://localhost:8080/",
          "height": 206
        },
        "id": "vqMWBj0ZpWRB",
        "outputId": "1fb517d2-7472-4ab2-80ba-ee12edf3d480"
      },
      "execution_count": null,
      "outputs": [
        {
          "output_type": "execute_result",
          "data": {
            "text/plain": [
              "     Id  algebra  programming  data science  robotics  economics  salary  \\\n",
              "0  9000       73           59            57        54         61       0   \n",
              "1  9001       77           80            53        93         80       0   \n",
              "2  9002       95           72            88        63         84       0   \n",
              "3  9003       83           88            97        75         50       0   \n",
              "4  9004       52           85            92        87         62       0   \n",
              "\n",
              "   data scientist  developer  economist  junior developer  robotics engineer  \\\n",
              "0               0          0          0                 0                  1   \n",
              "1               0          0          0                 0                  0   \n",
              "2               0          1          0                 0                  0   \n",
              "3               0          0          0                 0                  1   \n",
              "4               0          0          0                 1                  0   \n",
              "\n",
              "   senior developer  \n",
              "0                 0  \n",
              "1                 1  \n",
              "2                 0  \n",
              "3                 0  \n",
              "4                 0  "
            ],
            "text/html": [
              "\n",
              "  <div id=\"df-9c47c332-e075-455c-9c70-e50d794bc344\">\n",
              "    <div class=\"colab-df-container\">\n",
              "      <div>\n",
              "<style scoped>\n",
              "    .dataframe tbody tr th:only-of-type {\n",
              "        vertical-align: middle;\n",
              "    }\n",
              "\n",
              "    .dataframe tbody tr th {\n",
              "        vertical-align: top;\n",
              "    }\n",
              "\n",
              "    .dataframe thead th {\n",
              "        text-align: right;\n",
              "    }\n",
              "</style>\n",
              "<table border=\"1\" class=\"dataframe\">\n",
              "  <thead>\n",
              "    <tr style=\"text-align: right;\">\n",
              "      <th></th>\n",
              "      <th>Id</th>\n",
              "      <th>algebra</th>\n",
              "      <th>programming</th>\n",
              "      <th>data science</th>\n",
              "      <th>robotics</th>\n",
              "      <th>economics</th>\n",
              "      <th>salary</th>\n",
              "      <th>data scientist</th>\n",
              "      <th>developer</th>\n",
              "      <th>economist</th>\n",
              "      <th>junior developer</th>\n",
              "      <th>robotics engineer</th>\n",
              "      <th>senior developer</th>\n",
              "    </tr>\n",
              "  </thead>\n",
              "  <tbody>\n",
              "    <tr>\n",
              "      <th>0</th>\n",
              "      <td>9000</td>\n",
              "      <td>73</td>\n",
              "      <td>59</td>\n",
              "      <td>57</td>\n",
              "      <td>54</td>\n",
              "      <td>61</td>\n",
              "      <td>0</td>\n",
              "      <td>0</td>\n",
              "      <td>0</td>\n",
              "      <td>0</td>\n",
              "      <td>0</td>\n",
              "      <td>1</td>\n",
              "      <td>0</td>\n",
              "    </tr>\n",
              "    <tr>\n",
              "      <th>1</th>\n",
              "      <td>9001</td>\n",
              "      <td>77</td>\n",
              "      <td>80</td>\n",
              "      <td>53</td>\n",
              "      <td>93</td>\n",
              "      <td>80</td>\n",
              "      <td>0</td>\n",
              "      <td>0</td>\n",
              "      <td>0</td>\n",
              "      <td>0</td>\n",
              "      <td>0</td>\n",
              "      <td>0</td>\n",
              "      <td>1</td>\n",
              "    </tr>\n",
              "    <tr>\n",
              "      <th>2</th>\n",
              "      <td>9002</td>\n",
              "      <td>95</td>\n",
              "      <td>72</td>\n",
              "      <td>88</td>\n",
              "      <td>63</td>\n",
              "      <td>84</td>\n",
              "      <td>0</td>\n",
              "      <td>0</td>\n",
              "      <td>1</td>\n",
              "      <td>0</td>\n",
              "      <td>0</td>\n",
              "      <td>0</td>\n",
              "      <td>0</td>\n",
              "    </tr>\n",
              "    <tr>\n",
              "      <th>3</th>\n",
              "      <td>9003</td>\n",
              "      <td>83</td>\n",
              "      <td>88</td>\n",
              "      <td>97</td>\n",
              "      <td>75</td>\n",
              "      <td>50</td>\n",
              "      <td>0</td>\n",
              "      <td>0</td>\n",
              "      <td>0</td>\n",
              "      <td>0</td>\n",
              "      <td>0</td>\n",
              "      <td>1</td>\n",
              "      <td>0</td>\n",
              "    </tr>\n",
              "    <tr>\n",
              "      <th>4</th>\n",
              "      <td>9004</td>\n",
              "      <td>52</td>\n",
              "      <td>85</td>\n",
              "      <td>92</td>\n",
              "      <td>87</td>\n",
              "      <td>62</td>\n",
              "      <td>0</td>\n",
              "      <td>0</td>\n",
              "      <td>0</td>\n",
              "      <td>0</td>\n",
              "      <td>1</td>\n",
              "      <td>0</td>\n",
              "      <td>0</td>\n",
              "    </tr>\n",
              "  </tbody>\n",
              "</table>\n",
              "</div>\n",
              "      <button class=\"colab-df-convert\" onclick=\"convertToInteractive('df-9c47c332-e075-455c-9c70-e50d794bc344')\"\n",
              "              title=\"Convert this dataframe to an interactive table.\"\n",
              "              style=\"display:none;\">\n",
              "        \n",
              "  <svg xmlns=\"http://www.w3.org/2000/svg\" height=\"24px\"viewBox=\"0 0 24 24\"\n",
              "       width=\"24px\">\n",
              "    <path d=\"M0 0h24v24H0V0z\" fill=\"none\"/>\n",
              "    <path d=\"M18.56 5.44l.94 2.06.94-2.06 2.06-.94-2.06-.94-.94-2.06-.94 2.06-2.06.94zm-11 1L8.5 8.5l.94-2.06 2.06-.94-2.06-.94L8.5 2.5l-.94 2.06-2.06.94zm10 10l.94 2.06.94-2.06 2.06-.94-2.06-.94-.94-2.06-.94 2.06-2.06.94z\"/><path d=\"M17.41 7.96l-1.37-1.37c-.4-.4-.92-.59-1.43-.59-.52 0-1.04.2-1.43.59L10.3 9.45l-7.72 7.72c-.78.78-.78 2.05 0 2.83L4 21.41c.39.39.9.59 1.41.59.51 0 1.02-.2 1.41-.59l7.78-7.78 2.81-2.81c.8-.78.8-2.07 0-2.86zM5.41 20L4 18.59l7.72-7.72 1.47 1.35L5.41 20z\"/>\n",
              "  </svg>\n",
              "      </button>\n",
              "      \n",
              "  <style>\n",
              "    .colab-df-container {\n",
              "      display:flex;\n",
              "      flex-wrap:wrap;\n",
              "      gap: 12px;\n",
              "    }\n",
              "\n",
              "    .colab-df-convert {\n",
              "      background-color: #E8F0FE;\n",
              "      border: none;\n",
              "      border-radius: 50%;\n",
              "      cursor: pointer;\n",
              "      display: none;\n",
              "      fill: #1967D2;\n",
              "      height: 32px;\n",
              "      padding: 0 0 0 0;\n",
              "      width: 32px;\n",
              "    }\n",
              "\n",
              "    .colab-df-convert:hover {\n",
              "      background-color: #E2EBFA;\n",
              "      box-shadow: 0px 1px 2px rgba(60, 64, 67, 0.3), 0px 1px 3px 1px rgba(60, 64, 67, 0.15);\n",
              "      fill: #174EA6;\n",
              "    }\n",
              "\n",
              "    [theme=dark] .colab-df-convert {\n",
              "      background-color: #3B4455;\n",
              "      fill: #D2E3FC;\n",
              "    }\n",
              "\n",
              "    [theme=dark] .colab-df-convert:hover {\n",
              "      background-color: #434B5C;\n",
              "      box-shadow: 0px 1px 3px 1px rgba(0, 0, 0, 0.15);\n",
              "      filter: drop-shadow(0px 1px 2px rgba(0, 0, 0, 0.3));\n",
              "      fill: #FFFFFF;\n",
              "    }\n",
              "  </style>\n",
              "\n",
              "      <script>\n",
              "        const buttonEl =\n",
              "          document.querySelector('#df-9c47c332-e075-455c-9c70-e50d794bc344 button.colab-df-convert');\n",
              "        buttonEl.style.display =\n",
              "          google.colab.kernel.accessAllowed ? 'block' : 'none';\n",
              "\n",
              "        async function convertToInteractive(key) {\n",
              "          const element = document.querySelector('#df-9c47c332-e075-455c-9c70-e50d794bc344');\n",
              "          const dataTable =\n",
              "            await google.colab.kernel.invokeFunction('convertToInteractive',\n",
              "                                                     [key], {});\n",
              "          if (!dataTable) return;\n",
              "\n",
              "          const docLinkHtml = 'Like what you see? Visit the ' +\n",
              "            '<a target=\"_blank\" href=https://colab.research.google.com/notebooks/data_table.ipynb>data table notebook</a>'\n",
              "            + ' to learn more about interactive tables.';\n",
              "          element.innerHTML = '';\n",
              "          dataTable['output_type'] = 'display_data';\n",
              "          await google.colab.output.renderOutput(dataTable, element);\n",
              "          const docLink = document.createElement('div');\n",
              "          docLink.innerHTML = docLinkHtml;\n",
              "          element.appendChild(docLink);\n",
              "        }\n",
              "      </script>\n",
              "    </div>\n",
              "  </div>\n",
              "  "
            ]
          },
          "metadata": {},
          "execution_count": 74
        }
      ]
    },
    {
      "cell_type": "code",
      "source": [
        "predict_jd = predict[predict['junior developer'] == 1]\n",
        "Ids_jd = predict_jd.Id.to_list()\n",
        "predict_jd = predict_jd.drop(['economics', 'robotics','data scientist','developer','economist','robotics engineer','senior developer','Id','salary','junior developer'], axis=1)"
      ],
      "metadata": {
        "id": "nOdbnWNYnFgD"
      },
      "execution_count": null,
      "outputs": []
    },
    {
      "cell_type": "code",
      "source": [
        "predict_jd.head()"
      ],
      "metadata": {
        "colab": {
          "base_uri": "https://localhost:8080/",
          "height": 206
        },
        "id": "enjx7zilnFYB",
        "outputId": "1715026d-e9fe-4b1d-ec65-8e5d23aed67f"
      },
      "execution_count": null,
      "outputs": [
        {
          "output_type": "execute_result",
          "data": {
            "text/plain": [
              "    algebra  programming  data science\n",
              "4        52           85            92\n",
              "6        56           50            76\n",
              "7        93           51            56\n",
              "10       56           90            93\n",
              "16       68           77            87"
            ],
            "text/html": [
              "\n",
              "  <div id=\"df-42890435-fcb2-454b-876f-117c97afecc8\">\n",
              "    <div class=\"colab-df-container\">\n",
              "      <div>\n",
              "<style scoped>\n",
              "    .dataframe tbody tr th:only-of-type {\n",
              "        vertical-align: middle;\n",
              "    }\n",
              "\n",
              "    .dataframe tbody tr th {\n",
              "        vertical-align: top;\n",
              "    }\n",
              "\n",
              "    .dataframe thead th {\n",
              "        text-align: right;\n",
              "    }\n",
              "</style>\n",
              "<table border=\"1\" class=\"dataframe\">\n",
              "  <thead>\n",
              "    <tr style=\"text-align: right;\">\n",
              "      <th></th>\n",
              "      <th>algebra</th>\n",
              "      <th>programming</th>\n",
              "      <th>data science</th>\n",
              "    </tr>\n",
              "  </thead>\n",
              "  <tbody>\n",
              "    <tr>\n",
              "      <th>4</th>\n",
              "      <td>52</td>\n",
              "      <td>85</td>\n",
              "      <td>92</td>\n",
              "    </tr>\n",
              "    <tr>\n",
              "      <th>6</th>\n",
              "      <td>56</td>\n",
              "      <td>50</td>\n",
              "      <td>76</td>\n",
              "    </tr>\n",
              "    <tr>\n",
              "      <th>7</th>\n",
              "      <td>93</td>\n",
              "      <td>51</td>\n",
              "      <td>56</td>\n",
              "    </tr>\n",
              "    <tr>\n",
              "      <th>10</th>\n",
              "      <td>56</td>\n",
              "      <td>90</td>\n",
              "      <td>93</td>\n",
              "    </tr>\n",
              "    <tr>\n",
              "      <th>16</th>\n",
              "      <td>68</td>\n",
              "      <td>77</td>\n",
              "      <td>87</td>\n",
              "    </tr>\n",
              "  </tbody>\n",
              "</table>\n",
              "</div>\n",
              "      <button class=\"colab-df-convert\" onclick=\"convertToInteractive('df-42890435-fcb2-454b-876f-117c97afecc8')\"\n",
              "              title=\"Convert this dataframe to an interactive table.\"\n",
              "              style=\"display:none;\">\n",
              "        \n",
              "  <svg xmlns=\"http://www.w3.org/2000/svg\" height=\"24px\"viewBox=\"0 0 24 24\"\n",
              "       width=\"24px\">\n",
              "    <path d=\"M0 0h24v24H0V0z\" fill=\"none\"/>\n",
              "    <path d=\"M18.56 5.44l.94 2.06.94-2.06 2.06-.94-2.06-.94-.94-2.06-.94 2.06-2.06.94zm-11 1L8.5 8.5l.94-2.06 2.06-.94-2.06-.94L8.5 2.5l-.94 2.06-2.06.94zm10 10l.94 2.06.94-2.06 2.06-.94-2.06-.94-.94-2.06-.94 2.06-2.06.94z\"/><path d=\"M17.41 7.96l-1.37-1.37c-.4-.4-.92-.59-1.43-.59-.52 0-1.04.2-1.43.59L10.3 9.45l-7.72 7.72c-.78.78-.78 2.05 0 2.83L4 21.41c.39.39.9.59 1.41.59.51 0 1.02-.2 1.41-.59l7.78-7.78 2.81-2.81c.8-.78.8-2.07 0-2.86zM5.41 20L4 18.59l7.72-7.72 1.47 1.35L5.41 20z\"/>\n",
              "  </svg>\n",
              "      </button>\n",
              "      \n",
              "  <style>\n",
              "    .colab-df-container {\n",
              "      display:flex;\n",
              "      flex-wrap:wrap;\n",
              "      gap: 12px;\n",
              "    }\n",
              "\n",
              "    .colab-df-convert {\n",
              "      background-color: #E8F0FE;\n",
              "      border: none;\n",
              "      border-radius: 50%;\n",
              "      cursor: pointer;\n",
              "      display: none;\n",
              "      fill: #1967D2;\n",
              "      height: 32px;\n",
              "      padding: 0 0 0 0;\n",
              "      width: 32px;\n",
              "    }\n",
              "\n",
              "    .colab-df-convert:hover {\n",
              "      background-color: #E2EBFA;\n",
              "      box-shadow: 0px 1px 2px rgba(60, 64, 67, 0.3), 0px 1px 3px 1px rgba(60, 64, 67, 0.15);\n",
              "      fill: #174EA6;\n",
              "    }\n",
              "\n",
              "    [theme=dark] .colab-df-convert {\n",
              "      background-color: #3B4455;\n",
              "      fill: #D2E3FC;\n",
              "    }\n",
              "\n",
              "    [theme=dark] .colab-df-convert:hover {\n",
              "      background-color: #434B5C;\n",
              "      box-shadow: 0px 1px 3px 1px rgba(0, 0, 0, 0.15);\n",
              "      filter: drop-shadow(0px 1px 2px rgba(0, 0, 0, 0.3));\n",
              "      fill: #FFFFFF;\n",
              "    }\n",
              "  </style>\n",
              "\n",
              "      <script>\n",
              "        const buttonEl =\n",
              "          document.querySelector('#df-42890435-fcb2-454b-876f-117c97afecc8 button.colab-df-convert');\n",
              "        buttonEl.style.display =\n",
              "          google.colab.kernel.accessAllowed ? 'block' : 'none';\n",
              "\n",
              "        async function convertToInteractive(key) {\n",
              "          const element = document.querySelector('#df-42890435-fcb2-454b-876f-117c97afecc8');\n",
              "          const dataTable =\n",
              "            await google.colab.kernel.invokeFunction('convertToInteractive',\n",
              "                                                     [key], {});\n",
              "          if (!dataTable) return;\n",
              "\n",
              "          const docLinkHtml = 'Like what you see? Visit the ' +\n",
              "            '<a target=\"_blank\" href=https://colab.research.google.com/notebooks/data_table.ipynb>data table notebook</a>'\n",
              "            + ' to learn more about interactive tables.';\n",
              "          element.innerHTML = '';\n",
              "          dataTable['output_type'] = 'display_data';\n",
              "          await google.colab.output.renderOutput(dataTable, element);\n",
              "          const docLink = document.createElement('div');\n",
              "          docLink.innerHTML = docLinkHtml;\n",
              "          element.appendChild(docLink);\n",
              "        }\n",
              "      </script>\n",
              "    </div>\n",
              "  </div>\n",
              "  "
            ]
          },
          "metadata": {},
          "execution_count": 76
        }
      ]
    },
    {
      "cell_type": "code",
      "source": [
        "predict_ds = predict[predict['data scientist'] == 1]\n",
        "Ids_ds = predict_ds.Id.to_list()\n",
        "predict_ds = predict_ds.drop(['economics', 'robotics','junior developer','developer','economist','robotics engineer','senior developer','Id','salary','data scientist'], axis=1)"
      ],
      "metadata": {
        "id": "f1vnQBbenFSE"
      },
      "execution_count": null,
      "outputs": []
    },
    {
      "cell_type": "code",
      "source": [
        "predict_ds.head()"
      ],
      "metadata": {
        "colab": {
          "base_uri": "https://localhost:8080/",
          "height": 206
        },
        "id": "ey765tJ8sdJz",
        "outputId": "57b25c3c-6db2-4e75-955c-b9469341aff3"
      },
      "execution_count": null,
      "outputs": [
        {
          "output_type": "execute_result",
          "data": {
            "text/plain": [
              "    algebra  programming  data science\n",
              "12       91           79            97\n",
              "21       86           68            61\n",
              "25       62           91            52\n",
              "29       82           86            69\n",
              "30       92           87            73"
            ],
            "text/html": [
              "\n",
              "  <div id=\"df-fcabd614-ffea-4999-b463-edcd2a048765\">\n",
              "    <div class=\"colab-df-container\">\n",
              "      <div>\n",
              "<style scoped>\n",
              "    .dataframe tbody tr th:only-of-type {\n",
              "        vertical-align: middle;\n",
              "    }\n",
              "\n",
              "    .dataframe tbody tr th {\n",
              "        vertical-align: top;\n",
              "    }\n",
              "\n",
              "    .dataframe thead th {\n",
              "        text-align: right;\n",
              "    }\n",
              "</style>\n",
              "<table border=\"1\" class=\"dataframe\">\n",
              "  <thead>\n",
              "    <tr style=\"text-align: right;\">\n",
              "      <th></th>\n",
              "      <th>algebra</th>\n",
              "      <th>programming</th>\n",
              "      <th>data science</th>\n",
              "    </tr>\n",
              "  </thead>\n",
              "  <tbody>\n",
              "    <tr>\n",
              "      <th>12</th>\n",
              "      <td>91</td>\n",
              "      <td>79</td>\n",
              "      <td>97</td>\n",
              "    </tr>\n",
              "    <tr>\n",
              "      <th>21</th>\n",
              "      <td>86</td>\n",
              "      <td>68</td>\n",
              "      <td>61</td>\n",
              "    </tr>\n",
              "    <tr>\n",
              "      <th>25</th>\n",
              "      <td>62</td>\n",
              "      <td>91</td>\n",
              "      <td>52</td>\n",
              "    </tr>\n",
              "    <tr>\n",
              "      <th>29</th>\n",
              "      <td>82</td>\n",
              "      <td>86</td>\n",
              "      <td>69</td>\n",
              "    </tr>\n",
              "    <tr>\n",
              "      <th>30</th>\n",
              "      <td>92</td>\n",
              "      <td>87</td>\n",
              "      <td>73</td>\n",
              "    </tr>\n",
              "  </tbody>\n",
              "</table>\n",
              "</div>\n",
              "      <button class=\"colab-df-convert\" onclick=\"convertToInteractive('df-fcabd614-ffea-4999-b463-edcd2a048765')\"\n",
              "              title=\"Convert this dataframe to an interactive table.\"\n",
              "              style=\"display:none;\">\n",
              "        \n",
              "  <svg xmlns=\"http://www.w3.org/2000/svg\" height=\"24px\"viewBox=\"0 0 24 24\"\n",
              "       width=\"24px\">\n",
              "    <path d=\"M0 0h24v24H0V0z\" fill=\"none\"/>\n",
              "    <path d=\"M18.56 5.44l.94 2.06.94-2.06 2.06-.94-2.06-.94-.94-2.06-.94 2.06-2.06.94zm-11 1L8.5 8.5l.94-2.06 2.06-.94-2.06-.94L8.5 2.5l-.94 2.06-2.06.94zm10 10l.94 2.06.94-2.06 2.06-.94-2.06-.94-.94-2.06-.94 2.06-2.06.94z\"/><path d=\"M17.41 7.96l-1.37-1.37c-.4-.4-.92-.59-1.43-.59-.52 0-1.04.2-1.43.59L10.3 9.45l-7.72 7.72c-.78.78-.78 2.05 0 2.83L4 21.41c.39.39.9.59 1.41.59.51 0 1.02-.2 1.41-.59l7.78-7.78 2.81-2.81c.8-.78.8-2.07 0-2.86zM5.41 20L4 18.59l7.72-7.72 1.47 1.35L5.41 20z\"/>\n",
              "  </svg>\n",
              "      </button>\n",
              "      \n",
              "  <style>\n",
              "    .colab-df-container {\n",
              "      display:flex;\n",
              "      flex-wrap:wrap;\n",
              "      gap: 12px;\n",
              "    }\n",
              "\n",
              "    .colab-df-convert {\n",
              "      background-color: #E8F0FE;\n",
              "      border: none;\n",
              "      border-radius: 50%;\n",
              "      cursor: pointer;\n",
              "      display: none;\n",
              "      fill: #1967D2;\n",
              "      height: 32px;\n",
              "      padding: 0 0 0 0;\n",
              "      width: 32px;\n",
              "    }\n",
              "\n",
              "    .colab-df-convert:hover {\n",
              "      background-color: #E2EBFA;\n",
              "      box-shadow: 0px 1px 2px rgba(60, 64, 67, 0.3), 0px 1px 3px 1px rgba(60, 64, 67, 0.15);\n",
              "      fill: #174EA6;\n",
              "    }\n",
              "\n",
              "    [theme=dark] .colab-df-convert {\n",
              "      background-color: #3B4455;\n",
              "      fill: #D2E3FC;\n",
              "    }\n",
              "\n",
              "    [theme=dark] .colab-df-convert:hover {\n",
              "      background-color: #434B5C;\n",
              "      box-shadow: 0px 1px 3px 1px rgba(0, 0, 0, 0.15);\n",
              "      filter: drop-shadow(0px 1px 2px rgba(0, 0, 0, 0.3));\n",
              "      fill: #FFFFFF;\n",
              "    }\n",
              "  </style>\n",
              "\n",
              "      <script>\n",
              "        const buttonEl =\n",
              "          document.querySelector('#df-fcabd614-ffea-4999-b463-edcd2a048765 button.colab-df-convert');\n",
              "        buttonEl.style.display =\n",
              "          google.colab.kernel.accessAllowed ? 'block' : 'none';\n",
              "\n",
              "        async function convertToInteractive(key) {\n",
              "          const element = document.querySelector('#df-fcabd614-ffea-4999-b463-edcd2a048765');\n",
              "          const dataTable =\n",
              "            await google.colab.kernel.invokeFunction('convertToInteractive',\n",
              "                                                     [key], {});\n",
              "          if (!dataTable) return;\n",
              "\n",
              "          const docLinkHtml = 'Like what you see? Visit the ' +\n",
              "            '<a target=\"_blank\" href=https://colab.research.google.com/notebooks/data_table.ipynb>data table notebook</a>'\n",
              "            + ' to learn more about interactive tables.';\n",
              "          element.innerHTML = '';\n",
              "          dataTable['output_type'] = 'display_data';\n",
              "          await google.colab.output.renderOutput(dataTable, element);\n",
              "          const docLink = document.createElement('div');\n",
              "          docLink.innerHTML = docLinkHtml;\n",
              "          element.appendChild(docLink);\n",
              "        }\n",
              "      </script>\n",
              "    </div>\n",
              "  </div>\n",
              "  "
            ]
          },
          "metadata": {},
          "execution_count": 78
        }
      ]
    },
    {
      "cell_type": "code",
      "source": [
        "predict_d = predict[predict['developer'] == 1]\n",
        "Ids_d = predict_d.Id.to_list()\n",
        "predict_d = predict_d.drop(['economics', 'robotics','junior developer','data scientist','economist','robotics engineer','senior developer','Id','salary','developer'], axis=1)"
      ],
      "metadata": {
        "id": "kjrPkpltnFKM"
      },
      "execution_count": null,
      "outputs": []
    },
    {
      "cell_type": "code",
      "source": [
        "predict_d.head()"
      ],
      "metadata": {
        "colab": {
          "base_uri": "https://localhost:8080/",
          "height": 206
        },
        "id": "XracmUkUsmCi",
        "outputId": "8cb25f78-12a3-49e6-8ace-0bf08081aab7"
      },
      "execution_count": null,
      "outputs": [
        {
          "output_type": "execute_result",
          "data": {
            "text/plain": [
              "    algebra  programming  data science\n",
              "2        95           72            88\n",
              "18       81           98            99\n",
              "20       96           73            73\n",
              "35       53           73            57\n",
              "37       79           88            78"
            ],
            "text/html": [
              "\n",
              "  <div id=\"df-34c7e58a-6448-4871-a9c4-3e0fbce61dea\">\n",
              "    <div class=\"colab-df-container\">\n",
              "      <div>\n",
              "<style scoped>\n",
              "    .dataframe tbody tr th:only-of-type {\n",
              "        vertical-align: middle;\n",
              "    }\n",
              "\n",
              "    .dataframe tbody tr th {\n",
              "        vertical-align: top;\n",
              "    }\n",
              "\n",
              "    .dataframe thead th {\n",
              "        text-align: right;\n",
              "    }\n",
              "</style>\n",
              "<table border=\"1\" class=\"dataframe\">\n",
              "  <thead>\n",
              "    <tr style=\"text-align: right;\">\n",
              "      <th></th>\n",
              "      <th>algebra</th>\n",
              "      <th>programming</th>\n",
              "      <th>data science</th>\n",
              "    </tr>\n",
              "  </thead>\n",
              "  <tbody>\n",
              "    <tr>\n",
              "      <th>2</th>\n",
              "      <td>95</td>\n",
              "      <td>72</td>\n",
              "      <td>88</td>\n",
              "    </tr>\n",
              "    <tr>\n",
              "      <th>18</th>\n",
              "      <td>81</td>\n",
              "      <td>98</td>\n",
              "      <td>99</td>\n",
              "    </tr>\n",
              "    <tr>\n",
              "      <th>20</th>\n",
              "      <td>96</td>\n",
              "      <td>73</td>\n",
              "      <td>73</td>\n",
              "    </tr>\n",
              "    <tr>\n",
              "      <th>35</th>\n",
              "      <td>53</td>\n",
              "      <td>73</td>\n",
              "      <td>57</td>\n",
              "    </tr>\n",
              "    <tr>\n",
              "      <th>37</th>\n",
              "      <td>79</td>\n",
              "      <td>88</td>\n",
              "      <td>78</td>\n",
              "    </tr>\n",
              "  </tbody>\n",
              "</table>\n",
              "</div>\n",
              "      <button class=\"colab-df-convert\" onclick=\"convertToInteractive('df-34c7e58a-6448-4871-a9c4-3e0fbce61dea')\"\n",
              "              title=\"Convert this dataframe to an interactive table.\"\n",
              "              style=\"display:none;\">\n",
              "        \n",
              "  <svg xmlns=\"http://www.w3.org/2000/svg\" height=\"24px\"viewBox=\"0 0 24 24\"\n",
              "       width=\"24px\">\n",
              "    <path d=\"M0 0h24v24H0V0z\" fill=\"none\"/>\n",
              "    <path d=\"M18.56 5.44l.94 2.06.94-2.06 2.06-.94-2.06-.94-.94-2.06-.94 2.06-2.06.94zm-11 1L8.5 8.5l.94-2.06 2.06-.94-2.06-.94L8.5 2.5l-.94 2.06-2.06.94zm10 10l.94 2.06.94-2.06 2.06-.94-2.06-.94-.94-2.06-.94 2.06-2.06.94z\"/><path d=\"M17.41 7.96l-1.37-1.37c-.4-.4-.92-.59-1.43-.59-.52 0-1.04.2-1.43.59L10.3 9.45l-7.72 7.72c-.78.78-.78 2.05 0 2.83L4 21.41c.39.39.9.59 1.41.59.51 0 1.02-.2 1.41-.59l7.78-7.78 2.81-2.81c.8-.78.8-2.07 0-2.86zM5.41 20L4 18.59l7.72-7.72 1.47 1.35L5.41 20z\"/>\n",
              "  </svg>\n",
              "      </button>\n",
              "      \n",
              "  <style>\n",
              "    .colab-df-container {\n",
              "      display:flex;\n",
              "      flex-wrap:wrap;\n",
              "      gap: 12px;\n",
              "    }\n",
              "\n",
              "    .colab-df-convert {\n",
              "      background-color: #E8F0FE;\n",
              "      border: none;\n",
              "      border-radius: 50%;\n",
              "      cursor: pointer;\n",
              "      display: none;\n",
              "      fill: #1967D2;\n",
              "      height: 32px;\n",
              "      padding: 0 0 0 0;\n",
              "      width: 32px;\n",
              "    }\n",
              "\n",
              "    .colab-df-convert:hover {\n",
              "      background-color: #E2EBFA;\n",
              "      box-shadow: 0px 1px 2px rgba(60, 64, 67, 0.3), 0px 1px 3px 1px rgba(60, 64, 67, 0.15);\n",
              "      fill: #174EA6;\n",
              "    }\n",
              "\n",
              "    [theme=dark] .colab-df-convert {\n",
              "      background-color: #3B4455;\n",
              "      fill: #D2E3FC;\n",
              "    }\n",
              "\n",
              "    [theme=dark] .colab-df-convert:hover {\n",
              "      background-color: #434B5C;\n",
              "      box-shadow: 0px 1px 3px 1px rgba(0, 0, 0, 0.15);\n",
              "      filter: drop-shadow(0px 1px 2px rgba(0, 0, 0, 0.3));\n",
              "      fill: #FFFFFF;\n",
              "    }\n",
              "  </style>\n",
              "\n",
              "      <script>\n",
              "        const buttonEl =\n",
              "          document.querySelector('#df-34c7e58a-6448-4871-a9c4-3e0fbce61dea button.colab-df-convert');\n",
              "        buttonEl.style.display =\n",
              "          google.colab.kernel.accessAllowed ? 'block' : 'none';\n",
              "\n",
              "        async function convertToInteractive(key) {\n",
              "          const element = document.querySelector('#df-34c7e58a-6448-4871-a9c4-3e0fbce61dea');\n",
              "          const dataTable =\n",
              "            await google.colab.kernel.invokeFunction('convertToInteractive',\n",
              "                                                     [key], {});\n",
              "          if (!dataTable) return;\n",
              "\n",
              "          const docLinkHtml = 'Like what you see? Visit the ' +\n",
              "            '<a target=\"_blank\" href=https://colab.research.google.com/notebooks/data_table.ipynb>data table notebook</a>'\n",
              "            + ' to learn more about interactive tables.';\n",
              "          element.innerHTML = '';\n",
              "          dataTable['output_type'] = 'display_data';\n",
              "          await google.colab.output.renderOutput(dataTable, element);\n",
              "          const docLink = document.createElement('div');\n",
              "          docLink.innerHTML = docLinkHtml;\n",
              "          element.appendChild(docLink);\n",
              "        }\n",
              "      </script>\n",
              "    </div>\n",
              "  </div>\n",
              "  "
            ]
          },
          "metadata": {},
          "execution_count": 80
        }
      ]
    },
    {
      "cell_type": "code",
      "source": [
        "predict_e = predict[predict['economist'] == 1]\n",
        "Ids_e = predict_e.Id.to_list()\n",
        "predict_e = predict_e.drop(['programming', 'data science','robotics','data scientist','developer','junior developer','robotics engineer','senior developer','Id','salary','economist'], axis=1)"
      ],
      "metadata": {
        "id": "FwocOKiCsOsj"
      },
      "execution_count": null,
      "outputs": []
    },
    {
      "cell_type": "code",
      "source": [
        "predict_e.head()"
      ],
      "metadata": {
        "colab": {
          "base_uri": "https://localhost:8080/",
          "height": 206
        },
        "id": "mY7RM1VrspgN",
        "outputId": "153e27ec-5f0e-49ff-c702-47a3eaeb00ba"
      },
      "execution_count": null,
      "outputs": [
        {
          "output_type": "execute_result",
          "data": {
            "text/plain": [
              "    algebra  economics\n",
              "8        79         66\n",
              "17       78         84\n",
              "22       74         88\n",
              "34       69         57\n",
              "38       59         96"
            ],
            "text/html": [
              "\n",
              "  <div id=\"df-d7162fa7-2612-46a6-8664-f13bec749044\">\n",
              "    <div class=\"colab-df-container\">\n",
              "      <div>\n",
              "<style scoped>\n",
              "    .dataframe tbody tr th:only-of-type {\n",
              "        vertical-align: middle;\n",
              "    }\n",
              "\n",
              "    .dataframe tbody tr th {\n",
              "        vertical-align: top;\n",
              "    }\n",
              "\n",
              "    .dataframe thead th {\n",
              "        text-align: right;\n",
              "    }\n",
              "</style>\n",
              "<table border=\"1\" class=\"dataframe\">\n",
              "  <thead>\n",
              "    <tr style=\"text-align: right;\">\n",
              "      <th></th>\n",
              "      <th>algebra</th>\n",
              "      <th>economics</th>\n",
              "    </tr>\n",
              "  </thead>\n",
              "  <tbody>\n",
              "    <tr>\n",
              "      <th>8</th>\n",
              "      <td>79</td>\n",
              "      <td>66</td>\n",
              "    </tr>\n",
              "    <tr>\n",
              "      <th>17</th>\n",
              "      <td>78</td>\n",
              "      <td>84</td>\n",
              "    </tr>\n",
              "    <tr>\n",
              "      <th>22</th>\n",
              "      <td>74</td>\n",
              "      <td>88</td>\n",
              "    </tr>\n",
              "    <tr>\n",
              "      <th>34</th>\n",
              "      <td>69</td>\n",
              "      <td>57</td>\n",
              "    </tr>\n",
              "    <tr>\n",
              "      <th>38</th>\n",
              "      <td>59</td>\n",
              "      <td>96</td>\n",
              "    </tr>\n",
              "  </tbody>\n",
              "</table>\n",
              "</div>\n",
              "      <button class=\"colab-df-convert\" onclick=\"convertToInteractive('df-d7162fa7-2612-46a6-8664-f13bec749044')\"\n",
              "              title=\"Convert this dataframe to an interactive table.\"\n",
              "              style=\"display:none;\">\n",
              "        \n",
              "  <svg xmlns=\"http://www.w3.org/2000/svg\" height=\"24px\"viewBox=\"0 0 24 24\"\n",
              "       width=\"24px\">\n",
              "    <path d=\"M0 0h24v24H0V0z\" fill=\"none\"/>\n",
              "    <path d=\"M18.56 5.44l.94 2.06.94-2.06 2.06-.94-2.06-.94-.94-2.06-.94 2.06-2.06.94zm-11 1L8.5 8.5l.94-2.06 2.06-.94-2.06-.94L8.5 2.5l-.94 2.06-2.06.94zm10 10l.94 2.06.94-2.06 2.06-.94-2.06-.94-.94-2.06-.94 2.06-2.06.94z\"/><path d=\"M17.41 7.96l-1.37-1.37c-.4-.4-.92-.59-1.43-.59-.52 0-1.04.2-1.43.59L10.3 9.45l-7.72 7.72c-.78.78-.78 2.05 0 2.83L4 21.41c.39.39.9.59 1.41.59.51 0 1.02-.2 1.41-.59l7.78-7.78 2.81-2.81c.8-.78.8-2.07 0-2.86zM5.41 20L4 18.59l7.72-7.72 1.47 1.35L5.41 20z\"/>\n",
              "  </svg>\n",
              "      </button>\n",
              "      \n",
              "  <style>\n",
              "    .colab-df-container {\n",
              "      display:flex;\n",
              "      flex-wrap:wrap;\n",
              "      gap: 12px;\n",
              "    }\n",
              "\n",
              "    .colab-df-convert {\n",
              "      background-color: #E8F0FE;\n",
              "      border: none;\n",
              "      border-radius: 50%;\n",
              "      cursor: pointer;\n",
              "      display: none;\n",
              "      fill: #1967D2;\n",
              "      height: 32px;\n",
              "      padding: 0 0 0 0;\n",
              "      width: 32px;\n",
              "    }\n",
              "\n",
              "    .colab-df-convert:hover {\n",
              "      background-color: #E2EBFA;\n",
              "      box-shadow: 0px 1px 2px rgba(60, 64, 67, 0.3), 0px 1px 3px 1px rgba(60, 64, 67, 0.15);\n",
              "      fill: #174EA6;\n",
              "    }\n",
              "\n",
              "    [theme=dark] .colab-df-convert {\n",
              "      background-color: #3B4455;\n",
              "      fill: #D2E3FC;\n",
              "    }\n",
              "\n",
              "    [theme=dark] .colab-df-convert:hover {\n",
              "      background-color: #434B5C;\n",
              "      box-shadow: 0px 1px 3px 1px rgba(0, 0, 0, 0.15);\n",
              "      filter: drop-shadow(0px 1px 2px rgba(0, 0, 0, 0.3));\n",
              "      fill: #FFFFFF;\n",
              "    }\n",
              "  </style>\n",
              "\n",
              "      <script>\n",
              "        const buttonEl =\n",
              "          document.querySelector('#df-d7162fa7-2612-46a6-8664-f13bec749044 button.colab-df-convert');\n",
              "        buttonEl.style.display =\n",
              "          google.colab.kernel.accessAllowed ? 'block' : 'none';\n",
              "\n",
              "        async function convertToInteractive(key) {\n",
              "          const element = document.querySelector('#df-d7162fa7-2612-46a6-8664-f13bec749044');\n",
              "          const dataTable =\n",
              "            await google.colab.kernel.invokeFunction('convertToInteractive',\n",
              "                                                     [key], {});\n",
              "          if (!dataTable) return;\n",
              "\n",
              "          const docLinkHtml = 'Like what you see? Visit the ' +\n",
              "            '<a target=\"_blank\" href=https://colab.research.google.com/notebooks/data_table.ipynb>data table notebook</a>'\n",
              "            + ' to learn more about interactive tables.';\n",
              "          element.innerHTML = '';\n",
              "          dataTable['output_type'] = 'display_data';\n",
              "          await google.colab.output.renderOutput(dataTable, element);\n",
              "          const docLink = document.createElement('div');\n",
              "          docLink.innerHTML = docLinkHtml;\n",
              "          element.appendChild(docLink);\n",
              "        }\n",
              "      </script>\n",
              "    </div>\n",
              "  </div>\n",
              "  "
            ]
          },
          "metadata": {},
          "execution_count": 82
        }
      ]
    },
    {
      "cell_type": "code",
      "source": [
        "predict_re = predict[predict['robotics engineer'] == 1]\n",
        "Ids_re = predict_re.Id.to_list()\n",
        "predict_re = predict_re.drop(['algebra', 'data science','economics','data scientist','developer','junior developer','economist','senior developer','Id','salary','robotics engineer'], axis=1)"
      ],
      "metadata": {
        "id": "B1vdrgzVsOoK"
      },
      "execution_count": null,
      "outputs": []
    },
    {
      "cell_type": "code",
      "source": [
        "predict_re.head()"
      ],
      "metadata": {
        "colab": {
          "base_uri": "https://localhost:8080/",
          "height": 206
        },
        "id": "bn3nmEWysq2z",
        "outputId": "ab7a282f-c9bd-43af-ada6-8a1e44c5465e"
      },
      "execution_count": null,
      "outputs": [
        {
          "output_type": "execute_result",
          "data": {
            "text/plain": [
              "    programming  robotics\n",
              "0            59        54\n",
              "3            88        75\n",
              "11           77        69\n",
              "13           91        52\n",
              "14           72        75"
            ],
            "text/html": [
              "\n",
              "  <div id=\"df-d42b6d07-eaa1-457e-8b9f-a20b89fc7bf5\">\n",
              "    <div class=\"colab-df-container\">\n",
              "      <div>\n",
              "<style scoped>\n",
              "    .dataframe tbody tr th:only-of-type {\n",
              "        vertical-align: middle;\n",
              "    }\n",
              "\n",
              "    .dataframe tbody tr th {\n",
              "        vertical-align: top;\n",
              "    }\n",
              "\n",
              "    .dataframe thead th {\n",
              "        text-align: right;\n",
              "    }\n",
              "</style>\n",
              "<table border=\"1\" class=\"dataframe\">\n",
              "  <thead>\n",
              "    <tr style=\"text-align: right;\">\n",
              "      <th></th>\n",
              "      <th>programming</th>\n",
              "      <th>robotics</th>\n",
              "    </tr>\n",
              "  </thead>\n",
              "  <tbody>\n",
              "    <tr>\n",
              "      <th>0</th>\n",
              "      <td>59</td>\n",
              "      <td>54</td>\n",
              "    </tr>\n",
              "    <tr>\n",
              "      <th>3</th>\n",
              "      <td>88</td>\n",
              "      <td>75</td>\n",
              "    </tr>\n",
              "    <tr>\n",
              "      <th>11</th>\n",
              "      <td>77</td>\n",
              "      <td>69</td>\n",
              "    </tr>\n",
              "    <tr>\n",
              "      <th>13</th>\n",
              "      <td>91</td>\n",
              "      <td>52</td>\n",
              "    </tr>\n",
              "    <tr>\n",
              "      <th>14</th>\n",
              "      <td>72</td>\n",
              "      <td>75</td>\n",
              "    </tr>\n",
              "  </tbody>\n",
              "</table>\n",
              "</div>\n",
              "      <button class=\"colab-df-convert\" onclick=\"convertToInteractive('df-d42b6d07-eaa1-457e-8b9f-a20b89fc7bf5')\"\n",
              "              title=\"Convert this dataframe to an interactive table.\"\n",
              "              style=\"display:none;\">\n",
              "        \n",
              "  <svg xmlns=\"http://www.w3.org/2000/svg\" height=\"24px\"viewBox=\"0 0 24 24\"\n",
              "       width=\"24px\">\n",
              "    <path d=\"M0 0h24v24H0V0z\" fill=\"none\"/>\n",
              "    <path d=\"M18.56 5.44l.94 2.06.94-2.06 2.06-.94-2.06-.94-.94-2.06-.94 2.06-2.06.94zm-11 1L8.5 8.5l.94-2.06 2.06-.94-2.06-.94L8.5 2.5l-.94 2.06-2.06.94zm10 10l.94 2.06.94-2.06 2.06-.94-2.06-.94-.94-2.06-.94 2.06-2.06.94z\"/><path d=\"M17.41 7.96l-1.37-1.37c-.4-.4-.92-.59-1.43-.59-.52 0-1.04.2-1.43.59L10.3 9.45l-7.72 7.72c-.78.78-.78 2.05 0 2.83L4 21.41c.39.39.9.59 1.41.59.51 0 1.02-.2 1.41-.59l7.78-7.78 2.81-2.81c.8-.78.8-2.07 0-2.86zM5.41 20L4 18.59l7.72-7.72 1.47 1.35L5.41 20z\"/>\n",
              "  </svg>\n",
              "      </button>\n",
              "      \n",
              "  <style>\n",
              "    .colab-df-container {\n",
              "      display:flex;\n",
              "      flex-wrap:wrap;\n",
              "      gap: 12px;\n",
              "    }\n",
              "\n",
              "    .colab-df-convert {\n",
              "      background-color: #E8F0FE;\n",
              "      border: none;\n",
              "      border-radius: 50%;\n",
              "      cursor: pointer;\n",
              "      display: none;\n",
              "      fill: #1967D2;\n",
              "      height: 32px;\n",
              "      padding: 0 0 0 0;\n",
              "      width: 32px;\n",
              "    }\n",
              "\n",
              "    .colab-df-convert:hover {\n",
              "      background-color: #E2EBFA;\n",
              "      box-shadow: 0px 1px 2px rgba(60, 64, 67, 0.3), 0px 1px 3px 1px rgba(60, 64, 67, 0.15);\n",
              "      fill: #174EA6;\n",
              "    }\n",
              "\n",
              "    [theme=dark] .colab-df-convert {\n",
              "      background-color: #3B4455;\n",
              "      fill: #D2E3FC;\n",
              "    }\n",
              "\n",
              "    [theme=dark] .colab-df-convert:hover {\n",
              "      background-color: #434B5C;\n",
              "      box-shadow: 0px 1px 3px 1px rgba(0, 0, 0, 0.15);\n",
              "      filter: drop-shadow(0px 1px 2px rgba(0, 0, 0, 0.3));\n",
              "      fill: #FFFFFF;\n",
              "    }\n",
              "  </style>\n",
              "\n",
              "      <script>\n",
              "        const buttonEl =\n",
              "          document.querySelector('#df-d42b6d07-eaa1-457e-8b9f-a20b89fc7bf5 button.colab-df-convert');\n",
              "        buttonEl.style.display =\n",
              "          google.colab.kernel.accessAllowed ? 'block' : 'none';\n",
              "\n",
              "        async function convertToInteractive(key) {\n",
              "          const element = document.querySelector('#df-d42b6d07-eaa1-457e-8b9f-a20b89fc7bf5');\n",
              "          const dataTable =\n",
              "            await google.colab.kernel.invokeFunction('convertToInteractive',\n",
              "                                                     [key], {});\n",
              "          if (!dataTable) return;\n",
              "\n",
              "          const docLinkHtml = 'Like what you see? Visit the ' +\n",
              "            '<a target=\"_blank\" href=https://colab.research.google.com/notebooks/data_table.ipynb>data table notebook</a>'\n",
              "            + ' to learn more about interactive tables.';\n",
              "          element.innerHTML = '';\n",
              "          dataTable['output_type'] = 'display_data';\n",
              "          await google.colab.output.renderOutput(dataTable, element);\n",
              "          const docLink = document.createElement('div');\n",
              "          docLink.innerHTML = docLinkHtml;\n",
              "          element.appendChild(docLink);\n",
              "        }\n",
              "      </script>\n",
              "    </div>\n",
              "  </div>\n",
              "  "
            ]
          },
          "metadata": {},
          "execution_count": 84
        }
      ]
    },
    {
      "cell_type": "code",
      "source": [
        "predict_sd = predict[predict['senior developer'] == 1]\n",
        "Ids_sd = predict_sd.Id.to_list()\n",
        "predict_sd = predict_sd.drop(['economics', 'robotics','data scientist','developer','economist','robotics engineer','junior developer','Id','salary','senior developer'], axis=1)"
      ],
      "metadata": {
        "id": "fnaZlL-ksOk4"
      },
      "execution_count": null,
      "outputs": []
    },
    {
      "cell_type": "code",
      "source": [
        "predict_jd.head()"
      ],
      "metadata": {
        "colab": {
          "base_uri": "https://localhost:8080/",
          "height": 206
        },
        "id": "Y11VoaazsOgG",
        "outputId": "ddf1ab91-162f-40fe-e895-f27458ce24a3"
      },
      "execution_count": null,
      "outputs": [
        {
          "output_type": "execute_result",
          "data": {
            "text/plain": [
              "    algebra  programming  data science\n",
              "4        52           85            92\n",
              "6        56           50            76\n",
              "7        93           51            56\n",
              "10       56           90            93\n",
              "16       68           77            87"
            ],
            "text/html": [
              "\n",
              "  <div id=\"df-c5802913-24fa-4093-bae2-0bfd5779a22c\">\n",
              "    <div class=\"colab-df-container\">\n",
              "      <div>\n",
              "<style scoped>\n",
              "    .dataframe tbody tr th:only-of-type {\n",
              "        vertical-align: middle;\n",
              "    }\n",
              "\n",
              "    .dataframe tbody tr th {\n",
              "        vertical-align: top;\n",
              "    }\n",
              "\n",
              "    .dataframe thead th {\n",
              "        text-align: right;\n",
              "    }\n",
              "</style>\n",
              "<table border=\"1\" class=\"dataframe\">\n",
              "  <thead>\n",
              "    <tr style=\"text-align: right;\">\n",
              "      <th></th>\n",
              "      <th>algebra</th>\n",
              "      <th>programming</th>\n",
              "      <th>data science</th>\n",
              "    </tr>\n",
              "  </thead>\n",
              "  <tbody>\n",
              "    <tr>\n",
              "      <th>4</th>\n",
              "      <td>52</td>\n",
              "      <td>85</td>\n",
              "      <td>92</td>\n",
              "    </tr>\n",
              "    <tr>\n",
              "      <th>6</th>\n",
              "      <td>56</td>\n",
              "      <td>50</td>\n",
              "      <td>76</td>\n",
              "    </tr>\n",
              "    <tr>\n",
              "      <th>7</th>\n",
              "      <td>93</td>\n",
              "      <td>51</td>\n",
              "      <td>56</td>\n",
              "    </tr>\n",
              "    <tr>\n",
              "      <th>10</th>\n",
              "      <td>56</td>\n",
              "      <td>90</td>\n",
              "      <td>93</td>\n",
              "    </tr>\n",
              "    <tr>\n",
              "      <th>16</th>\n",
              "      <td>68</td>\n",
              "      <td>77</td>\n",
              "      <td>87</td>\n",
              "    </tr>\n",
              "  </tbody>\n",
              "</table>\n",
              "</div>\n",
              "      <button class=\"colab-df-convert\" onclick=\"convertToInteractive('df-c5802913-24fa-4093-bae2-0bfd5779a22c')\"\n",
              "              title=\"Convert this dataframe to an interactive table.\"\n",
              "              style=\"display:none;\">\n",
              "        \n",
              "  <svg xmlns=\"http://www.w3.org/2000/svg\" height=\"24px\"viewBox=\"0 0 24 24\"\n",
              "       width=\"24px\">\n",
              "    <path d=\"M0 0h24v24H0V0z\" fill=\"none\"/>\n",
              "    <path d=\"M18.56 5.44l.94 2.06.94-2.06 2.06-.94-2.06-.94-.94-2.06-.94 2.06-2.06.94zm-11 1L8.5 8.5l.94-2.06 2.06-.94-2.06-.94L8.5 2.5l-.94 2.06-2.06.94zm10 10l.94 2.06.94-2.06 2.06-.94-2.06-.94-.94-2.06-.94 2.06-2.06.94z\"/><path d=\"M17.41 7.96l-1.37-1.37c-.4-.4-.92-.59-1.43-.59-.52 0-1.04.2-1.43.59L10.3 9.45l-7.72 7.72c-.78.78-.78 2.05 0 2.83L4 21.41c.39.39.9.59 1.41.59.51 0 1.02-.2 1.41-.59l7.78-7.78 2.81-2.81c.8-.78.8-2.07 0-2.86zM5.41 20L4 18.59l7.72-7.72 1.47 1.35L5.41 20z\"/>\n",
              "  </svg>\n",
              "      </button>\n",
              "      \n",
              "  <style>\n",
              "    .colab-df-container {\n",
              "      display:flex;\n",
              "      flex-wrap:wrap;\n",
              "      gap: 12px;\n",
              "    }\n",
              "\n",
              "    .colab-df-convert {\n",
              "      background-color: #E8F0FE;\n",
              "      border: none;\n",
              "      border-radius: 50%;\n",
              "      cursor: pointer;\n",
              "      display: none;\n",
              "      fill: #1967D2;\n",
              "      height: 32px;\n",
              "      padding: 0 0 0 0;\n",
              "      width: 32px;\n",
              "    }\n",
              "\n",
              "    .colab-df-convert:hover {\n",
              "      background-color: #E2EBFA;\n",
              "      box-shadow: 0px 1px 2px rgba(60, 64, 67, 0.3), 0px 1px 3px 1px rgba(60, 64, 67, 0.15);\n",
              "      fill: #174EA6;\n",
              "    }\n",
              "\n",
              "    [theme=dark] .colab-df-convert {\n",
              "      background-color: #3B4455;\n",
              "      fill: #D2E3FC;\n",
              "    }\n",
              "\n",
              "    [theme=dark] .colab-df-convert:hover {\n",
              "      background-color: #434B5C;\n",
              "      box-shadow: 0px 1px 3px 1px rgba(0, 0, 0, 0.15);\n",
              "      filter: drop-shadow(0px 1px 2px rgba(0, 0, 0, 0.3));\n",
              "      fill: #FFFFFF;\n",
              "    }\n",
              "  </style>\n",
              "\n",
              "      <script>\n",
              "        const buttonEl =\n",
              "          document.querySelector('#df-c5802913-24fa-4093-bae2-0bfd5779a22c button.colab-df-convert');\n",
              "        buttonEl.style.display =\n",
              "          google.colab.kernel.accessAllowed ? 'block' : 'none';\n",
              "\n",
              "        async function convertToInteractive(key) {\n",
              "          const element = document.querySelector('#df-c5802913-24fa-4093-bae2-0bfd5779a22c');\n",
              "          const dataTable =\n",
              "            await google.colab.kernel.invokeFunction('convertToInteractive',\n",
              "                                                     [key], {});\n",
              "          if (!dataTable) return;\n",
              "\n",
              "          const docLinkHtml = 'Like what you see? Visit the ' +\n",
              "            '<a target=\"_blank\" href=https://colab.research.google.com/notebooks/data_table.ipynb>data table notebook</a>'\n",
              "            + ' to learn more about interactive tables.';\n",
              "          element.innerHTML = '';\n",
              "          dataTable['output_type'] = 'display_data';\n",
              "          await google.colab.output.renderOutput(dataTable, element);\n",
              "          const docLink = document.createElement('div');\n",
              "          docLink.innerHTML = docLinkHtml;\n",
              "          element.appendChild(docLink);\n",
              "        }\n",
              "      </script>\n",
              "    </div>\n",
              "  </div>\n",
              "  "
            ]
          },
          "metadata": {},
          "execution_count": 86
        }
      ]
    },
    {
      "cell_type": "code",
      "source": [
        "%%time\n",
        "y_predict_jd = RF_model_jd.predict(predict_jd)\n",
        "y_predict_ds = RF_model_ds.predict(predict_ds)\n",
        "y_predict_d = RF_model_d.predict(predict_d)\n",
        "y_predict_e = RF_model_e.predict(predict_e)\n",
        "y_predict_re = RF_model_re.predict(predict_re)\n",
        "y_predict_sd = RF_model_sd.predict(predict_sd)"
      ],
      "metadata": {
        "colab": {
          "base_uri": "https://localhost:8080/"
        },
        "id": "UcHDSTiPsOYC",
        "outputId": "4d5c1afa-3075-4d5c-8bc4-f7197e34f895"
      },
      "execution_count": null,
      "outputs": [
        {
          "output_type": "stream",
          "name": "stdout",
          "text": [
            "CPU times: user 742 ms, sys: 187 ms, total: 929 ms\n",
            "Wall time: 1.22 s\n"
          ]
        }
      ]
    },
    {
      "cell_type": "code",
      "source": [
        "output_jd = pd.DataFrame({\"Id\": Ids_jd, \"salary\": y_predict_jd})\n",
        "output_ds = pd.DataFrame({\"Id\": Ids_ds, \"salary\": y_predict_ds})\n",
        "output_d = pd.DataFrame({\"Id\": Ids_d, \"salary\": y_predict_d})\n",
        "output_e = pd.DataFrame({\"Id\": Ids_e, \"salary\": y_predict_e})\n",
        "output_re = pd.DataFrame({\"Id\": Ids_re, \"salary\": y_predict_re})\n",
        "output_sd = pd.DataFrame({\"Id\": Ids_sd, \"salary\": y_predict_sd})"
      ],
      "metadata": {
        "id": "QXqtnUgYtN88"
      },
      "execution_count": null,
      "outputs": []
    },
    {
      "cell_type": "code",
      "source": [
        "output=output_jd.append([output_ds,output_d,output_e,output_re,output_sd], ignore_index = True)"
      ],
      "metadata": {
        "id": "xGRyNXw_tNz6"
      },
      "execution_count": null,
      "outputs": []
    },
    {
      "cell_type": "code",
      "source": [
        "output=output.sort_values(by=['Id'])\n",
        "output"
      ],
      "metadata": {
        "id": "zBZBdYMbtNsK",
        "colab": {
          "base_uri": "https://localhost:8080/",
          "height": 423
        },
        "outputId": "75ec24b7-4b11-40b3-f59e-f2ba82300040"
      },
      "execution_count": null,
      "outputs": [
        {
          "output_type": "execute_result",
          "data": {
            "text/plain": [
              "       Id         salary\n",
              "673  9000  763419.000000\n",
              "836  9001  540080.000000\n",
              "351  9002  342820.000000\n",
              "674  9003  925436.666667\n",
              "0    9004  151300.000000\n",
              "..    ...            ...\n",
              "172  9995  178240.000000\n",
              "672  9996  382889.333333\n",
              "507  9997  327680.000000\n",
              "173  9998  140260.000000\n",
              "350  9999  850520.000000\n",
              "\n",
              "[1000 rows x 2 columns]"
            ],
            "text/html": [
              "\n",
              "  <div id=\"df-d0192dd5-38b1-4784-bb0e-dc5fe31c7c39\">\n",
              "    <div class=\"colab-df-container\">\n",
              "      <div>\n",
              "<style scoped>\n",
              "    .dataframe tbody tr th:only-of-type {\n",
              "        vertical-align: middle;\n",
              "    }\n",
              "\n",
              "    .dataframe tbody tr th {\n",
              "        vertical-align: top;\n",
              "    }\n",
              "\n",
              "    .dataframe thead th {\n",
              "        text-align: right;\n",
              "    }\n",
              "</style>\n",
              "<table border=\"1\" class=\"dataframe\">\n",
              "  <thead>\n",
              "    <tr style=\"text-align: right;\">\n",
              "      <th></th>\n",
              "      <th>Id</th>\n",
              "      <th>salary</th>\n",
              "    </tr>\n",
              "  </thead>\n",
              "  <tbody>\n",
              "    <tr>\n",
              "      <th>673</th>\n",
              "      <td>9000</td>\n",
              "      <td>763419.000000</td>\n",
              "    </tr>\n",
              "    <tr>\n",
              "      <th>836</th>\n",
              "      <td>9001</td>\n",
              "      <td>540080.000000</td>\n",
              "    </tr>\n",
              "    <tr>\n",
              "      <th>351</th>\n",
              "      <td>9002</td>\n",
              "      <td>342820.000000</td>\n",
              "    </tr>\n",
              "    <tr>\n",
              "      <th>674</th>\n",
              "      <td>9003</td>\n",
              "      <td>925436.666667</td>\n",
              "    </tr>\n",
              "    <tr>\n",
              "      <th>0</th>\n",
              "      <td>9004</td>\n",
              "      <td>151300.000000</td>\n",
              "    </tr>\n",
              "    <tr>\n",
              "      <th>...</th>\n",
              "      <td>...</td>\n",
              "      <td>...</td>\n",
              "    </tr>\n",
              "    <tr>\n",
              "      <th>172</th>\n",
              "      <td>9995</td>\n",
              "      <td>178240.000000</td>\n",
              "    </tr>\n",
              "    <tr>\n",
              "      <th>672</th>\n",
              "      <td>9996</td>\n",
              "      <td>382889.333333</td>\n",
              "    </tr>\n",
              "    <tr>\n",
              "      <th>507</th>\n",
              "      <td>9997</td>\n",
              "      <td>327680.000000</td>\n",
              "    </tr>\n",
              "    <tr>\n",
              "      <th>173</th>\n",
              "      <td>9998</td>\n",
              "      <td>140260.000000</td>\n",
              "    </tr>\n",
              "    <tr>\n",
              "      <th>350</th>\n",
              "      <td>9999</td>\n",
              "      <td>850520.000000</td>\n",
              "    </tr>\n",
              "  </tbody>\n",
              "</table>\n",
              "<p>1000 rows × 2 columns</p>\n",
              "</div>\n",
              "      <button class=\"colab-df-convert\" onclick=\"convertToInteractive('df-d0192dd5-38b1-4784-bb0e-dc5fe31c7c39')\"\n",
              "              title=\"Convert this dataframe to an interactive table.\"\n",
              "              style=\"display:none;\">\n",
              "        \n",
              "  <svg xmlns=\"http://www.w3.org/2000/svg\" height=\"24px\"viewBox=\"0 0 24 24\"\n",
              "       width=\"24px\">\n",
              "    <path d=\"M0 0h24v24H0V0z\" fill=\"none\"/>\n",
              "    <path d=\"M18.56 5.44l.94 2.06.94-2.06 2.06-.94-2.06-.94-.94-2.06-.94 2.06-2.06.94zm-11 1L8.5 8.5l.94-2.06 2.06-.94-2.06-.94L8.5 2.5l-.94 2.06-2.06.94zm10 10l.94 2.06.94-2.06 2.06-.94-2.06-.94-.94-2.06-.94 2.06-2.06.94z\"/><path d=\"M17.41 7.96l-1.37-1.37c-.4-.4-.92-.59-1.43-.59-.52 0-1.04.2-1.43.59L10.3 9.45l-7.72 7.72c-.78.78-.78 2.05 0 2.83L4 21.41c.39.39.9.59 1.41.59.51 0 1.02-.2 1.41-.59l7.78-7.78 2.81-2.81c.8-.78.8-2.07 0-2.86zM5.41 20L4 18.59l7.72-7.72 1.47 1.35L5.41 20z\"/>\n",
              "  </svg>\n",
              "      </button>\n",
              "      \n",
              "  <style>\n",
              "    .colab-df-container {\n",
              "      display:flex;\n",
              "      flex-wrap:wrap;\n",
              "      gap: 12px;\n",
              "    }\n",
              "\n",
              "    .colab-df-convert {\n",
              "      background-color: #E8F0FE;\n",
              "      border: none;\n",
              "      border-radius: 50%;\n",
              "      cursor: pointer;\n",
              "      display: none;\n",
              "      fill: #1967D2;\n",
              "      height: 32px;\n",
              "      padding: 0 0 0 0;\n",
              "      width: 32px;\n",
              "    }\n",
              "\n",
              "    .colab-df-convert:hover {\n",
              "      background-color: #E2EBFA;\n",
              "      box-shadow: 0px 1px 2px rgba(60, 64, 67, 0.3), 0px 1px 3px 1px rgba(60, 64, 67, 0.15);\n",
              "      fill: #174EA6;\n",
              "    }\n",
              "\n",
              "    [theme=dark] .colab-df-convert {\n",
              "      background-color: #3B4455;\n",
              "      fill: #D2E3FC;\n",
              "    }\n",
              "\n",
              "    [theme=dark] .colab-df-convert:hover {\n",
              "      background-color: #434B5C;\n",
              "      box-shadow: 0px 1px 3px 1px rgba(0, 0, 0, 0.15);\n",
              "      filter: drop-shadow(0px 1px 2px rgba(0, 0, 0, 0.3));\n",
              "      fill: #FFFFFF;\n",
              "    }\n",
              "  </style>\n",
              "\n",
              "      <script>\n",
              "        const buttonEl =\n",
              "          document.querySelector('#df-d0192dd5-38b1-4784-bb0e-dc5fe31c7c39 button.colab-df-convert');\n",
              "        buttonEl.style.display =\n",
              "          google.colab.kernel.accessAllowed ? 'block' : 'none';\n",
              "\n",
              "        async function convertToInteractive(key) {\n",
              "          const element = document.querySelector('#df-d0192dd5-38b1-4784-bb0e-dc5fe31c7c39');\n",
              "          const dataTable =\n",
              "            await google.colab.kernel.invokeFunction('convertToInteractive',\n",
              "                                                     [key], {});\n",
              "          if (!dataTable) return;\n",
              "\n",
              "          const docLinkHtml = 'Like what you see? Visit the ' +\n",
              "            '<a target=\"_blank\" href=https://colab.research.google.com/notebooks/data_table.ipynb>data table notebook</a>'\n",
              "            + ' to learn more about interactive tables.';\n",
              "          element.innerHTML = '';\n",
              "          dataTable['output_type'] = 'display_data';\n",
              "          await google.colab.output.renderOutput(dataTable, element);\n",
              "          const docLink = document.createElement('div');\n",
              "          docLink.innerHTML = docLinkHtml;\n",
              "          element.appendChild(docLink);\n",
              "        }\n",
              "      </script>\n",
              "    </div>\n",
              "  </div>\n",
              "  "
            ]
          },
          "metadata": {},
          "execution_count": 90
        }
      ]
    },
    {
      "cell_type": "code",
      "source": [
        "output = output.astype(int)\n",
        "output"
      ],
      "metadata": {
        "id": "wYsSiHHFtNiW",
        "colab": {
          "base_uri": "https://localhost:8080/",
          "height": 423
        },
        "outputId": "c3da63b9-e501-4be2-89d1-fcdb5a9db329"
      },
      "execution_count": null,
      "outputs": [
        {
          "output_type": "execute_result",
          "data": {
            "text/plain": [
              "       Id  salary\n",
              "673  9000  763419\n",
              "836  9001  540080\n",
              "351  9002  342820\n",
              "674  9003  925436\n",
              "0    9004  151300\n",
              "..    ...     ...\n",
              "172  9995  178240\n",
              "672  9996  382889\n",
              "507  9997  327680\n",
              "173  9998  140260\n",
              "350  9999  850520\n",
              "\n",
              "[1000 rows x 2 columns]"
            ],
            "text/html": [
              "\n",
              "  <div id=\"df-4a714a8d-47ca-4691-857b-0aa7862e330a\">\n",
              "    <div class=\"colab-df-container\">\n",
              "      <div>\n",
              "<style scoped>\n",
              "    .dataframe tbody tr th:only-of-type {\n",
              "        vertical-align: middle;\n",
              "    }\n",
              "\n",
              "    .dataframe tbody tr th {\n",
              "        vertical-align: top;\n",
              "    }\n",
              "\n",
              "    .dataframe thead th {\n",
              "        text-align: right;\n",
              "    }\n",
              "</style>\n",
              "<table border=\"1\" class=\"dataframe\">\n",
              "  <thead>\n",
              "    <tr style=\"text-align: right;\">\n",
              "      <th></th>\n",
              "      <th>Id</th>\n",
              "      <th>salary</th>\n",
              "    </tr>\n",
              "  </thead>\n",
              "  <tbody>\n",
              "    <tr>\n",
              "      <th>673</th>\n",
              "      <td>9000</td>\n",
              "      <td>763419</td>\n",
              "    </tr>\n",
              "    <tr>\n",
              "      <th>836</th>\n",
              "      <td>9001</td>\n",
              "      <td>540080</td>\n",
              "    </tr>\n",
              "    <tr>\n",
              "      <th>351</th>\n",
              "      <td>9002</td>\n",
              "      <td>342820</td>\n",
              "    </tr>\n",
              "    <tr>\n",
              "      <th>674</th>\n",
              "      <td>9003</td>\n",
              "      <td>925436</td>\n",
              "    </tr>\n",
              "    <tr>\n",
              "      <th>0</th>\n",
              "      <td>9004</td>\n",
              "      <td>151300</td>\n",
              "    </tr>\n",
              "    <tr>\n",
              "      <th>...</th>\n",
              "      <td>...</td>\n",
              "      <td>...</td>\n",
              "    </tr>\n",
              "    <tr>\n",
              "      <th>172</th>\n",
              "      <td>9995</td>\n",
              "      <td>178240</td>\n",
              "    </tr>\n",
              "    <tr>\n",
              "      <th>672</th>\n",
              "      <td>9996</td>\n",
              "      <td>382889</td>\n",
              "    </tr>\n",
              "    <tr>\n",
              "      <th>507</th>\n",
              "      <td>9997</td>\n",
              "      <td>327680</td>\n",
              "    </tr>\n",
              "    <tr>\n",
              "      <th>173</th>\n",
              "      <td>9998</td>\n",
              "      <td>140260</td>\n",
              "    </tr>\n",
              "    <tr>\n",
              "      <th>350</th>\n",
              "      <td>9999</td>\n",
              "      <td>850520</td>\n",
              "    </tr>\n",
              "  </tbody>\n",
              "</table>\n",
              "<p>1000 rows × 2 columns</p>\n",
              "</div>\n",
              "      <button class=\"colab-df-convert\" onclick=\"convertToInteractive('df-4a714a8d-47ca-4691-857b-0aa7862e330a')\"\n",
              "              title=\"Convert this dataframe to an interactive table.\"\n",
              "              style=\"display:none;\">\n",
              "        \n",
              "  <svg xmlns=\"http://www.w3.org/2000/svg\" height=\"24px\"viewBox=\"0 0 24 24\"\n",
              "       width=\"24px\">\n",
              "    <path d=\"M0 0h24v24H0V0z\" fill=\"none\"/>\n",
              "    <path d=\"M18.56 5.44l.94 2.06.94-2.06 2.06-.94-2.06-.94-.94-2.06-.94 2.06-2.06.94zm-11 1L8.5 8.5l.94-2.06 2.06-.94-2.06-.94L8.5 2.5l-.94 2.06-2.06.94zm10 10l.94 2.06.94-2.06 2.06-.94-2.06-.94-.94-2.06-.94 2.06-2.06.94z\"/><path d=\"M17.41 7.96l-1.37-1.37c-.4-.4-.92-.59-1.43-.59-.52 0-1.04.2-1.43.59L10.3 9.45l-7.72 7.72c-.78.78-.78 2.05 0 2.83L4 21.41c.39.39.9.59 1.41.59.51 0 1.02-.2 1.41-.59l7.78-7.78 2.81-2.81c.8-.78.8-2.07 0-2.86zM5.41 20L4 18.59l7.72-7.72 1.47 1.35L5.41 20z\"/>\n",
              "  </svg>\n",
              "      </button>\n",
              "      \n",
              "  <style>\n",
              "    .colab-df-container {\n",
              "      display:flex;\n",
              "      flex-wrap:wrap;\n",
              "      gap: 12px;\n",
              "    }\n",
              "\n",
              "    .colab-df-convert {\n",
              "      background-color: #E8F0FE;\n",
              "      border: none;\n",
              "      border-radius: 50%;\n",
              "      cursor: pointer;\n",
              "      display: none;\n",
              "      fill: #1967D2;\n",
              "      height: 32px;\n",
              "      padding: 0 0 0 0;\n",
              "      width: 32px;\n",
              "    }\n",
              "\n",
              "    .colab-df-convert:hover {\n",
              "      background-color: #E2EBFA;\n",
              "      box-shadow: 0px 1px 2px rgba(60, 64, 67, 0.3), 0px 1px 3px 1px rgba(60, 64, 67, 0.15);\n",
              "      fill: #174EA6;\n",
              "    }\n",
              "\n",
              "    [theme=dark] .colab-df-convert {\n",
              "      background-color: #3B4455;\n",
              "      fill: #D2E3FC;\n",
              "    }\n",
              "\n",
              "    [theme=dark] .colab-df-convert:hover {\n",
              "      background-color: #434B5C;\n",
              "      box-shadow: 0px 1px 3px 1px rgba(0, 0, 0, 0.15);\n",
              "      filter: drop-shadow(0px 1px 2px rgba(0, 0, 0, 0.3));\n",
              "      fill: #FFFFFF;\n",
              "    }\n",
              "  </style>\n",
              "\n",
              "      <script>\n",
              "        const buttonEl =\n",
              "          document.querySelector('#df-4a714a8d-47ca-4691-857b-0aa7862e330a button.colab-df-convert');\n",
              "        buttonEl.style.display =\n",
              "          google.colab.kernel.accessAllowed ? 'block' : 'none';\n",
              "\n",
              "        async function convertToInteractive(key) {\n",
              "          const element = document.querySelector('#df-4a714a8d-47ca-4691-857b-0aa7862e330a');\n",
              "          const dataTable =\n",
              "            await google.colab.kernel.invokeFunction('convertToInteractive',\n",
              "                                                     [key], {});\n",
              "          if (!dataTable) return;\n",
              "\n",
              "          const docLinkHtml = 'Like what you see? Visit the ' +\n",
              "            '<a target=\"_blank\" href=https://colab.research.google.com/notebooks/data_table.ipynb>data table notebook</a>'\n",
              "            + ' to learn more about interactive tables.';\n",
              "          element.innerHTML = '';\n",
              "          dataTable['output_type'] = 'display_data';\n",
              "          await google.colab.output.renderOutput(dataTable, element);\n",
              "          const docLink = document.createElement('div');\n",
              "          docLink.innerHTML = docLinkHtml;\n",
              "          element.appendChild(docLink);\n",
              "        }\n",
              "      </script>\n",
              "    </div>\n",
              "  </div>\n",
              "  "
            ]
          },
          "metadata": {},
          "execution_count": 91
        }
      ]
    }
  ]
}